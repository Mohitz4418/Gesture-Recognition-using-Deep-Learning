{
 "cells": [
  {
   "cell_type": "markdown",
   "metadata": {},
   "source": [
    "# Gesture Recognition: Rahul Anand\n",
    "In this group project, we are going to build a 3D model that will be able to predict the 5 gestures correctly. Please import the following libraries to get started."
   ]
  },
  {
   "cell_type": "code",
   "execution_count": 2,
   "metadata": {},
   "outputs": [
    {
     "name": "stderr",
     "output_type": "stream",
     "text": [
      "Using TensorFlow backend.\n"
     ]
    }
   ],
   "source": [
    "import numpy as np\n",
    "import os\n",
    "from scipy.misc import imread, imresize\n",
    "import datetime\n",
    "import os\n",
    "from keras.models import Sequential, Model\n",
    "from keras.layers import Dense, GRU, Flatten, TimeDistributed, Flatten, BatchNormalization, Activation,Dropout,Input,LSTM\n",
    "from keras.layers.convolutional import Conv3D, MaxPooling3D,Conv2D, MaxPooling2D\n",
    "from keras.callbacks import ModelCheckpoint, ReduceLROnPlateau\n",
    "from keras import optimizers\n",
    "import warnings\n",
    "import abc\n",
    "import cv2\n",
    "warnings.filterwarnings('ignore')"
   ]
  },
  {
   "cell_type": "markdown",
   "metadata": {},
   "source": [
    "We set the random seed so that the results don't vary drastically."
   ]
  },
  {
   "cell_type": "code",
   "execution_count": 3,
   "metadata": {},
   "outputs": [],
   "source": [
    "np.random.seed(30)\n",
    "import random as rn\n",
    "rn.seed(30)\n",
    "from keras import backend as K\n",
    "import tensorflow as tf\n",
    "tf.set_random_seed(30)"
   ]
  },
  {
   "cell_type": "markdown",
   "metadata": {},
   "source": [
    "In this block, you read the folder names for training and validation. You also set the `batch_size` here. Note that you set the batch size in such a way that you are able to use the GPU in full capacity. You keep increasing the batch size until the machine throws an error."
   ]
  },
  {
   "cell_type": "code",
   "execution_count": 4,
   "metadata": {},
   "outputs": [],
   "source": [
    "os.getcwd()\n",
    "project_folder='Project_data'"
   ]
  },
  {
   "cell_type": "code",
   "execution_count": 5,
   "metadata": {},
   "outputs": [],
   "source": [
    "train_doc = np.random.permutation(open('/mnt/disks/user/project/PROJECT/Project_data/train.csv').readlines())\n",
    "val_doc = np.random.permutation(open('/mnt/disks/user/project/PROJECT/Project_data/val.csv').readlines())\n"
   ]
  },
  {
   "cell_type": "markdown",
   "metadata": {},
   "source": [
    "#### Image Processor\n",
    "The objective of this function is: Resize the images as per transform_size given by user, or take it as (120,120)\n",
    "\n",
    "Reason\n",
    "\n",
    "In the training data we have 2 types of video, where video frame sizes are as (360,360) and (160,120) Therefore to keep things consistent, we build a image processor which perform cropping of the image.\n",
    "\n",
    "#### Note\n",
    "\n",
    "Cropping is done as a centered image, i.e., we take the center as the reference and crop the images from both sides. For (360,360) we can use skimage.transform.resize function. However, for (160,120) we will have to some manual processing to crop images by the center."
   ]
  },
  {
   "cell_type": "code",
   "execution_count": 6,
   "metadata": {},
   "outputs": [],
   "source": [
    "from skimage.transform import resize\n",
    "def image_processor(orig_image,transform_size=(120,120)):\n",
    "    new_image = orig_image\n",
    "    if orig_image.shape == (360,360,3):\n",
    "        new_image = resize(orig_image,transform_size)\n",
    "    else:\n",
    "        start_row = (orig_image.shape[0] - transform_size[0])//2\n",
    "        end_row = start_row + transform_size[0]\n",
    "        \n",
    "        start_col = (orig_image.shape[1] - transform_size[1])//2\n",
    "        end_col = start_col + transform_size[1]\n",
    "        new_image = orig_image[start_row:end_row,start_col:end_col,:]\n",
    "    return(new_image)"
   ]
  },
  {
   "cell_type": "markdown",
   "metadata": {},
   "source": [
    "#### Sequence Generator\n",
    "This function provides a list of frame sequences we would like to use training\n",
    "\n",
    "Arguments:choiceoflist\n",
    "\n",
    "choicelist\n",
    "0 --> range(0,30,1)<br>\n",
    "1 --> range(0,30,2)<br>\n",
    "2 --> [0,1,2,3,4,5,6,9,12,15,18,21,24,25,26,27,28,29]\n",
    "\t"
   ]
  },
  {
   "cell_type": "code",
   "execution_count": 7,
   "metadata": {},
   "outputs": [],
   "source": [
    "def getframeselectionlist(choiceoflist=0):\n",
    "    if choiceoflist==0:\n",
    "        return [frame for frame in range(0,30,1)] # Returns 100% of frames, number of frames=30\n",
    "    elif choiceoflist==1:\n",
    "        return [frame for frame in range(0,30,2)] # returns 50% of frames, number of frames=15\n",
    "    elif choiceoflist==2:\n",
    "                \n",
    "        frame_sequence=[]\n",
    "        \n",
    "        startframesequence=[0,1,2,3,4,5]\n",
    "        endframesequence=[25,26,27,28,29]\n",
    "        skip_sequence=3  #\n",
    "        middleframesequnce=[k for k in range(6,25,skip_sequence)]\n",
    "        \n",
    "        frame_sequence.extend(startframesequence)\n",
    "        frame_sequence.extend(middleframesequnce)\n",
    "        frame_sequence.extend(endframesequence)\n",
    "        \n",
    "        return frame_sequence"
   ]
  },
  {
   "cell_type": "markdown",
   "metadata": {},
   "source": [
    "### Generator\n",
    "This is heart of complete training process. It pumps batched data to network during learning and prediction both. The function description is given below\n",
    "\n",
    "#### Arguments\n",
    "\n",
    "1. Source Path - Directory path to be considered for reading video/images frames\n",
    "2. folder_list - Lines from the train_doc we read above.\n",
    "3. batch_size - The batch_size we want to select.\n",
    "4. transform_size - The image transformation size we (Default - (120,120)\n",
    "5. frame_selection_list - frame_list obtained from frame_generator (Default - range(30))."
   ]
  },
  {
   "cell_type": "code",
   "execution_count": 8,
   "metadata": {},
   "outputs": [],
   "source": [
    "def generator(source_path,\n",
    "              folder_list,\n",
    "              batch_size,\n",
    "              transform_size = (120,120),\n",
    "              frame_selection_list = range(30)):\n",
    "    print( 'Source path = ', source_path, '; batch size =', batch_size)\n",
    "    img_idx = frame_selection_list\n",
    "    channels = 3\n",
    "    while True:\n",
    "        t = np.random.permutation(folder_list)\n",
    "        num_batches = int(len(t) / batch_size) if len(t) % batch_size == 0 else (len(t) // batch_size)\n",
    "        for batch in range(num_batches): # we iterate over the number of batches\n",
    "            batch_data = np.zeros((batch_size,len(frame_selection_list),transform_size[0],transform_size[1],channels)) # x is the number of images you use for each video, (y,z) is the final size of the input images and 3 is the number of channels RGB\n",
    "            batch_labels = np.zeros((batch_size,5)) # batch_labels is the one hot representation of the output\n",
    "            for folder in range(batch_size): # iterate over the batch_size\n",
    "                imgs = os.listdir(source_path+'/'+ t[folder + (batch*batch_size)].split(';')[0]) # read all the images in the folder\n",
    "                #print(t[folder + (batch*batch_size)].split(';')[0])\n",
    "                for idx,item in enumerate(img_idx): #  Iterate iver the frames/images of a folder to read them in\n",
    "                    image = imread(source_path+'/'+ t[folder + (batch*batch_size)].strip().split(';')[0]+'/'+imgs[item]).astype(np.float32)\n",
    "                    #crop the images and resize them. Note that the images are of 2 different shape \n",
    "                    #and the conv3D will throw error if the inputs in a batch have different shapes\n",
    "                    image = image_processor(image,transform_size)\n",
    "                    # This is when we are building a Conv3D network\n",
    "                    image = image/255\n",
    "\n",
    "                    batch_data[folder,idx,:,:,0] = image[:,:,0]\n",
    "                    batch_data[folder,idx,:,:,1] = image[:,:,1]\n",
    "                    batch_data[folder,idx,:,:,2] = image[:,:,2]\n",
    "                    \n",
    "                batch_labels[folder, int(t[folder + (batch*batch_size)].strip().split(';')[2])] = 1\n",
    "            yield batch_data, batch_labels #you yield the batch_data and the batch_labels, remember what does yield do\n",
    "        \n",
    "        # write the code for the remaining data points which are left after full batches\n",
    "        # remaining data #\n",
    "        if len(t) % batch_size != 0:                                      # Execute only if, we need to\n",
    "            batch_data = np.zeros((len(t) % batch_size,len(frame_selection_list),transform_size[0],transform_size[1],channels))     # fix the last batch size\n",
    "            batch_labels = np.zeros((len(t) % batch_size,5))              # Similarly, for labels\n",
    "            for v_idx,folder in enumerate(t[(num_batches*batch_size):]):\n",
    "                #print(folder.split(';')[0])\n",
    "                imgs = os.listdir(source_path+\"/\"+folder.split(';')[0])\n",
    "                for idx, item in enumerate(img_idx):\n",
    "                    image = imread(source_path+'/'+folder.split(';')[0]+\"/\"+imgs[item]).astype(np.float32)\n",
    "                    image = image_processor(image,transform_size)\n",
    "                    # This is when we are building a Conv3D network\n",
    "                    image = image/255\n",
    "\n",
    "                    batch_data[v_idx,idx,:,:,0] = image[:,:,0]\n",
    "                    batch_data[v_idx,idx,:,:,1] = image[:,:,1]\n",
    "                    batch_data[v_idx,idx,:,:,0] = image[:,:,2]\n",
    "                batch_labels[v_idx,int(folder.split(\";\")[2])] = 1\n",
    "            yield batch_data,batch_labels"
   ]
  },
  {
   "cell_type": "markdown",
   "metadata": {},
   "source": [
    "Note here that a video is represented above in the generator as (number of images, height, width, number of channels). Take this into consideration while creating the model architecture."
   ]
  },
  {
   "cell_type": "code",
   "execution_count": 9,
   "metadata": {},
   "outputs": [
    {
     "name": "stdout",
     "output_type": "stream",
     "text": [
      "# training sequences = 663\n",
      "# validation sequences = 100\n"
     ]
    }
   ],
   "source": [
    "curr_dt_time = datetime.datetime.now()\n",
    "train_path = '/mnt/disks/user/project/PROJECT/Project_data/train'\n",
    "val_path = '/mnt/disks/user/project/PROJECT/Project_data/val'\n",
    "num_train_sequences = len(train_doc)\n",
    "print('# training sequences =', num_train_sequences)\n",
    "num_val_sequences = len(val_doc)\n",
    "print('# validation sequences =', num_val_sequences)\n"
   ]
  },
  {
   "cell_type": "markdown",
   "metadata": {},
   "source": [
    "## Model\n",
    "Now we will start making different models"
   ]
  },
  {
   "cell_type": "markdown",
   "metadata": {},
   "source": [
    "### 1. Simple CNN3D model"
   ]
  },
  {
   "cell_type": "code",
   "execution_count": 15,
   "metadata": {},
   "outputs": [
    {
     "name": "stdout",
     "output_type": "stream",
     "text": [
      "Source path =  /mnt/disks/user/project/PROJECT/Project_data/train ; batch size = 16\n",
      "Input Sample shape : (16, 30, 120, 120, 3)\n"
     ]
    }
   ],
   "source": [
    "train_data = train_doc\n",
    "val_data = val_doc\n",
    "transform_size = (120,120)\n",
    "batch_size = 16\n",
    "num_epochs = 5\n",
    "frame_selection_list = getframeselectionlist(choiceoflist=0)\n",
    "model_name = \"simpleCNN3D\"\n",
    "input_sample = next(generator(train_path,\n",
    "                              train_data, \n",
    "                              batch_size=batch_size,\n",
    "                              transform_size=transform_size,\n",
    "                              frame_selection_list=frame_selection_list))\n",
    "print(\"Input Sample shape : %s\" %(str(input_sample[0].shape)))\n",
    "model = Sequential()\n",
    "model.add(Conv3D(16,(3,3,3),padding=\"same\",input_shape=(input_sample[0].shape[1],input_sample[0].shape[2],input_sample[0].shape[3],input_sample[0].shape[4])))\n",
    "model.add(Activation(\"relu\"))\n",
    "model.add(MaxPooling3D(pool_size=(2,2,2)))\n",
    "\n",
    "model.add(Conv3D(8,(3,3,3),padding=\"same\"))\n",
    "model.add(Activation(\"relu\"))\n",
    "model.add(MaxPooling3D(pool_size=(3,3,3)))\n",
    "\n",
    "model.add(Conv3D(8,(3,3,3),padding=\"same\"))\n",
    "model.add(Activation(\"relu\"))\n",
    "model.add(MaxPooling3D(pool_size=(2,2,2)))\n",
    "\n",
    "model.add(Flatten())\n",
    "model.add(Dense(128,activation='relu'))\n",
    "model.add(BatchNormalization())\n",
    "\n",
    "model.add(Dense(64,activation='relu'))\n",
    "model.add(BatchNormalization())\n",
    "\n",
    "model.add(Dense(input_sample[1].shape[1], activation='softmax'))"
   ]
  },
  {
   "cell_type": "markdown",
   "metadata": {},
   "source": [
    "Now that you have written the model, the next step is to `compile` the model. When you print the `summary` of the model, you'll see the total number of parameters you have to train."
   ]
  },
  {
   "cell_type": "code",
   "execution_count": 16,
   "metadata": {
    "scrolled": true
   },
   "outputs": [
    {
     "name": "stdout",
     "output_type": "stream",
     "text": [
      "_________________________________________________________________\n",
      "Layer (type)                 Output Shape              Param #   \n",
      "=================================================================\n",
      "conv3d_10 (Conv3D)           (None, 30, 120, 120, 16)  1312      \n",
      "_________________________________________________________________\n",
      "activation_10 (Activation)   (None, 30, 120, 120, 16)  0         \n",
      "_________________________________________________________________\n",
      "max_pooling3d_10 (MaxPooling (None, 15, 60, 60, 16)    0         \n",
      "_________________________________________________________________\n",
      "conv3d_11 (Conv3D)           (None, 15, 60, 60, 8)     3464      \n",
      "_________________________________________________________________\n",
      "activation_11 (Activation)   (None, 15, 60, 60, 8)     0         \n",
      "_________________________________________________________________\n",
      "max_pooling3d_11 (MaxPooling (None, 5, 20, 20, 8)      0         \n",
      "_________________________________________________________________\n",
      "conv3d_12 (Conv3D)           (None, 5, 20, 20, 8)      1736      \n",
      "_________________________________________________________________\n",
      "activation_12 (Activation)   (None, 5, 20, 20, 8)      0         \n",
      "_________________________________________________________________\n",
      "max_pooling3d_12 (MaxPooling (None, 2, 10, 10, 8)      0         \n",
      "_________________________________________________________________\n",
      "flatten_5 (Flatten)          (None, 1600)              0         \n",
      "_________________________________________________________________\n",
      "dense_13 (Dense)             (None, 128)               204928    \n",
      "_________________________________________________________________\n",
      "batch_normalization_9 (Batch (None, 128)               512       \n",
      "_________________________________________________________________\n",
      "dense_14 (Dense)             (None, 64)                8256      \n",
      "_________________________________________________________________\n",
      "batch_normalization_10 (Batc (None, 64)                256       \n",
      "_________________________________________________________________\n",
      "dense_15 (Dense)             (None, 5)                 325       \n",
      "=================================================================\n",
      "Total params: 220,789\n",
      "Trainable params: 220,405\n",
      "Non-trainable params: 384\n",
      "_________________________________________________________________\n",
      "None\n"
     ]
    }
   ],
   "source": [
    "optimiser = optimizers.Adam(lr=0.0002)#write your optimizer\n",
    "model.compile(optimizer=optimiser, loss='categorical_crossentropy', metrics=['categorical_accuracy'])\n",
    "print (model.summary())"
   ]
  },
  {
   "cell_type": "markdown",
   "metadata": {},
   "source": [
    "Let us create the `train_generator` and the `val_generator` which will be used in `.fit_generator`."
   ]
  },
  {
   "cell_type": "code",
   "execution_count": 17,
   "metadata": {},
   "outputs": [],
   "source": [
    "train_generator = generator(train_path,\n",
    "                            train_data, \n",
    "                            batch_size=batch_size,\n",
    "                            transform_size=transform_size,\n",
    "                            frame_selection_list=frame_selection_list)\n",
    "val_generator = generator(val_path,\n",
    "                          val_data, \n",
    "                          batch_size=batch_size,\n",
    "                          transform_size=transform_size,\n",
    "                          frame_selection_list=frame_selection_list)"
   ]
  },
  {
   "cell_type": "markdown",
   "metadata": {},
   "source": [
    "\n",
    "#### Setting up extra parameter for Neural Network\n",
    "##### ModelCheckPoint\n",
    "We build modelcheckpoint to save models after every epoch, so that we can refer to models to best model later on for final testing.\n",
    "\n",
    "##### ReduceLROnPlateau\n",
    "If the val_loss value stops improving after patience number of epochs, we reduce the learning rate so as to take smaller steps down the gradient route for raeaching global minimum and avoid getting stuch at local minimum.\n",
    "\n"
   ]
  },
  {
   "cell_type": "code",
   "execution_count": 18,
   "metadata": {},
   "outputs": [],
   "source": [
    "model_name = 'model_init' + '_' + str(curr_dt_time).replace(' ','').replace(':','_') + '/'\n",
    "    \n",
    "if not os.path.exists(model_name):\n",
    "    os.mkdir(model_name)\n",
    "        \n",
    "filepath = model_name + 'model-{epoch:05d}-{loss:.5f}-{categorical_accuracy:.5f}-{val_loss:.5f}-{val_categorical_accuracy:.5f}.h5'\n",
    "\n",
    "checkpoint = ModelCheckpoint(filepath, monitor='val_loss', verbose=1, save_best_only=False, save_weights_only=False, mode='auto', period=1)\n",
    "\n",
    "LR = ReduceLROnPlateau(monitor='val_loss', factor=0.2,\n",
    "                       patience=5, min_lr=0.001,verbose=1)\n",
    "callbacks_list = [checkpoint, LR]"
   ]
  },
  {
   "cell_type": "markdown",
   "metadata": {},
   "source": [
    "The `steps_per_epoch` and `validation_steps` are used by `fit_generator` to decide the number of next() calls it need to make."
   ]
  },
  {
   "cell_type": "code",
   "execution_count": 19,
   "metadata": {},
   "outputs": [],
   "source": [
    "if (num_train_sequences%batch_size) == 0:\n",
    "    steps_per_epoch = int(num_train_sequences/batch_size)\n",
    "else:\n",
    "    steps_per_epoch = (num_train_sequences//batch_size) + 1\n",
    "\n",
    "if (num_val_sequences%batch_size) == 0:\n",
    "    validation_steps = int(num_val_sequences/batch_size)\n",
    "else:\n",
    "    validation_steps = (num_val_sequences//batch_size) + 1"
   ]
  },
  {
   "cell_type": "markdown",
   "metadata": {},
   "source": [
    "Let us now fit the model. This will start training the model and with the help of the checkpoints, you'll be able to save the model at the end of each epoch."
   ]
  },
  {
   "cell_type": "code",
   "execution_count": 20,
   "metadata": {},
   "outputs": [
    {
     "name": "stdout",
     "output_type": "stream",
     "text": [
      "Source path =  Source path =  /mnt/disks/user/project/PROJECT/Project_data/trainEpoch 1/5\n",
      " ; batch size = 16\n",
      "/mnt/disks/user/project/PROJECT/Project_data/val ; batch size = 16\n",
      "42/42 [==============================] - 182s 4s/step - loss: 1.5451 - categorical_accuracy: 0.3722 - val_loss: 3.2571 - val_categorical_accuracy: 0.2700\n",
      "\n",
      "Epoch 00001: saving model to model_init_2021-02-0801_33_00.731094/model-00001-1.55079-0.36953-3.25710-0.27000.h5\n",
      "Epoch 2/5\n",
      "42/42 [==============================] - 109s 3s/step - loss: 0.9757 - categorical_accuracy: 0.6159 - val_loss: 2.3337 - val_categorical_accuracy: 0.3900\n",
      "\n",
      "Epoch 00002: saving model to model_init_2021-02-0801_33_00.731094/model-00002-0.96918-0.61840-2.33371-0.39000.h5\n",
      "Epoch 3/5\n",
      "42/42 [==============================] - 81s 2s/step - loss: 0.7070 - categorical_accuracy: 0.7339 - val_loss: 2.5649 - val_categorical_accuracy: 0.4300\n",
      "\n",
      "Epoch 00003: saving model to model_init_2021-02-0801_33_00.731094/model-00003-0.70557-0.73605-2.56494-0.43000.h5\n",
      "Epoch 4/5\n",
      "42/42 [==============================] - 78s 2s/step - loss: 0.5263 - categorical_accuracy: 0.8147 - val_loss: 1.7890 - val_categorical_accuracy: 0.4500\n",
      "\n",
      "Epoch 00004: saving model to model_init_2021-02-0801_33_00.731094/model-00004-0.51588-0.81599-1.78904-0.45000.h5\n",
      "Epoch 5/5\n",
      "42/42 [==============================] - 81s 2s/step - loss: 0.4558 - categorical_accuracy: 0.8418 - val_loss: 1.1702 - val_categorical_accuracy: 0.5400\n",
      "\n",
      "Epoch 00005: saving model to model_init_2021-02-0801_33_00.731094/model-00005-0.45644-0.84163-1.17024-0.54000.h5\n"
     ]
    },
    {
     "data": {
      "text/plain": [
       "<keras.callbacks.History at 0x7fd98c210e48>"
      ]
     },
     "execution_count": 20,
     "metadata": {},
     "output_type": "execute_result"
    }
   ],
   "source": [
    "model.fit_generator(train_generator, steps_per_epoch=steps_per_epoch, epochs=num_epochs, verbose=1, \n",
    "                    callbacks=callbacks_list, validation_data=val_generator, \n",
    "                    validation_steps=validation_steps, class_weight=None, workers=1, initial_epoch=0)"
   ]
  },
  {
   "cell_type": "markdown",
   "metadata": {},
   "source": [
    "Not a very good accuracy, This model was used to check everything is wroking fine.\n",
    "#### Now repeating some of the above cells for different models"
   ]
  },
  {
   "cell_type": "markdown",
   "metadata": {},
   "source": [
    "# 2. CNN3D model\n",
    "**Increasing the complexity of the CNN3D model, adding more layers of CNN **<br>\n",
    "**Increasing the batch size to decrease the number of steps**<br>\n",
    "**Reducing the Transform Size**"
   ]
  },
  {
   "cell_type": "code",
   "execution_count": 21,
   "metadata": {},
   "outputs": [
    {
     "name": "stdout",
     "output_type": "stream",
     "text": [
      "Source path =  /mnt/disks/user/project/PROJECT/Project_data/train ; batch size = 32\n",
      "Input Sample shape : (32, 30, 100, 100, 3)\n"
     ]
    }
   ],
   "source": [
    "train_data = train_doc\n",
    "val_data = val_doc\n",
    "transform_size = (100,100)\n",
    "batch_size = 32\n",
    "num_epochs = 8\n",
    "frame_selection_list = getframeselectionlist(choiceoflist=0)\n",
    "model_name = \"CNN3D_v2_complex\"\n",
    "input_sample = next(generator(train_path,\n",
    "                              train_data, \n",
    "                              batch_size=batch_size,\n",
    "                              transform_size=transform_size,\n",
    "                              frame_selection_list=frame_selection_list))\n",
    "print(\"Input Sample shape : %s\" %(str(input_sample[0].shape)))\n",
    "model = Sequential()\n",
    "model.add(Conv3D(16,(3,3,3),padding=\"same\",input_shape=(input_sample[0].shape[1],input_sample[0].shape[2],input_sample[0].shape[3],input_sample[0].shape[4])))\n",
    "model.add(Activation(\"relu\"))\n",
    "model.add(MaxPooling3D(pool_size=(2,2,2)))\n",
    "\n",
    "model.add(Conv3D(32,(3,3,3),padding=\"same\"))\n",
    "model.add(Activation(\"relu\"))\n",
    "model.add(MaxPooling3D(pool_size=(2,2,2)))\n",
    "\n",
    "model.add(Conv3D(64,(3,3,3),padding=\"same\"))\n",
    "model.add(Activation(\"relu\"))\n",
    "model.add(MaxPooling3D(pool_size=(2,2,2)))\n",
    "\n",
    "model.add(Conv3D(32,(3,3,3),padding=\"same\"))\n",
    "model.add(Activation(\"relu\"))\n",
    "model.add(MaxPooling3D(pool_size=(2,2,2)))\n",
    "\n",
    "model.add(Flatten())\n",
    "model.add(Dense(128,activation='relu'))\n",
    "model.add(BatchNormalization())\n",
    "\n",
    "model.add(Dense(64,activation='relu'))\n",
    "model.add(BatchNormalization())\n",
    "\n",
    "model.add(Dense(input_sample[1].shape[1], activation='softmax'))"
   ]
  },
  {
   "cell_type": "code",
   "execution_count": 22,
   "metadata": {
    "scrolled": true
   },
   "outputs": [
    {
     "name": "stdout",
     "output_type": "stream",
     "text": [
      "_________________________________________________________________\n",
      "Layer (type)                 Output Shape              Param #   \n",
      "=================================================================\n",
      "conv3d_13 (Conv3D)           (None, 30, 100, 100, 16)  1312      \n",
      "_________________________________________________________________\n",
      "activation_13 (Activation)   (None, 30, 100, 100, 16)  0         \n",
      "_________________________________________________________________\n",
      "max_pooling3d_13 (MaxPooling (None, 15, 50, 50, 16)    0         \n",
      "_________________________________________________________________\n",
      "conv3d_14 (Conv3D)           (None, 15, 50, 50, 32)    13856     \n",
      "_________________________________________________________________\n",
      "activation_14 (Activation)   (None, 15, 50, 50, 32)    0         \n",
      "_________________________________________________________________\n",
      "max_pooling3d_14 (MaxPooling (None, 7, 25, 25, 32)     0         \n",
      "_________________________________________________________________\n",
      "conv3d_15 (Conv3D)           (None, 7, 25, 25, 64)     55360     \n",
      "_________________________________________________________________\n",
      "activation_15 (Activation)   (None, 7, 25, 25, 64)     0         \n",
      "_________________________________________________________________\n",
      "max_pooling3d_15 (MaxPooling (None, 3, 12, 12, 64)     0         \n",
      "_________________________________________________________________\n",
      "conv3d_16 (Conv3D)           (None, 3, 12, 12, 32)     55328     \n",
      "_________________________________________________________________\n",
      "activation_16 (Activation)   (None, 3, 12, 12, 32)     0         \n",
      "_________________________________________________________________\n",
      "max_pooling3d_16 (MaxPooling (None, 1, 6, 6, 32)       0         \n",
      "_________________________________________________________________\n",
      "flatten_6 (Flatten)          (None, 1152)              0         \n",
      "_________________________________________________________________\n",
      "dense_16 (Dense)             (None, 128)               147584    \n",
      "_________________________________________________________________\n",
      "batch_normalization_11 (Batc (None, 128)               512       \n",
      "_________________________________________________________________\n",
      "dense_17 (Dense)             (None, 64)                8256      \n",
      "_________________________________________________________________\n",
      "batch_normalization_12 (Batc (None, 64)                256       \n",
      "_________________________________________________________________\n",
      "dense_18 (Dense)             (None, 5)                 325       \n",
      "=================================================================\n",
      "Total params: 282,789\n",
      "Trainable params: 282,405\n",
      "Non-trainable params: 384\n",
      "_________________________________________________________________\n",
      "None\n"
     ]
    }
   ],
   "source": [
    "optimiser = optimizers.Adam(lr=0.0002)#write your optimizer\n",
    "model.compile(optimizer=optimiser, loss='categorical_crossentropy', metrics=['categorical_accuracy'])\n",
    "print (model.summary())"
   ]
  },
  {
   "cell_type": "markdown",
   "metadata": {},
   "source": [
    "Let us create the `train_generator` and the `val_generator` which will be used in `.fit_generator`."
   ]
  },
  {
   "cell_type": "code",
   "execution_count": 23,
   "metadata": {},
   "outputs": [],
   "source": [
    "train_generator = generator(train_path,\n",
    "                            train_data, \n",
    "                            batch_size=batch_size,\n",
    "                            transform_size=transform_size,\n",
    "                            frame_selection_list=frame_selection_list)\n",
    "val_generator = generator(val_path,\n",
    "                          val_data, \n",
    "                          batch_size=batch_size,\n",
    "                          transform_size=transform_size,\n",
    "                          frame_selection_list=frame_selection_list)"
   ]
  },
  {
   "cell_type": "markdown",
   "metadata": {},
   "source": [
    "\n",
    "#### Setting up extra parameter for Neural Network\n",
    "##### ModelCheckPoint\n",
    "We build modelcheckpoint to save models after every epoch, so that we can refer to models to best model later on for final testing.\n",
    "\n",
    "##### ReduceLROnPlateau\n",
    "If the val_loss value stops improving after patience number of epochs, we reduce the learning rate so as to take smaller steps down the gradient route for raeaching global minimum and avoid getting stuch at local minimum.\n",
    "\n"
   ]
  },
  {
   "cell_type": "code",
   "execution_count": 24,
   "metadata": {},
   "outputs": [],
   "source": [
    "model_name = 'model_init' + '_' + str(curr_dt_time).replace(' ','').replace(':','_') + '/'\n",
    "    \n",
    "if not os.path.exists(model_name):\n",
    "    os.mkdir(model_name)\n",
    "        \n",
    "filepath = model_name + 'model-{epoch:05d}-{loss:.5f}-{categorical_accuracy:.5f}-{val_loss:.5f}-{val_categorical_accuracy:.5f}.h5'\n",
    "\n",
    "checkpoint = ModelCheckpoint(filepath, monitor='val_loss', verbose=1, save_best_only=False, save_weights_only=False, mode='auto', period=1)\n",
    "\n",
    "LR = ReduceLROnPlateau(monitor='val_loss', factor=0.2,\n",
    "                       patience=5, min_lr=0.001,verbose=1)\n",
    "callbacks_list = [checkpoint, LR]"
   ]
  },
  {
   "cell_type": "markdown",
   "metadata": {},
   "source": [
    "The `steps_per_epoch` and `validation_steps` are used by `fit_generator` to decide the number of next() calls it need to make."
   ]
  },
  {
   "cell_type": "code",
   "execution_count": 25,
   "metadata": {},
   "outputs": [],
   "source": [
    "if (num_train_sequences%batch_size) == 0:\n",
    "    steps_per_epoch = int(num_train_sequences/batch_size)\n",
    "else:\n",
    "    steps_per_epoch = (num_train_sequences//batch_size) + 1\n",
    "\n",
    "if (num_val_sequences%batch_size) == 0:\n",
    "    validation_steps = int(num_val_sequences/batch_size)\n",
    "else:\n",
    "    validation_steps = (num_val_sequences//batch_size) + 1"
   ]
  },
  {
   "cell_type": "markdown",
   "metadata": {},
   "source": [
    "Let us now fit the model. This will start training the model and with the help of the checkpoints, you'll be able to save the model at the end of each epoch."
   ]
  },
  {
   "cell_type": "code",
   "execution_count": 26,
   "metadata": {},
   "outputs": [
    {
     "name": "stdout",
     "output_type": "stream",
     "text": [
      "Source path =  /mnt/disks/user/project/PROJECT/Project_data/val ; batch size = 32\n",
      "Source path =  /mnt/disks/user/project/PROJECT/Project_data/train ; batch size = 32\n",
      "Epoch 1/8\n",
      "21/21 [==============================] - 88s 4s/step - loss: 1.5348 - categorical_accuracy: 0.3732 - val_loss: 8.3137 - val_categorical_accuracy: 0.2300\n",
      "\n",
      "Epoch 00001: saving model to model_init_2021-02-0801_33_00.731094/model-00001-1.53243-0.37406-8.31374-0.23000.h5\n",
      "Epoch 2/8\n",
      "21/21 [==============================] - 72s 3s/step - loss: 1.1814 - categorical_accuracy: 0.5034 - val_loss: 3.0242 - val_categorical_accuracy: 0.2600\n",
      "\n",
      "Epoch 00002: saving model to model_init_2021-02-0801_33_00.731094/model-00002-1.17893-0.50377-3.02415-0.26000.h5\n",
      "Epoch 3/8\n",
      "21/21 [==============================] - 75s 4s/step - loss: 0.9948 - categorical_accuracy: 0.5943 - val_loss: 6.8883 - val_categorical_accuracy: 0.2000\n",
      "\n",
      "Epoch 00003: saving model to model_init_2021-02-0801_33_00.731094/model-00003-0.99473-0.59578-6.88825-0.20000.h5\n",
      "Epoch 4/8\n",
      "21/21 [==============================] - 74s 4s/step - loss: 0.8415 - categorical_accuracy: 0.6873 - val_loss: 2.2354 - val_categorical_accuracy: 0.2400\n",
      "\n",
      "Epoch 00004: saving model to model_init_2021-02-0801_33_00.731094/model-00004-0.84210-0.68778-2.23545-0.24000.h5\n",
      "Epoch 5/8\n",
      "21/21 [==============================] - 76s 4s/step - loss: 0.7191 - categorical_accuracy: 0.7446 - val_loss: 3.2524 - val_categorical_accuracy: 0.2800\n",
      "\n",
      "Epoch 00005: saving model to model_init_2021-02-0801_33_00.731094/model-00005-0.72024-0.74359-3.25241-0.28000.h5\n",
      "Epoch 6/8\n",
      "21/21 [==============================] - 76s 4s/step - loss: 0.5992 - categorical_accuracy: 0.7690 - val_loss: 3.2311 - val_categorical_accuracy: 0.2700\n",
      "\n",
      "Epoch 00006: saving model to model_init_2021-02-0801_33_00.731094/model-00006-0.59591-0.77225-3.23113-0.27000.h5\n",
      "Epoch 7/8\n",
      "21/21 [==============================] - 76s 4s/step - loss: 0.5773 - categorical_accuracy: 0.8094 - val_loss: 6.5470 - val_categorical_accuracy: 0.2100\n",
      "\n",
      "Epoch 00007: saving model to model_init_2021-02-0801_33_00.731094/model-00007-0.57441-0.81146-6.54698-0.21000.h5\n",
      "Epoch 8/8\n",
      "21/21 [==============================] - 76s 4s/step - loss: 0.4495 - categorical_accuracy: 0.8387 - val_loss: 5.8204 - val_categorical_accuracy: 0.2300\n",
      "\n",
      "Epoch 00008: saving model to model_init_2021-02-0801_33_00.731094/model-00008-0.44627-0.84163-5.82044-0.23000.h5\n"
     ]
    },
    {
     "data": {
      "text/plain": [
       "<keras.callbacks.History at 0x7fd9800409e8>"
      ]
     },
     "execution_count": 26,
     "metadata": {},
     "output_type": "execute_result"
    }
   ],
   "source": [
    "model.fit_generator(train_generator, steps_per_epoch=steps_per_epoch, epochs=num_epochs, verbose=1, \n",
    "                    callbacks=callbacks_list, validation_data=val_generator, \n",
    "                    validation_steps=validation_steps, class_weight=None, workers=1, initial_epoch=0)"
   ]
  },
  {
   "cell_type": "markdown",
   "metadata": {},
   "source": [
    "####  the accuracy decrease drastically, what we can do is first take our learning high and bring validation close to it"
   ]
  },
  {
   "cell_type": "markdown",
   "metadata": {},
   "source": [
    "# 3. CNN3D model\n",
    "**Extremely complex CNN3D model for overlearning of the model**<br>"
   ]
  },
  {
   "cell_type": "code",
   "execution_count": 28,
   "metadata": {},
   "outputs": [
    {
     "name": "stdout",
     "output_type": "stream",
     "text": [
      "Source path =  /mnt/disks/user/project/PROJECT/Project_data/train ; batch size = 32\n",
      "Input Sample shape : (32, 30, 100, 100, 3)\n"
     ]
    }
   ],
   "source": [
    "train_data = train_doc\n",
    "val_data = val_doc\n",
    "transform_size = (100,100)\n",
    "batch_size = 32\n",
    "num_epochs = 8\n",
    "frame_selection_list = getframeselectionlist(choiceoflist=0)\n",
    "model_name = \"CNN3D_v2_complex\"\n",
    "input_sample = next(generator(train_path,\n",
    "                              train_data, \n",
    "                              batch_size=batch_size,\n",
    "                              transform_size=transform_size,\n",
    "                              frame_selection_list=frame_selection_list))\n",
    "print(\"Input Sample shape : %s\" %(str(input_sample[0].shape)))\n",
    "model = Sequential()\n",
    "model.add(Conv3D(16,(3,3,3),padding=\"same\",input_shape=(input_sample[0].shape[1],input_sample[0].shape[2],input_sample[0].shape[3],input_sample[0].shape[4])))\n",
    "model.add(Activation(\"relu\"))\n",
    "model.add(MaxPooling3D(pool_size=(2,2,2)))\n",
    "\n",
    "model.add(Conv3D(32,(3,3,3),padding=\"same\"))\n",
    "model.add(Activation(\"relu\"))\n",
    "model.add(MaxPooling3D(pool_size=(2,2,2)))\n",
    "\n",
    "model.add(Conv3D(64,(3,3,3),padding=\"same\"))\n",
    "model.add(Activation(\"relu\"))\n",
    "model.add(MaxPooling3D(pool_size=(2,2,2)))\n",
    "\n",
    "model.add(Conv3D(32,(3,3,3),padding=\"same\"))\n",
    "model.add(Activation(\"relu\"))\n",
    "\n",
    "model.add(Conv3D(32,(3,3,3),padding=\"same\"))\n",
    "model.add(Activation(\"relu\"))\n",
    "model.add(MaxPooling3D(pool_size=(2,2,2)))\n",
    "\n",
    "model.add(Flatten())\n",
    "\n",
    "model.add(Dense(512,activation='relu'))\n",
    "model.add(BatchNormalization())\n",
    "\n",
    "model.add(Dense(256,activation='relu'))\n",
    "model.add(BatchNormalization())\n",
    "\n",
    "model.add(Dense(128,activation='relu'))\n",
    "model.add(BatchNormalization())\n",
    "\n",
    "model.add(Dense(64,activation='relu'))\n",
    "model.add(BatchNormalization())\n",
    "\n",
    "model.add(Dense(input_sample[1].shape[1], activation='softmax'))"
   ]
  },
  {
   "cell_type": "code",
   "execution_count": 29,
   "metadata": {
    "scrolled": true
   },
   "outputs": [
    {
     "name": "stdout",
     "output_type": "stream",
     "text": [
      "_________________________________________________________________\n",
      "Layer (type)                 Output Shape              Param #   \n",
      "=================================================================\n",
      "conv3d_22 (Conv3D)           (None, 30, 100, 100, 16)  1312      \n",
      "_________________________________________________________________\n",
      "activation_22 (Activation)   (None, 30, 100, 100, 16)  0         \n",
      "_________________________________________________________________\n",
      "max_pooling3d_21 (MaxPooling (None, 15, 50, 50, 16)    0         \n",
      "_________________________________________________________________\n",
      "conv3d_23 (Conv3D)           (None, 15, 50, 50, 32)    13856     \n",
      "_________________________________________________________________\n",
      "activation_23 (Activation)   (None, 15, 50, 50, 32)    0         \n",
      "_________________________________________________________________\n",
      "max_pooling3d_22 (MaxPooling (None, 7, 25, 25, 32)     0         \n",
      "_________________________________________________________________\n",
      "conv3d_24 (Conv3D)           (None, 7, 25, 25, 64)     55360     \n",
      "_________________________________________________________________\n",
      "activation_24 (Activation)   (None, 7, 25, 25, 64)     0         \n",
      "_________________________________________________________________\n",
      "max_pooling3d_23 (MaxPooling (None, 3, 12, 12, 64)     0         \n",
      "_________________________________________________________________\n",
      "conv3d_25 (Conv3D)           (None, 3, 12, 12, 32)     55328     \n",
      "_________________________________________________________________\n",
      "activation_25 (Activation)   (None, 3, 12, 12, 32)     0         \n",
      "_________________________________________________________________\n",
      "conv3d_26 (Conv3D)           (None, 3, 12, 12, 32)     27680     \n",
      "_________________________________________________________________\n",
      "activation_26 (Activation)   (None, 3, 12, 12, 32)     0         \n",
      "_________________________________________________________________\n",
      "max_pooling3d_24 (MaxPooling (None, 1, 6, 6, 32)       0         \n",
      "_________________________________________________________________\n",
      "flatten_8 (Flatten)          (None, 1152)              0         \n",
      "_________________________________________________________________\n",
      "dense_24 (Dense)             (None, 512)               590336    \n",
      "_________________________________________________________________\n",
      "batch_normalization_17 (Batc (None, 512)               2048      \n",
      "_________________________________________________________________\n",
      "dense_25 (Dense)             (None, 256)               131328    \n",
      "_________________________________________________________________\n",
      "batch_normalization_18 (Batc (None, 256)               1024      \n",
      "_________________________________________________________________\n",
      "dense_26 (Dense)             (None, 128)               32896     \n",
      "_________________________________________________________________\n",
      "batch_normalization_19 (Batc (None, 128)               512       \n",
      "_________________________________________________________________\n",
      "dense_27 (Dense)             (None, 64)                8256      \n",
      "_________________________________________________________________\n",
      "batch_normalization_20 (Batc (None, 64)                256       \n",
      "_________________________________________________________________\n",
      "dense_28 (Dense)             (None, 5)                 325       \n",
      "=================================================================\n",
      "Total params: 920,517\n",
      "Trainable params: 918,597\n",
      "Non-trainable params: 1,920\n",
      "_________________________________________________________________\n",
      "None\n"
     ]
    }
   ],
   "source": [
    "optimiser = optimizers.Adam(lr=0.0002)#write your optimizer\n",
    "model.compile(optimizer=optimiser, loss='categorical_crossentropy', metrics=['categorical_accuracy'])\n",
    "print (model.summary())"
   ]
  },
  {
   "cell_type": "markdown",
   "metadata": {},
   "source": [
    "Let us create the `train_generator` and the `val_generator` which will be used in `.fit_generator`."
   ]
  },
  {
   "cell_type": "code",
   "execution_count": 31,
   "metadata": {},
   "outputs": [],
   "source": [
    "train_generator = generator(train_path,\n",
    "                            train_data, \n",
    "                            batch_size=batch_size,\n",
    "                            transform_size=transform_size,\n",
    "                            frame_selection_list=frame_selection_list)\n",
    "val_generator = generator(val_path,\n",
    "                          val_data, \n",
    "                          batch_size=batch_size,\n",
    "                          transform_size=transform_size,\n",
    "                          frame_selection_list=frame_selection_list)"
   ]
  },
  {
   "cell_type": "markdown",
   "metadata": {},
   "source": [
    "\n",
    "#### Setting up extra parameter for Neural Network\n",
    "##### ModelCheckPoint\n",
    "We build modelcheckpoint to save models after every epoch, so that we can refer to models to best model later on for final testing.\n",
    "\n",
    "##### ReduceLROnPlateau\n",
    "If the val_loss value stops improving after patience number of epochs, we reduce the learning rate so as to take smaller steps down the gradient route for raeaching global minimum and avoid getting stuch at local minimum.\n",
    "\n"
   ]
  },
  {
   "cell_type": "code",
   "execution_count": 32,
   "metadata": {},
   "outputs": [],
   "source": [
    "model_name = 'model_init' + '_' + str(curr_dt_time).replace(' ','').replace(':','_') + '/'\n",
    "    \n",
    "if not os.path.exists(model_name):\n",
    "    os.mkdir(model_name)\n",
    "        \n",
    "filepath = model_name + 'model-{epoch:05d}-{loss:.5f}-{categorical_accuracy:.5f}-{val_loss:.5f}-{val_categorical_accuracy:.5f}.h5'\n",
    "\n",
    "checkpoint = ModelCheckpoint(filepath, monitor='val_loss', verbose=1, save_best_only=False, save_weights_only=False, mode='auto', period=1)\n",
    "\n",
    "LR = ReduceLROnPlateau(monitor='val_loss', factor=0.2,\n",
    "                       patience=5, min_lr=0.001,verbose=1)\n",
    "callbacks_list = [checkpoint, LR]"
   ]
  },
  {
   "cell_type": "markdown",
   "metadata": {},
   "source": [
    "The `steps_per_epoch` and `validation_steps` are used by `fit_generator` to decide the number of next() calls it need to make."
   ]
  },
  {
   "cell_type": "code",
   "execution_count": 33,
   "metadata": {},
   "outputs": [],
   "source": [
    "if (num_train_sequences%batch_size) == 0:\n",
    "    steps_per_epoch = int(num_train_sequences/batch_size)\n",
    "else:\n",
    "    steps_per_epoch = (num_train_sequences//batch_size) + 1\n",
    "\n",
    "if (num_val_sequences%batch_size) == 0:\n",
    "    validation_steps = int(num_val_sequences/batch_size)\n",
    "else:\n",
    "    validation_steps = (num_val_sequences//batch_size) + 1"
   ]
  },
  {
   "cell_type": "markdown",
   "metadata": {},
   "source": [
    "Let us now fit the model. This will start training the model and with the help of the checkpoints, you'll be able to save the model at the end of each epoch."
   ]
  },
  {
   "cell_type": "code",
   "execution_count": 34,
   "metadata": {},
   "outputs": [
    {
     "name": "stdout",
     "output_type": "stream",
     "text": [
      "Source path =  /mnt/disks/user/project/PROJECT/Project_data/val ; batch size = 32\n",
      "Source path =  /mnt/disks/user/project/PROJECT/Project_data/train ; batch size = 32\n",
      "Epoch 1/8\n",
      "21/21 [==============================] - 87s 4s/step - loss: 1.6972 - categorical_accuracy: 0.3542 - val_loss: 5.9841 - val_categorical_accuracy: 0.2400\n",
      "\n",
      "Epoch 00001: saving model to model_init_2021-02-0801_33_00.731094/model-00001-1.70235-0.35143-5.98409-0.24000.h5\n",
      "Epoch 2/8\n",
      "21/21 [==============================] - 73s 3s/step - loss: 1.1552 - categorical_accuracy: 0.5343 - val_loss: 4.1461 - val_categorical_accuracy: 0.2500\n",
      "\n",
      "Epoch 00002: saving model to model_init_2021-02-0801_33_00.731094/model-00002-1.15724-0.53394-4.14609-0.25000.h5\n",
      "Epoch 3/8\n",
      "21/21 [==============================] - 76s 4s/step - loss: 0.9216 - categorical_accuracy: 0.6313 - val_loss: 2.1045 - val_categorical_accuracy: 0.3500\n",
      "\n",
      "Epoch 00003: saving model to model_init_2021-02-0801_33_00.731094/model-00003-0.92078-0.63047-2.10454-0.35000.h5\n",
      "Epoch 4/8\n",
      "21/21 [==============================] - 75s 4s/step - loss: 0.7356 - categorical_accuracy: 0.7259 - val_loss: 1.4634 - val_categorical_accuracy: 0.5100\n",
      "\n",
      "Epoch 00004: saving model to model_init_2021-02-0801_33_00.731094/model-00004-0.73193-0.72851-1.46336-0.51000.h5\n",
      "Epoch 5/8\n",
      "21/21 [==============================] - 75s 4s/step - loss: 0.5570 - categorical_accuracy: 0.8165 - val_loss: 1.1254 - val_categorical_accuracy: 0.5800\n",
      "\n",
      "Epoch 00005: saving model to model_init_2021-02-0801_33_00.731094/model-00005-0.55276-0.81750-1.12538-0.58000.h5\n",
      "Epoch 6/8\n",
      "21/21 [==============================] - 74s 4s/step - loss: 0.4759 - categorical_accuracy: 0.8407 - val_loss: 2.9817 - val_categorical_accuracy: 0.3100\n",
      "\n",
      "Epoch 00006: saving model to model_init_2021-02-0801_33_00.731094/model-00006-0.47216-0.84314-2.98167-0.31000.h5\n",
      "Epoch 7/8\n",
      "21/21 [==============================] - 75s 4s/step - loss: 0.4300 - categorical_accuracy: 0.8681 - val_loss: 1.5752 - val_categorical_accuracy: 0.4100\n",
      "\n",
      "Epoch 00007: saving model to model_init_2021-02-0801_33_00.731094/model-00007-0.42538-0.87029-1.57520-0.41000.h5\n",
      "Epoch 8/8\n",
      "21/21 [==============================] - 75s 4s/step - loss: 0.3379 - categorical_accuracy: 0.9207 - val_loss: 1.4080 - val_categorical_accuracy: 0.4500\n",
      "\n",
      "Epoch 00008: saving model to model_init_2021-02-0801_33_00.731094/model-00008-0.33612-0.92308-1.40803-0.45000.h5\n"
     ]
    }
   ],
   "source": [
    "model = model.fit_generator(train_generator, steps_per_epoch=steps_per_epoch, epochs=num_epochs, verbose=1, \n",
    "                    callbacks=callbacks_list, validation_data=val_generator, \n",
    "                    validation_steps=validation_steps, class_weight=None, workers=1, initial_epoch=0)"
   ]
  },
  {
   "cell_type": "code",
   "execution_count": 35,
   "metadata": {},
   "outputs": [
    {
     "data": {
      "text/plain": [
       "<Figure size 640x480 with 1 Axes>"
      ]
     },
     "metadata": {},
     "output_type": "display_data"
    }
   ],
   "source": [
    "import matplotlib.pyplot as plt\n",
    "### Accuracy graph\n",
    "plt.plot(model.history[\"categorical_accuracy\"])\n",
    "plt.plot(model.history[\"val_categorical_accuracy\"])\n",
    "plt.xlabel(\"EPOCHS\")\n",
    "plt.ylabel(\"Percentage\")\n",
    "plt.ylim(0.0,1.0)\n",
    "plt.legend([\"Train\",\"Test\"],loc=\"lower right\")\n",
    "plt.show()\n"
   ]
  },
  {
   "cell_type": "code",
   "execution_count": 36,
   "metadata": {},
   "outputs": [
    {
     "data": {
      "image/png": "[encoded data removed]",
      "text/plain": [
       "<Figure size 432x288 with 1 Axes>"
      ]
     },
     "metadata": {},
     "output_type": "display_data"
    }
   ],
   "source": [
    "### Loss graph\n",
    "plt.plot(model.history[\"loss\"])\n",
    "plt.plot(model.history[\"val_loss\"])\n",
    "plt.xlabel(\"EPOCHS\")\n",
    "plt.ylabel(\"LOSS\")\n",
    "plt.ylim(0.0,3.0)\n",
    "plt.legend([\"Train\",\"Testing\"],loc=\"upper right\")\n",
    "plt.show()"
   ]
  },
  {
   "cell_type": "markdown",
   "metadata": {},
   "source": [
    "# 4. CNN3D model\n",
    "**Reducing the size of kernel in the model**<br>"
   ]
  },
  {
   "cell_type": "code",
   "execution_count": 38,
   "metadata": {},
   "outputs": [
    {
     "name": "stdout",
     "output_type": "stream",
     "text": [
      "Source path =  /mnt/disks/user/project/PROJECT/Project_data/train ; batch size = 32\n",
      "Input Sample shape : (32, 30, 100, 100, 3)\n"
     ]
    }
   ],
   "source": [
    "train_data = train_doc\n",
    "val_data = val_doc\n",
    "transform_size = (100,100)\n",
    "batch_size = 32\n",
    "num_epochs = 8\n",
    "frame_selection_list = getframeselectionlist(choiceoflist=0)\n",
    "model_name = \"CNN3D_v2_complex\"\n",
    "input_sample = next(generator(train_path,\n",
    "                              train_data, \n",
    "                              batch_size=batch_size,\n",
    "                              transform_size=transform_size,\n",
    "                              frame_selection_list=frame_selection_list))\n",
    "print(\"Input Sample shape : %s\" %(str(input_sample[0].shape)))\n",
    "model = Sequential()\n",
    "model.add(Conv3D(16,(2,2,2),padding=\"same\",input_shape=(input_sample[0].shape[1],input_sample[0].shape[2],input_sample[0].shape[3],input_sample[0].shape[4])))\n",
    "model.add(Activation(\"relu\"))\n",
    "model.add(MaxPooling3D(pool_size=(2,2,2)))\n",
    "\n",
    "model.add(Conv3D(32,(2,2,2),padding=\"same\"))\n",
    "model.add(Activation(\"relu\"))\n",
    "model.add(MaxPooling3D(pool_size=(2,2,2)))\n",
    "\n",
    "model.add(Conv3D(64,(2,2,2),padding=\"same\"))\n",
    "model.add(Activation(\"relu\"))\n",
    "model.add(MaxPooling3D(pool_size=(2,2,2)))\n",
    "\n",
    "model.add(Conv3D(32,(2,2,2),padding=\"same\"))\n",
    "model.add(Activation(\"relu\"))\n",
    "\n",
    "model.add(Conv3D(32,(2,2,2),padding=\"same\"))\n",
    "model.add(Activation(\"relu\"))\n",
    "model.add(MaxPooling3D(pool_size=(2,2,2)))\n",
    "\n",
    "model.add(Flatten())\n",
    "\n",
    "model.add(Dense(512,activation='relu'))\n",
    "model.add(BatchNormalization())\n",
    "\n",
    "model.add(Dense(256,activation='relu'))\n",
    "model.add(BatchNormalization())\n",
    "\n",
    "model.add(Dense(128,activation='relu'))\n",
    "model.add(BatchNormalization())\n",
    "\n",
    "model.add(Dense(64,activation='relu'))\n",
    "model.add(BatchNormalization())\n",
    "\n",
    "model.add(Dense(input_sample[1].shape[1], activation='softmax'))"
   ]
  },
  {
   "cell_type": "code",
   "execution_count": 39,
   "metadata": {
    "scrolled": true
   },
   "outputs": [
    {
     "name": "stdout",
     "output_type": "stream",
     "text": [
      "_________________________________________________________________\n",
      "Layer (type)                 Output Shape              Param #   \n",
      "=================================================================\n",
      "conv3d_32 (Conv3D)           (None, 30, 100, 100, 16)  400       \n",
      "_________________________________________________________________\n",
      "activation_32 (Activation)   (None, 30, 100, 100, 16)  0         \n",
      "_________________________________________________________________\n",
      "max_pooling3d_29 (MaxPooling (None, 15, 50, 50, 16)    0         \n",
      "_________________________________________________________________\n",
      "conv3d_33 (Conv3D)           (None, 15, 50, 50, 32)    4128      \n",
      "_________________________________________________________________\n",
      "activation_33 (Activation)   (None, 15, 50, 50, 32)    0         \n",
      "_________________________________________________________________\n",
      "max_pooling3d_30 (MaxPooling (None, 7, 25, 25, 32)     0         \n",
      "_________________________________________________________________\n",
      "conv3d_34 (Conv3D)           (None, 7, 25, 25, 64)     16448     \n",
      "_________________________________________________________________\n",
      "activation_34 (Activation)   (None, 7, 25, 25, 64)     0         \n",
      "_________________________________________________________________\n",
      "max_pooling3d_31 (MaxPooling (None, 3, 12, 12, 64)     0         \n",
      "_________________________________________________________________\n",
      "conv3d_35 (Conv3D)           (None, 3, 12, 12, 32)     16416     \n",
      "_________________________________________________________________\n",
      "activation_35 (Activation)   (None, 3, 12, 12, 32)     0         \n",
      "_________________________________________________________________\n",
      "conv3d_36 (Conv3D)           (None, 3, 12, 12, 32)     8224      \n",
      "_________________________________________________________________\n",
      "activation_36 (Activation)   (None, 3, 12, 12, 32)     0         \n",
      "_________________________________________________________________\n",
      "max_pooling3d_32 (MaxPooling (None, 1, 6, 6, 32)       0         \n",
      "_________________________________________________________________\n",
      "flatten_10 (Flatten)         (None, 1152)              0         \n",
      "_________________________________________________________________\n",
      "dense_34 (Dense)             (None, 512)               590336    \n",
      "_________________________________________________________________\n",
      "batch_normalization_25 (Batc (None, 512)               2048      \n",
      "_________________________________________________________________\n",
      "dense_35 (Dense)             (None, 256)               131328    \n",
      "_________________________________________________________________\n",
      "batch_normalization_26 (Batc (None, 256)               1024      \n",
      "_________________________________________________________________\n",
      "dense_36 (Dense)             (None, 128)               32896     \n",
      "_________________________________________________________________\n",
      "batch_normalization_27 (Batc (None, 128)               512       \n",
      "_________________________________________________________________\n",
      "dense_37 (Dense)             (None, 64)                8256      \n",
      "_________________________________________________________________\n",
      "batch_normalization_28 (Batc (None, 64)                256       \n",
      "_________________________________________________________________\n",
      "dense_38 (Dense)             (None, 5)                 325       \n",
      "=================================================================\n",
      "Total params: 812,597\n",
      "Trainable params: 810,677\n",
      "Non-trainable params: 1,920\n",
      "_________________________________________________________________\n",
      "None\n"
     ]
    }
   ],
   "source": [
    "optimiser = optimizers.Adam(lr=0.0002)#write your optimizer\n",
    "model.compile(optimizer=optimiser, loss='categorical_crossentropy', metrics=['categorical_accuracy'])\n",
    "print (model.summary())"
   ]
  },
  {
   "cell_type": "markdown",
   "metadata": {},
   "source": [
    "Let us create the `train_generator` and the `val_generator` which will be used in `.fit_generator`."
   ]
  },
  {
   "cell_type": "code",
   "execution_count": 40,
   "metadata": {},
   "outputs": [],
   "source": [
    "train_generator = generator(train_path,\n",
    "                            train_data, \n",
    "                            batch_size=batch_size,\n",
    "                            transform_size=transform_size,\n",
    "                            frame_selection_list=frame_selection_list)\n",
    "val_generator = generator(val_path,\n",
    "                          val_data, \n",
    "                          batch_size=batch_size,\n",
    "                          transform_size=transform_size,\n",
    "                          frame_selection_list=frame_selection_list)"
   ]
  },
  {
   "cell_type": "markdown",
   "metadata": {},
   "source": [
    "\n",
    "#### Setting up extra parameter for Neural Network\n",
    "##### ModelCheckPoint\n",
    "We build modelcheckpoint to save models after every epoch, so that we can refer to models to best model later on for final testing.\n",
    "\n",
    "##### ReduceLROnPlateau\n",
    "If the val_loss value stops improving after patience number of epochs, we reduce the learning rate so as to take smaller steps down the gradient route for raeaching global minimum and avoid getting stuch at local minimum.\n",
    "\n"
   ]
  },
  {
   "cell_type": "code",
   "execution_count": 41,
   "metadata": {},
   "outputs": [],
   "source": [
    "model_name = 'model_init' + '_' + str(curr_dt_time).replace(' ','').replace(':','_') + '/'\n",
    "    \n",
    "if not os.path.exists(model_name):\n",
    "    os.mkdir(model_name)\n",
    "        \n",
    "filepath = model_name + 'model-{epoch:05d}-{loss:.5f}-{categorical_accuracy:.5f}-{val_loss:.5f}-{val_categorical_accuracy:.5f}.h5'\n",
    "\n",
    "checkpoint = ModelCheckpoint(filepath, monitor='val_loss', verbose=1, save_best_only=False, save_weights_only=False, mode='auto', period=1)\n",
    "\n",
    "LR = ReduceLROnPlateau(monitor='val_loss', factor=0.2,\n",
    "                       patience=5, min_lr=0.001,verbose=1)\n",
    "callbacks_list = [checkpoint, LR]"
   ]
  },
  {
   "cell_type": "markdown",
   "metadata": {},
   "source": [
    "The `steps_per_epoch` and `validation_steps` are used by `fit_generator` to decide the number of next() calls it need to make."
   ]
  },
  {
   "cell_type": "code",
   "execution_count": 42,
   "metadata": {},
   "outputs": [],
   "source": [
    "if (num_train_sequences%batch_size) == 0:\n",
    "    steps_per_epoch = int(num_train_sequences/batch_size)\n",
    "else:\n",
    "    steps_per_epoch = (num_train_sequences//batch_size) + 1\n",
    "\n",
    "if (num_val_sequences%batch_size) == 0:\n",
    "    validation_steps = int(num_val_sequences/batch_size)\n",
    "else:\n",
    "    validation_steps = (num_val_sequences//batch_size) + 1"
   ]
  },
  {
   "cell_type": "markdown",
   "metadata": {},
   "source": [
    "Let us now fit the model. This will start training the model and with the help of the checkpoints, you'll be able to save the model at the end of each epoch."
   ]
  },
  {
   "cell_type": "code",
   "execution_count": 43,
   "metadata": {},
   "outputs": [
    {
     "name": "stdout",
     "output_type": "stream",
     "text": [
      "Source path =  /mnt/disks/user/project/PROJECT/Project_data/val ; batch size = 32\n",
      "Source path =  /mnt/disks/user/project/PROJECT/Project_data/train ; batch size = 32\n",
      "Epoch 1/8\n",
      "21/21 [==============================] - 87s 4s/step - loss: 1.6659 - categorical_accuracy: 0.3542 - val_loss: 2.3984 - val_categorical_accuracy: 0.3700\n",
      "\n",
      "Epoch 00001: saving model to model_init_2021-02-0801_33_00.731094/model-00001-1.66121-0.35596-2.39835-0.37000.h5\n",
      "Epoch 2/8\n",
      "21/21 [==============================] - 69s 3s/step - loss: 1.1204 - categorical_accuracy: 0.5589 - val_loss: 1.8715 - val_categorical_accuracy: 0.3400\n",
      "\n",
      "Epoch 00002: saving model to model_init_2021-02-0801_33_00.731094/model-00002-1.11765-0.56109-1.87154-0.34000.h5\n",
      "Epoch 3/8\n",
      "21/21 [==============================] - 73s 3s/step - loss: 0.8833 - categorical_accuracy: 0.6898 - val_loss: 1.5233 - val_categorical_accuracy: 0.4400\n",
      "\n",
      "Epoch 00003: saving model to model_init_2021-02-0801_33_00.731094/model-00003-0.87219-0.69532-1.52327-0.44000.h5\n",
      "Epoch 4/8\n",
      "21/21 [==============================] - 73s 3s/step - loss: 0.6923 - categorical_accuracy: 0.7724 - val_loss: 1.7793 - val_categorical_accuracy: 0.4300\n",
      "\n",
      "Epoch 00004: saving model to model_init_2021-02-0801_33_00.731094/model-00004-0.68289-0.77677-1.77933-0.43000.h5\n",
      "Epoch 5/8\n",
      "21/21 [==============================] - 76s 4s/step - loss: 0.5448 - categorical_accuracy: 0.8273 - val_loss: 1.5923 - val_categorical_accuracy: 0.4200\n",
      "\n",
      "Epoch 00005: saving model to model_init_2021-02-0801_33_00.731094/model-00005-0.53956-0.82956-1.59225-0.42000.h5\n",
      "Epoch 6/8\n",
      "21/21 [==============================] - 77s 4s/step - loss: 0.4470 - categorical_accuracy: 0.8951 - val_loss: 1.4924 - val_categorical_accuracy: 0.4400\n",
      "\n",
      "Epoch 00006: saving model to model_init_2021-02-0801_33_00.731094/model-00006-0.43664-0.90045-1.49242-0.44000.h5\n",
      "Epoch 7/8\n",
      "21/21 [==============================] - 74s 4s/step - loss: 0.4156 - categorical_accuracy: 0.8891 - val_loss: 1.3681 - val_categorical_accuracy: 0.4700\n",
      "\n",
      "Epoch 00007: saving model to model_init_2021-02-0801_33_00.731094/model-00007-0.40535-0.89442-1.36809-0.47000.h5\n",
      "Epoch 8/8\n",
      "21/21 [==============================] - 75s 4s/step - loss: 0.3517 - categorical_accuracy: 0.9382 - val_loss: 1.5887 - val_categorical_accuracy: 0.3900\n",
      "\n",
      "Epoch 00008: saving model to model_init_2021-02-0801_33_00.731094/model-00008-0.33727-0.94419-1.58875-0.39000.h5\n"
     ]
    }
   ],
   "source": [
    "model = model.fit_generator(train_generator, steps_per_epoch=steps_per_epoch, epochs=num_epochs, verbose=1, \n",
    "                    callbacks=callbacks_list, validation_data=val_generator, \n",
    "                    validation_steps=validation_steps, class_weight=None, workers=1, initial_epoch=0)"
   ]
  },
  {
   "cell_type": "code",
   "execution_count": 44,
   "metadata": {},
   "outputs": [
    {
     "data": {
      "image/png": "[encoded data removed]",
      "text/plain": [
       "<Figure size 432x288 with 1 Axes>"
      ]
     },
     "metadata": {},
     "output_type": "display_data"
    }
   ],
   "source": [
    "import matplotlib.pyplot as plt\n",
    "### Accuracy graph\n",
    "plt.plot(model.history[\"categorical_accuracy\"])\n",
    "plt.plot(model.history[\"val_categorical_accuracy\"])\n",
    "plt.xlabel(\"EPOCHS\")\n",
    "plt.ylabel(\"Percentage\")\n",
    "plt.ylim(0.0,1.0)\n",
    "plt.legend([\"Train\",\"Test\"],loc=\"lower right\")\n",
    "plt.show()\n"
   ]
  },
  {
   "cell_type": "code",
   "execution_count": 45,
   "metadata": {},
   "outputs": [
    {
     "data": {
      "image/png": "[encoded data removed]",
      "text/plain": [
       "<Figure size 432x288 with 1 Axes>"
      ]
     },
     "metadata": {},
     "output_type": "display_data"
    }
   ],
   "source": [
    "### Loss graph\n",
    "plt.plot(model.history[\"loss\"])\n",
    "plt.plot(model.history[\"val_loss\"])\n",
    "plt.xlabel(\"EPOCHS\")\n",
    "plt.ylabel(\"LOSS\")\n",
    "plt.ylim(0.0,3.0)\n",
    "plt.legend([\"Train\",\"Testing\"],loc=\"upper right\")\n",
    "plt.show()"
   ]
  },
  {
   "cell_type": "markdown",
   "metadata": {},
   "source": [
    "#### After decreasing the parameters by 100000 the model still performs as earlier, but our training accuracy has increase, lets continue this model with dropouts.\n"
   ]
  },
  {
   "cell_type": "markdown",
   "metadata": {},
   "source": [
    "# 5. CNN3D model\n",
    "**Using Dropouts**<br>"
   ]
  },
  {
   "cell_type": "code",
   "execution_count": 46,
   "metadata": {},
   "outputs": [
    {
     "name": "stdout",
     "output_type": "stream",
     "text": [
      "Source path =  /mnt/disks/user/project/PROJECT/Project_data/train ; batch size = 32\n",
      "Input Sample shape : (32, 30, 100, 100, 3)\n"
     ]
    }
   ],
   "source": [
    "train_data = train_doc\n",
    "val_data = val_doc\n",
    "transform_size = (100,100)\n",
    "batch_size = 32\n",
    "num_epochs = 10\n",
    "frame_selection_list = getframeselectionlist(choiceoflist=0)\n",
    "model_name = \"CNN3D_v2_complex\"\n",
    "input_sample = next(generator(train_path,\n",
    "                              train_data, \n",
    "                              batch_size=batch_size,\n",
    "                              transform_size=transform_size,\n",
    "                              frame_selection_list=frame_selection_list))\n",
    "print(\"Input Sample shape : %s\" %(str(input_sample[0].shape)))\n",
    "model = Sequential()\n",
    "model.add(Conv3D(16,(2,2,2),padding=\"same\",input_shape=(input_sample[0].shape[1],input_sample[0].shape[2],input_sample[0].shape[3],input_sample[0].shape[4])))\n",
    "model.add(Activation(\"relu\"))\n",
    "model.add(MaxPooling3D(pool_size=(2,2,2)))\n",
    "\n",
    "model.add(Conv3D(32,(2,2,2),padding=\"same\"))\n",
    "model.add(Activation(\"relu\"))\n",
    "model.add(MaxPooling3D(pool_size=(2,2,2)))\n",
    "model.add(Dropout(0.25))\n",
    "\n",
    "model.add(Conv3D(64,(2,2,2),padding=\"same\"))\n",
    "model.add(Activation(\"relu\"))\n",
    "model.add(MaxPooling3D(pool_size=(2,2,2)))\n",
    "model.add(Dropout(0.25))\n",
    "\n",
    "\n",
    "model.add(Conv3D(32,(2,2,2),padding=\"same\"))\n",
    "model.add(Activation(\"relu\"))\n",
    "\n",
    "model.add(Conv3D(32,(2,2,2),padding=\"same\"))\n",
    "model.add(Activation(\"relu\"))\n",
    "model.add(MaxPooling3D(pool_size=(2,2,2)))\n",
    "model.add(Dropout(0.25))\n",
    "\n",
    "\n",
    "model.add(Flatten())\n",
    "\n",
    "model.add(Dense(512,activation='relu'))\n",
    "model.add(BatchNormalization())\n",
    "\n",
    "model.add(Dense(256,activation='relu'))\n",
    "model.add(BatchNormalization())\n",
    "model.add(Dropout(0.25))\n",
    "\n",
    "\n",
    "model.add(Dense(128,activation='relu'))\n",
    "model.add(BatchNormalization())\n",
    "\n",
    "model.add(Dense(64,activation='relu'))\n",
    "model.add(BatchNormalization())\n",
    "\n",
    "model.add(Dense(input_sample[1].shape[1], activation='softmax'))"
   ]
  },
  {
   "cell_type": "code",
   "execution_count": 48,
   "metadata": {
    "scrolled": true
   },
   "outputs": [
    {
     "name": "stdout",
     "output_type": "stream",
     "text": [
      "_________________________________________________________________\n",
      "Layer (type)                 Output Shape              Param #   \n",
      "=================================================================\n",
      "conv3d_37 (Conv3D)           (None, 30, 100, 100, 16)  400       \n",
      "_________________________________________________________________\n",
      "activation_37 (Activation)   (None, 30, 100, 100, 16)  0         \n",
      "_________________________________________________________________\n",
      "max_pooling3d_33 (MaxPooling (None, 15, 50, 50, 16)    0         \n",
      "_________________________________________________________________\n",
      "conv3d_38 (Conv3D)           (None, 15, 50, 50, 32)    4128      \n",
      "_________________________________________________________________\n",
      "activation_38 (Activation)   (None, 15, 50, 50, 32)    0         \n",
      "_________________________________________________________________\n",
      "max_pooling3d_34 (MaxPooling (None, 7, 25, 25, 32)     0         \n",
      "_________________________________________________________________\n",
      "dropout_1 (Dropout)          (None, 7, 25, 25, 32)     0         \n",
      "_________________________________________________________________\n",
      "conv3d_39 (Conv3D)           (None, 7, 25, 25, 64)     16448     \n",
      "_________________________________________________________________\n",
      "activation_39 (Activation)   (None, 7, 25, 25, 64)     0         \n",
      "_________________________________________________________________\n",
      "max_pooling3d_35 (MaxPooling (None, 3, 12, 12, 64)     0         \n",
      "_________________________________________________________________\n",
      "dropout_2 (Dropout)          (None, 3, 12, 12, 64)     0         \n",
      "_________________________________________________________________\n",
      "conv3d_40 (Conv3D)           (None, 3, 12, 12, 32)     16416     \n",
      "_________________________________________________________________\n",
      "activation_40 (Activation)   (None, 3, 12, 12, 32)     0         \n",
      "_________________________________________________________________\n",
      "conv3d_41 (Conv3D)           (None, 3, 12, 12, 32)     8224      \n",
      "_________________________________________________________________\n",
      "activation_41 (Activation)   (None, 3, 12, 12, 32)     0         \n",
      "_________________________________________________________________\n",
      "max_pooling3d_36 (MaxPooling (None, 1, 6, 6, 32)       0         \n",
      "_________________________________________________________________\n",
      "dropout_3 (Dropout)          (None, 1, 6, 6, 32)       0         \n",
      "_________________________________________________________________\n",
      "flatten_11 (Flatten)         (None, 1152)              0         \n",
      "_________________________________________________________________\n",
      "dense_39 (Dense)             (None, 512)               590336    \n",
      "_________________________________________________________________\n",
      "batch_normalization_29 (Batc (None, 512)               2048      \n",
      "_________________________________________________________________\n",
      "dense_40 (Dense)             (None, 256)               131328    \n",
      "_________________________________________________________________\n",
      "batch_normalization_30 (Batc (None, 256)               1024      \n",
      "_________________________________________________________________\n",
      "dropout_4 (Dropout)          (None, 256)               0         \n",
      "_________________________________________________________________\n",
      "dense_41 (Dense)             (None, 128)               32896     \n",
      "_________________________________________________________________\n",
      "batch_normalization_31 (Batc (None, 128)               512       \n",
      "_________________________________________________________________\n",
      "dense_42 (Dense)             (None, 64)                8256      \n",
      "_________________________________________________________________\n",
      "batch_normalization_32 (Batc (None, 64)                256       \n",
      "_________________________________________________________________\n",
      "dense_43 (Dense)             (None, 5)                 325       \n",
      "=================================================================\n",
      "Total params: 812,597\n",
      "Trainable params: 810,677\n",
      "Non-trainable params: 1,920\n",
      "_________________________________________________________________\n",
      "None\n"
     ]
    }
   ],
   "source": [
    "optimiser = optimizers.Adam(lr=0.0002)#write your optimizer\n",
    "model.compile(optimizer=optimiser, loss='categorical_crossentropy', metrics=['categorical_accuracy'])\n",
    "print (model.summary())"
   ]
  },
  {
   "cell_type": "markdown",
   "metadata": {},
   "source": [
    "Let us create the `train_generator` and the `val_generator` which will be used in `.fit_generator`."
   ]
  },
  {
   "cell_type": "code",
   "execution_count": 49,
   "metadata": {},
   "outputs": [],
   "source": [
    "train_generator = generator(train_path,\n",
    "                            train_data, \n",
    "                            batch_size=batch_size,\n",
    "                            transform_size=transform_size,\n",
    "                            frame_selection_list=frame_selection_list)\n",
    "val_generator = generator(val_path,\n",
    "                          val_data, \n",
    "                          batch_size=batch_size,\n",
    "                          transform_size=transform_size,\n",
    "                          frame_selection_list=frame_selection_list)"
   ]
  },
  {
   "cell_type": "markdown",
   "metadata": {},
   "source": [
    "\n",
    "#### Setting up extra parameter for Neural Network\n",
    "##### ModelCheckPoint\n",
    "We build modelcheckpoint to save models after every epoch, so that we can refer to models to best model later on for final testing.\n",
    "\n",
    "##### ReduceLROnPlateau\n",
    "If the val_loss value stops improving after patience number of epochs, we reduce the learning rate so as to take smaller steps down the gradient route for raeaching global minimum and avoid getting stuch at local minimum.\n",
    "\n"
   ]
  },
  {
   "cell_type": "code",
   "execution_count": 50,
   "metadata": {},
   "outputs": [],
   "source": [
    "model_name = 'model_init' + '_' + str(curr_dt_time).replace(' ','').replace(':','_') + '/'\n",
    "    \n",
    "if not os.path.exists(model_name):\n",
    "    os.mkdir(model_name)\n",
    "        \n",
    "filepath = model_name + 'model-{epoch:05d}-{loss:.5f}-{categorical_accuracy:.5f}-{val_loss:.5f}-{val_categorical_accuracy:.5f}.h5'\n",
    "\n",
    "checkpoint = ModelCheckpoint(filepath, monitor='val_loss', verbose=1, save_best_only=False, save_weights_only=False, mode='auto', period=1)\n",
    "\n",
    "LR = ReduceLROnPlateau(monitor='val_loss', factor=0.2,\n",
    "                       patience=5, min_lr=0.001,verbose=1)\n",
    "callbacks_list = [checkpoint, LR]"
   ]
  },
  {
   "cell_type": "markdown",
   "metadata": {},
   "source": [
    "The `steps_per_epoch` and `validation_steps` are used by `fit_generator` to decide the number of next() calls it need to make."
   ]
  },
  {
   "cell_type": "code",
   "execution_count": 51,
   "metadata": {},
   "outputs": [],
   "source": [
    "if (num_train_sequences%batch_size) == 0:\n",
    "    steps_per_epoch = int(num_train_sequences/batch_size)\n",
    "else:\n",
    "    steps_per_epoch = (num_train_sequences//batch_size) + 1\n",
    "\n",
    "if (num_val_sequences%batch_size) == 0:\n",
    "    validation_steps = int(num_val_sequences/batch_size)\n",
    "else:\n",
    "    validation_steps = (num_val_sequences//batch_size) + 1"
   ]
  },
  {
   "cell_type": "markdown",
   "metadata": {},
   "source": [
    "Let us now fit the model. This will start training the model and with the help of the checkpoints, you'll be able to save the model at the end of each epoch."
   ]
  },
  {
   "cell_type": "code",
   "execution_count": 52,
   "metadata": {},
   "outputs": [
    {
     "name": "stdout",
     "output_type": "stream",
     "text": [
      "Source path =  /mnt/disks/user/project/PROJECT/Project_data/val ; batch size = 32\n",
      "Source path =  /mnt/disks/user/project/PROJECT/Project_data/train ; batch size =Epoch 1/10\n",
      " 32\n",
      "21/21 [==============================] - 86s 4s/step - loss: 2.1469 - categorical_accuracy: 0.2421 - val_loss: 2.3001 - val_categorical_accuracy: 0.1700\n",
      "\n",
      "Epoch 00001: saving model to model_init_2021-02-0801_33_00.731094/model-00001-2.15261-0.24133-2.30014-0.17000.h5\n",
      "Epoch 2/10\n",
      "21/21 [==============================] - 71s 3s/step - loss: 1.9076 - categorical_accuracy: 0.2764 - val_loss: 2.4539 - val_categorical_accuracy: 0.1600\n",
      "\n",
      "Epoch 00002: saving model to model_init_2021-02-0801_33_00.731094/model-00002-1.90660-0.27602-2.45394-0.16000.h5\n",
      "Epoch 3/10\n",
      "21/21 [==============================] - 73s 3s/step - loss: 1.7965 - categorical_accuracy: 0.3052 - val_loss: 2.6350 - val_categorical_accuracy: 0.1600\n",
      "\n",
      "Epoch 00003: saving model to model_init_2021-02-0801_33_00.731094/model-00003-1.79963-0.30468-2.63500-0.16000.h5\n",
      "Epoch 4/10\n",
      "21/21 [==============================] - 74s 4s/step - loss: 1.7450 - categorical_accuracy: 0.3339 - val_loss: 2.5568 - val_categorical_accuracy: 0.1600\n",
      "\n",
      "Epoch 00004: saving model to model_init_2021-02-0801_33_00.731094/model-00004-1.74405-0.33484-2.55684-0.16000.h5\n",
      "Epoch 5/10\n",
      "21/21 [==============================] - 73s 3s/step - loss: 1.6402 - categorical_accuracy: 0.3145 - val_loss: 2.7716 - val_categorical_accuracy: 0.1600\n",
      "\n",
      "Epoch 00005: saving model to model_init_2021-02-0801_33_00.731094/model-00005-1.63741-0.31523-2.77156-0.16000.h5\n",
      "Epoch 6/10\n",
      "21/21 [==============================] - 73s 3s/step - loss: 1.6065 - categorical_accuracy: 0.3484 - val_loss: 2.9364 - val_categorical_accuracy: 0.1600\n",
      "\n",
      "Epoch 00006: saving model to model_init_2021-02-0801_33_00.731094/model-00006-1.60079-0.34842-2.93640-0.16000.h5\n",
      "Epoch 7/10\n",
      "21/21 [==============================] - 71s 3s/step - loss: 1.5805 - categorical_accuracy: 0.3501 - val_loss: 3.3256 - val_categorical_accuracy: 0.1600\n",
      "\n",
      "Epoch 00007: saving model to model_init_2021-02-0801_33_00.731094/model-00007-1.58666-0.34842-3.32562-0.16000.h5\n",
      "Epoch 8/10\n",
      "21/21 [==============================] - 73s 3s/step - loss: 1.5382 - categorical_accuracy: 0.3743 - val_loss: 3.0294 - val_categorical_accuracy: 0.1600\n",
      "\n",
      "Epoch 00008: saving model to model_init_2021-02-0801_33_00.731094/model-00008-1.53866-0.37406-3.02944-0.16000.h5\n",
      "Epoch 9/10\n",
      "21/21 [==============================] - 74s 4s/step - loss: 1.5609 - categorical_accuracy: 0.3533 - val_loss: 3.0243 - val_categorical_accuracy: 0.1600\n",
      "\n",
      "Epoch 00009: saving model to model_init_2021-02-0801_33_00.731094/model-00009-1.55406-0.35445-3.02430-0.16000.h5\n",
      "Epoch 10/10\n",
      "21/21 [==============================] - 72s 3s/step - loss: 1.4448 - categorical_accuracy: 0.3942 - val_loss: 3.0876 - val_categorical_accuracy: 0.1600\n",
      "\n",
      "Epoch 00010: saving model to model_init_2021-02-0801_33_00.731094/model-00010-1.44904-0.39367-3.08762-0.16000.h5\n"
     ]
    }
   ],
   "source": [
    "model = model.fit_generator(train_generator, steps_per_epoch=steps_per_epoch, epochs=num_epochs, verbose=1, \n",
    "                    callbacks=callbacks_list, validation_data=val_generator, \n",
    "                    validation_steps=validation_steps, class_weight=None, workers=1, initial_epoch=0)"
   ]
  },
  {
   "cell_type": "code",
   "execution_count": 55,
   "metadata": {},
   "outputs": [
    {
     "data": {
      "image/png": "[encoded data removed]",
      "text/plain": [
       "<Figure size 432x288 with 1 Axes>"
      ]
     },
     "metadata": {},
     "output_type": "display_data"
    }
   ],
   "source": [
    "import matplotlib.pyplot as plt\n",
    "### Accuracy graph\n",
    "plt.plot(model.history[\"categorical_accuracy\"])\n",
    "plt.plot(model.history[\"val_categorical_accuracy\"])\n",
    "plt.xlabel(\"EPOCHS\")\n",
    "plt.ylabel(\"Percentage\")\n",
    "plt.ylim(0.0,1.0)\n",
    "plt.legend([\"Train\",\"Test\"],loc=\"lower right\")\n",
    "plt.show()\n"
   ]
  },
  {
   "cell_type": "code",
   "execution_count": 56,
   "metadata": {},
   "outputs": [
    {
     "data": {
      "image/png": "[encoded data removed]",
      "text/plain": [
       "<Figure size 432x288 with 1 Axes>"
      ]
     },
     "metadata": {},
     "output_type": "display_data"
    }
   ],
   "source": [
    "### Loss graph\n",
    "plt.plot(model.history[\"loss\"])\n",
    "plt.plot(model.history[\"val_loss\"])\n",
    "plt.xlabel(\"EPOCHS\")\n",
    "plt.ylabel(\"LOSS\")\n",
    "plt.ylim(0.0,3.0)\n",
    "plt.legend([\"Train\",\"Testing\"],loc=\"upper right\")\n",
    "plt.show()"
   ]
  },
  {
   "cell_type": "markdown",
   "metadata": {},
   "source": [
    "#### Using Dropouts doesnt seem to be a very good idea , so removing Dropouts. And now using CNN2d with LSTM"
   ]
  },
  {
   "cell_type": "markdown",
   "metadata": {},
   "source": [
    "# 6. CNN2D with GRU\n",
    "**simple model**<br>"
   ]
  },
  {
   "cell_type": "code",
   "execution_count": 57,
   "metadata": {},
   "outputs": [
    {
     "name": "stdout",
     "output_type": "stream",
     "text": [
      "Source path =  /mnt/disks/user/project/PROJECT/Project_data/train ; batch size = 32\n",
      "Input Sample shape : (32, 30, 100, 100, 3)\n"
     ]
    }
   ],
   "source": [
    "train_data = train_doc\n",
    "val_data = val_doc\n",
    "transform_size = (100,100)\n",
    "batch_size = 32\n",
    "num_epochs = 12\n",
    "frame_selection_list = getframeselectionlist(choiceoflist=0)\n",
    "model_name = \"CNN2D_LSTM\"\n",
    "input_sample = next(generator(train_path,\n",
    "                              train_data, \n",
    "                              batch_size=batch_size,\n",
    "                              transform_size=transform_size,\n",
    "                              frame_selection_list=frame_selection_list))\n",
    "print(\"Input Sample shape : %s\" %(str(input_sample[0].shape)))\n",
    "model = Sequential()\n",
    "\n",
    "model.add(TimeDistributed(Conv2D(16, (3, 3) , padding='same', activation='relu'),\n",
    "                          input_shape=(input_sample[0].shape[1],input_sample[0].shape[2],input_sample[0].shape[3],input_sample[0].shape[4])))\n",
    "model.add(TimeDistributed(BatchNormalization()))\n",
    "model.add(TimeDistributed(MaxPooling2D((2, 2))))\n",
    "\n",
    "model.add(TimeDistributed(Conv2D(32, (3, 3) , padding='same', activation='relu')))\n",
    "model.add(TimeDistributed(BatchNormalization()))\n",
    "model.add(TimeDistributed(MaxPooling2D((2, 2))))\n",
    "\n",
    "model.add(TimeDistributed(Conv2D(64, (3, 3) , padding='same', activation='relu')))\n",
    "model.add(TimeDistributed(BatchNormalization()))\n",
    "model.add(TimeDistributed(MaxPooling2D((2, 2))))\n",
    "\n",
    "model.add(TimeDistributed(Conv2D(128, (3, 3) , padding='same', activation='relu')))\n",
    "model.add(TimeDistributed(BatchNormalization()))\n",
    "model.add(TimeDistributed(MaxPooling2D((2, 2))))\n",
    "\n",
    "\n",
    "\n",
    "model.add(TimeDistributed(Flatten()))\n",
    "\n",
    "model.add(GRU(64))\n",
    "\n",
    "model.add(Dense(64,activation='relu'))\n",
    "model.add(Dense(input_sample[1].shape[1], activation='softmax'))"
   ]
  },
  {
   "cell_type": "code",
   "execution_count": 58,
   "metadata": {
    "scrolled": true
   },
   "outputs": [
    {
     "name": "stdout",
     "output_type": "stream",
     "text": [
      "_________________________________________________________________\n",
      "Layer (type)                 Output Shape              Param #   \n",
      "=================================================================\n",
      "time_distributed_1 (TimeDist (None, 30, 100, 100, 16)  448       \n",
      "_________________________________________________________________\n",
      "time_distributed_2 (TimeDist (None, 30, 100, 100, 16)  64        \n",
      "_________________________________________________________________\n",
      "time_distributed_3 (TimeDist (None, 30, 50, 50, 16)    0         \n",
      "_________________________________________________________________\n",
      "time_distributed_4 (TimeDist (None, 30, 50, 50, 32)    4640      \n",
      "_________________________________________________________________\n",
      "time_distributed_5 (TimeDist (None, 30, 50, 50, 32)    128       \n",
      "_________________________________________________________________\n",
      "time_distributed_6 (TimeDist (None, 30, 25, 25, 32)    0         \n",
      "_________________________________________________________________\n",
      "time_distributed_7 (TimeDist (None, 30, 25, 25, 64)    18496     \n",
      "_________________________________________________________________\n",
      "time_distributed_8 (TimeDist (None, 30, 25, 25, 64)    256       \n",
      "_________________________________________________________________\n",
      "time_distributed_9 (TimeDist (None, 30, 12, 12, 64)    0         \n",
      "_________________________________________________________________\n",
      "time_distributed_10 (TimeDis (None, 30, 12, 12, 128)   73856     \n",
      "_________________________________________________________________\n",
      "time_distributed_11 (TimeDis (None, 30, 12, 12, 128)   512       \n",
      "_________________________________________________________________\n",
      "time_distributed_12 (TimeDis (None, 30, 6, 6, 128)     0         \n",
      "_________________________________________________________________\n",
      "time_distributed_13 (TimeDis (None, 30, 4608)          0         \n",
      "_________________________________________________________________\n",
      "gru_1 (GRU)                  (None, 64)                897216    \n",
      "_________________________________________________________________\n",
      "dense_44 (Dense)             (None, 64)                4160      \n",
      "_________________________________________________________________\n",
      "dense_45 (Dense)             (None, 5)                 325       \n",
      "=================================================================\n",
      "Total params: 1,000,101\n",
      "Trainable params: 999,621\n",
      "Non-trainable params: 480\n",
      "_________________________________________________________________\n",
      "None\n"
     ]
    }
   ],
   "source": [
    "optimiser = optimizers.Adam(lr=0.0002)#write your optimizer\n",
    "model.compile(optimizer=optimiser, loss='categorical_crossentropy', metrics=['categorical_accuracy'])\n",
    "print (model.summary())"
   ]
  },
  {
   "cell_type": "markdown",
   "metadata": {},
   "source": [
    "Let us create the `train_generator` and the `val_generator` which will be used in `.fit_generator`."
   ]
  },
  {
   "cell_type": "code",
   "execution_count": 59,
   "metadata": {},
   "outputs": [],
   "source": [
    "train_generator = generator(train_path,\n",
    "                            train_data, \n",
    "                            batch_size=batch_size,\n",
    "                            transform_size=transform_size,\n",
    "                            frame_selection_list=frame_selection_list)\n",
    "val_generator = generator(val_path,\n",
    "                          val_data, \n",
    "                          batch_size=batch_size,\n",
    "                          transform_size=transform_size,\n",
    "                          frame_selection_list=frame_selection_list)"
   ]
  },
  {
   "cell_type": "markdown",
   "metadata": {},
   "source": [
    "\n",
    "#### Setting up extra parameter for Neural Network\n",
    "##### ModelCheckPoint\n",
    "We build modelcheckpoint to save models after every epoch, so that we can refer to models to best model later on for final testing.\n",
    "\n",
    "##### ReduceLROnPlateau\n",
    "If the val_loss value stops improving after patience number of epochs, we reduce the learning rate so as to take smaller steps down the gradient route for raeaching global minimum and avoid getting stuch at local minimum.\n",
    "\n"
   ]
  },
  {
   "cell_type": "code",
   "execution_count": 60,
   "metadata": {},
   "outputs": [],
   "source": [
    "model_name = 'model_init' + '_' + str(curr_dt_time).replace(' ','').replace(':','_') + '/'\n",
    "    \n",
    "if not os.path.exists(model_name):\n",
    "    os.mkdir(model_name)\n",
    "        \n",
    "filepath = model_name + 'model-{epoch:05d}-{loss:.5f}-{categorical_accuracy:.5f}-{val_loss:.5f}-{val_categorical_accuracy:.5f}.h5'\n",
    "\n",
    "checkpoint = ModelCheckpoint(filepath, monitor='val_loss', verbose=1, save_best_only=False, save_weights_only=False, mode='auto', period=1)\n",
    "\n",
    "LR = ReduceLROnPlateau(monitor='val_loss', factor=0.2,\n",
    "                       patience=5, min_lr=0.001,verbose=1)\n",
    "callbacks_list = [checkpoint, LR]"
   ]
  },
  {
   "cell_type": "markdown",
   "metadata": {},
   "source": [
    "The `steps_per_epoch` and `validation_steps` are used by `fit_generator` to decide the number of next() calls it need to make."
   ]
  },
  {
   "cell_type": "code",
   "execution_count": 61,
   "metadata": {},
   "outputs": [],
   "source": [
    "if (num_train_sequences%batch_size) == 0:\n",
    "    steps_per_epoch = int(num_train_sequences/batch_size)\n",
    "else:\n",
    "    steps_per_epoch = (num_train_sequences//batch_size) + 1\n",
    "\n",
    "if (num_val_sequences%batch_size) == 0:\n",
    "    validation_steps = int(num_val_sequences/batch_size)\n",
    "else:\n",
    "    validation_steps = (num_val_sequences//batch_size) + 1"
   ]
  },
  {
   "cell_type": "markdown",
   "metadata": {},
   "source": [
    "Let us now fit the model. This will start training the model and with the help of the checkpoints, you'll be able to save the model at the end of each epoch."
   ]
  },
  {
   "cell_type": "code",
   "execution_count": 62,
   "metadata": {},
   "outputs": [
    {
     "name": "stdout",
     "output_type": "stream",
     "text": [
      "Source path =  /mnt/disks/user/project/PROJECT/Project_data/val ; batch size = 32\n",
      "Source path =  /mnt/disks/user/project/PROJECT/Project_data/train ; batch size = 32\n",
      "Epoch 1/12\n",
      "21/21 [==============================] - 87s 4s/step - loss: 1.4069 - categorical_accuracy: 0.4119 - val_loss: 1.2427 - val_categorical_accuracy: 0.5200\n",
      "\n",
      "Epoch 00001: saving model to model_init_2021-02-0801_33_00.731094/model-00001-1.40657-0.41327-1.24275-0.52000.h5\n",
      "Epoch 2/12\n",
      "21/21 [==============================] - 70s 3s/step - loss: 0.8612 - categorical_accuracy: 0.7340 - val_loss: 1.0762 - val_categorical_accuracy: 0.6300\n",
      "\n",
      "Epoch 00002: saving model to model_init_2021-02-0801_33_00.731094/model-00002-0.85985-0.73454-1.07624-0.63000.h5\n",
      "Epoch 3/12\n",
      "21/21 [==============================] - 75s 4s/step - loss: 0.6045 - categorical_accuracy: 0.8558 - val_loss: 0.9862 - val_categorical_accuracy: 0.6600\n",
      "\n",
      "Epoch 00003: saving model to model_init_2021-02-0801_33_00.731094/model-00003-0.59560-0.86124-0.98623-0.66000.h5\n",
      "Epoch 4/12\n",
      "21/21 [==============================] - 75s 4s/step - loss: 0.4078 - categorical_accuracy: 0.9351 - val_loss: 0.9580 - val_categorical_accuracy: 0.6500\n",
      "\n",
      "Epoch 00004: saving model to model_init_2021-02-0801_33_00.731094/model-00004-0.40266-0.93816-0.95805-0.65000.h5\n",
      "Epoch 5/12\n",
      "21/21 [==============================] - 77s 4s/step - loss: 0.2899 - categorical_accuracy: 0.9708 - val_loss: 0.9947 - val_categorical_accuracy: 0.6200\n",
      "\n",
      "Epoch 00005: saving model to model_init_2021-02-0801_33_00.731094/model-00005-0.28347-0.97436-0.99471-0.62000.h5\n",
      "Epoch 6/12\n",
      "21/21 [==============================] - 75s 4s/step - loss: 0.2102 - categorical_accuracy: 0.9777 - val_loss: 0.9008 - val_categorical_accuracy: 0.6600\n",
      "\n",
      "Epoch 00006: saving model to model_init_2021-02-0801_33_00.731094/model-00006-0.20258-0.98190-0.90081-0.66000.h5\n",
      "Epoch 7/12\n",
      "21/21 [==============================] - 76s 4s/step - loss: 0.1800 - categorical_accuracy: 0.9877 - val_loss: 0.8902 - val_categorical_accuracy: 0.6500\n",
      "\n",
      "Epoch 00007: saving model to model_init_2021-02-0801_33_00.731094/model-00007-0.16967-0.99095-0.89021-0.65000.h5\n",
      "Epoch 8/12\n",
      "21/21 [==============================] - 76s 4s/step - loss: 0.1225 - categorical_accuracy: 0.9959 - val_loss: 0.9530 - val_categorical_accuracy: 0.6400\n",
      "\n",
      "Epoch 00008: saving model to model_init_2021-02-0801_33_00.731094/model-00008-0.11880-0.99698-0.95296-0.64000.h5\n",
      "Epoch 9/12\n",
      "21/21 [==============================] - 74s 4s/step - loss: 0.1086 - categorical_accuracy: 0.9877 - val_loss: 0.9727 - val_categorical_accuracy: 0.6200\n",
      "\n",
      "Epoch 00009: saving model to model_init_2021-02-0801_33_00.731094/model-00009-0.10173-0.99095-0.97271-0.62000.h5\n",
      "Epoch 10/12\n",
      "21/21 [==============================] - 76s 4s/step - loss: 0.0929 - categorical_accuracy: 0.9877 - val_loss: 0.9336 - val_categorical_accuracy: 0.6400\n",
      "\n",
      "Epoch 00010: saving model to model_init_2021-02-0801_33_00.731094/model-00010-0.08567-0.99095-0.93360-0.64000.h5\n",
      "Epoch 11/12\n",
      "21/21 [==============================] - 76s 4s/step - loss: 0.0870 - categorical_accuracy: 0.9918 - val_loss: 0.9219 - val_categorical_accuracy: 0.6800\n",
      "\n",
      "Epoch 00011: saving model to model_init_2021-02-0801_33_00.731094/model-00011-0.08043-0.99397-0.92192-0.68000.h5\n",
      "Epoch 12/12\n",
      "21/21 [==============================] - 75s 4s/step - loss: 0.0639 - categorical_accuracy: 0.9959 - val_loss: 0.9698 - val_categorical_accuracy: 0.6500\n",
      "\n",
      "Epoch 00012: saving model to model_init_2021-02-0801_33_00.731094/model-00012-0.05983-0.99698-0.96982-0.65000.h5\n"
     ]
    }
   ],
   "source": [
    "model = model.fit_generator(train_generator, steps_per_epoch=steps_per_epoch, epochs=num_epochs, verbose=1, \n",
    "                    callbacks=callbacks_list, validation_data=val_generator, \n",
    "                    validation_steps=validation_steps, class_weight=None, workers=1, initial_epoch=0)"
   ]
  },
  {
   "cell_type": "code",
   "execution_count": 63,
   "metadata": {},
   "outputs": [
    {
     "data": {
      "image/png": "[encoded data removed]",
      "text/plain": [
       "<Figure size 432x288 with 1 Axes>"
      ]
     },
     "metadata": {},
     "output_type": "display_data"
    }
   ],
   "source": [
    "import matplotlib.pyplot as plt\n",
    "### Accuracy graph\n",
    "plt.plot(model.history[\"categorical_accuracy\"])\n",
    "plt.plot(model.history[\"val_categorical_accuracy\"])\n",
    "plt.xlabel(\"EPOCHS\")\n",
    "plt.ylabel(\"Percentage\")\n",
    "plt.ylim(0.0,1.0)\n",
    "plt.legend([\"Train\",\"Test\"],loc=\"lower right\")\n",
    "plt.show()\n"
   ]
  },
  {
   "cell_type": "code",
   "execution_count": 64,
   "metadata": {},
   "outputs": [
    {
     "data": {
      "image/png": "[encoded data removed]",
      "text/plain": [
       "<Figure size 432x288 with 1 Axes>"
      ]
     },
     "metadata": {},
     "output_type": "display_data"
    }
   ],
   "source": [
    "### Loss graph\n",
    "plt.plot(model.history[\"loss\"])\n",
    "plt.plot(model.history[\"val_loss\"])\n",
    "plt.xlabel(\"EPOCHS\")\n",
    "plt.ylabel(\"LOSS\")\n",
    "plt.ylim(0.0,3.0)\n",
    "plt.legend([\"Train\",\"Testing\"],loc=\"upper right\")\n",
    "plt.show()"
   ]
  },
  {
   "cell_type": "markdown",
   "metadata": {},
   "source": [
    "#### As we can see our data is till overfitting, what we can do is add augmentation in the data"
   ]
  },
  {
   "cell_type": "code",
   "execution_count": 14,
   "metadata": {},
   "outputs": [],
   "source": [
    "class ModelBuilderMoreAugmentation(metaclass= abc.ABCMeta):\n",
    "    \n",
    "    def initialize_path(self,project_folder):\n",
    "        self.train_doc = np.random.permutation(open(project_folder + '/' + 'train.csv').readlines())\n",
    "        self.val_doc = np.random.permutation(open(project_folder + '/' + 'val.csv').readlines())\n",
    "        self.train_path = project_folder + '/' + 'train'\n",
    "        self.val_path =  project_folder + '/' + 'val'\n",
    "        self.num_train_sequences = len(self.train_doc)\n",
    "        self.num_val_sequences = len(self.val_doc)\n",
    "        \n",
    "    def initialize_image_properties(self,image_height=100,image_width=100):\n",
    "        self.image_height=image_height\n",
    "        self.image_width=image_width\n",
    "        self.channels=3\n",
    "        self.num_classes=5\n",
    "        self.total_frames=30\n",
    "          \n",
    "    def initialize_hyperparams(self,frames_to_sample=30,batch_size=20,num_epochs=20):\n",
    "        self.frames_to_sample=frames_to_sample\n",
    "        self.batch_size=batch_size\n",
    "        self.num_epochs=num_epochs\n",
    "        \n",
    "        \n",
    "    def generator(self,source_path, folder_list, augment=False):\n",
    "        img_idx = np.round(np.linspace(0,self.total_frames-1,self.frames_to_sample)).astype(int)\n",
    "        batch_size=self.batch_size\n",
    "        while True:\n",
    "            t = np.random.permutation(folder_list)\n",
    "            num_batches = len(t)//batch_size\n",
    "        \n",
    "            for batch in range(num_batches): \n",
    "                batch_data, batch_labels= self.one_batch_data(source_path,t,batch,batch_size,img_idx,augment)\n",
    "                yield batch_data, batch_labels \n",
    "\n",
    "            remaining_seq=len(t)%batch_size\n",
    "        \n",
    "            if (remaining_seq != 0):\n",
    "                batch_data, batch_labels= self.one_batch_data(source_path,t,num_batches,batch_size,img_idx,augment,remaining_seq)\n",
    "                yield batch_data, batch_labels \n",
    "    \n",
    "    \n",
    "    def one_batch_data(self,source_path,t,batch,batch_size,img_idx,augment,remaining_seq=0):\n",
    "    \n",
    "        seq_len = remaining_seq if remaining_seq else batch_size\n",
    "    \n",
    "        batch_data = np.zeros((seq_len,len(img_idx),self.image_height,self.image_width,self.channels)) \n",
    "        batch_labels = np.zeros((seq_len,self.num_classes)) \n",
    "    \n",
    "        if (augment): batch_data_aug = np.zeros((seq_len,len(img_idx),self.image_height,self.image_width,self.channels))\n",
    "\n",
    "        \n",
    "        for folder in range(seq_len): \n",
    "            imgs = os.listdir(source_path+'/'+ t[folder + (batch*batch_size)].split(';')[0]) \n",
    "            for idx,item in enumerate(img_idx): \n",
    "                image = imread(source_path+'/'+ t[folder + (batch*batch_size)].strip().split(';')[0]+'/'+imgs[item]).astype(np.float32)\n",
    "                image_resized=imresize(image,(self.image_height,self.image_width,3))\n",
    "            \n",
    "\n",
    "                batch_data[folder,idx,:,:,0] = (image_resized[:,:,0])/255\n",
    "                batch_data[folder,idx,:,:,1] = (image_resized[:,:,1])/255\n",
    "                batch_data[folder,idx,:,:,2] = (image_resized[:,:,2])/255\n",
    "            \n",
    "                if (augment):\n",
    "                    shifted = cv2.warpAffine(image, \n",
    "                                             np.float32([[1, 0, np.random.randint(-30,30)],[0, 1, np.random.randint(-30,30)]]), \n",
    "                                            (image.shape[1], image.shape[0]))\n",
    "                    \n",
    "                    gray = cv2.cvtColor(shifted,cv2.COLOR_BGR2GRAY)\n",
    "\n",
    "                    x0, y0 = np.argwhere(gray > 0).min(axis=0)\n",
    "                    x1, y1 = np.argwhere(gray > 0).max(axis=0) \n",
    "                    \n",
    "                    cropped=shifted[x0:x1,y0:y1,:]\n",
    "                    \n",
    "                    image_resized=imresize(cropped,(self.image_height,self.image_width,3))\n",
    "                    \n",
    "                    M = cv2.getRotationMatrix2D((self.image_width//2,self.image_height//2),\n",
    "                                                np.random.randint(-10,10), 1.0)\n",
    "                    rotated = cv2.warpAffine(image_resized, M, (self.image_width, self.image_height))\n",
    "                    \n",
    "            \n",
    "                    batch_data_aug[folder,idx,:,:,0] = (rotated[:,:,0])/255\n",
    "                    batch_data_aug[folder,idx,:,:,1] = (rotated[:,:,1])/255\n",
    "                    batch_data_aug[folder,idx,:,:,2] = (rotated[:,:,2])/255\n",
    "                \n",
    "            \n",
    "            batch_labels[folder, int(t[folder + (batch*batch_size)].strip().split(';')[2])] = 1\n",
    "            \n",
    "    \n",
    "        if (augment):\n",
    "            batch_data=np.concatenate([batch_data,batch_data_aug])\n",
    "            batch_labels=np.concatenate([batch_labels,batch_labels])\n",
    "\n",
    "        \n",
    "        return(batch_data,batch_labels)\n",
    "    \n",
    "    \n",
    "    def train_model(self, model, augment_data=False):\n",
    "        train_generator = self.generator(self.train_path, self.train_doc,augment=augment_data)\n",
    "        val_generator = self.generator(self.val_path, self.val_doc)\n",
    "\n",
    "        model_name = 'model_init' + '_' + str(datetime.datetime.now()).replace(' ','').replace(':','_') + '/'\n",
    "    \n",
    "        if not os.path.exists(model_name):\n",
    "            os.mkdir(model_name)\n",
    "        \n",
    "        filepath = model_name + 'model-{epoch:05d}-{loss:.5f}-{categorical_accuracy:.5f}-{val_loss:.5f}-{val_categorical_accuracy:.5f}.h5'\n",
    "\n",
    "        checkpoint = ModelCheckpoint(filepath, monitor='val_loss', verbose=1, save_best_only=False, save_weights_only=False, mode='auto', period=1)\n",
    "        LR = ReduceLROnPlateau(monitor='val_loss', factor=0.2, verbose=1, patience=4)\n",
    "        callbacks_list = [checkpoint, LR]\n",
    "\n",
    "        if (self.num_train_sequences%self.batch_size) == 0:\n",
    "            steps_per_epoch = int(self.num_train_sequences/self.batch_size)\n",
    "        else:\n",
    "            steps_per_epoch = (self.num_train_sequences//self.batch_size) + 1\n",
    "\n",
    "        if (self.num_val_sequences%self.batch_size) == 0:\n",
    "            validation_steps = int(self.num_val_sequences/self.batch_size)\n",
    "        else:\n",
    "            validation_steps = (self.num_val_sequences//self.batch_size) + 1\n",
    "    \n",
    "        history=model.fit_generator(train_generator, steps_per_epoch=steps_per_epoch, epochs=self.num_epochs, verbose=1, \n",
    "                            callbacks=callbacks_list, validation_data=val_generator, \n",
    "                            validation_steps=validation_steps, class_weight=None, workers=1, initial_epoch=0)\n",
    "        return history\n",
    "\n",
    "        \n",
    "    @abc.abstractmethod\n",
    "    def define_model(self):\n",
    "        pass"
   ]
  },
  {
   "cell_type": "markdown",
   "metadata": {},
   "source": [
    "### 7. CNN3d with Aug"
   ]
  },
  {
   "cell_type": "code",
   "execution_count": 66,
   "metadata": {},
   "outputs": [],
   "source": [
    "\n",
    "class ModelConv3D7(ModelBuilderMoreAugmentation):\n",
    "    \n",
    "    def define_model(self,filtersize=(3,3,3),dense_neurons=64,dropout=0.25):\n",
    "\n",
    "        model = Sequential()\n",
    "        model.add(Conv3D(16, filtersize, padding='same',\n",
    "                 input_shape=(self.frames_to_sample,self.image_height,self.image_width,self.channels)))\n",
    "        model.add(Activation('relu'))\n",
    "        model.add(BatchNormalization())\n",
    "        model.add(MaxPooling3D(pool_size=(2, 2, 2)))\n",
    "\n",
    "        model.add(Conv3D(32, filtersize, padding='same'))\n",
    "        model.add(Activation('relu'))\n",
    "        model.add(BatchNormalization())\n",
    "        model.add(MaxPooling3D(pool_size=(2, 2, 2)))\n",
    "\n",
    "        model.add(Conv3D(64, filtersize, padding='same'))\n",
    "        model.add(Activation('relu'))\n",
    "        model.add(BatchNormalization())\n",
    "        model.add(MaxPooling3D(pool_size=(2, 2, 2)))\n",
    "\n",
    "        model.add(Conv3D(128, filtersize, padding='same'))\n",
    "        model.add(Activation('relu'))\n",
    "        model.add(BatchNormalization())\n",
    "        model.add(MaxPooling3D(pool_size=(2, 2, 2)))\n",
    "\n",
    "        model.add(Flatten())\n",
    "        model.add(Dense(dense_neurons,activation='relu'))\n",
    "        model.add(BatchNormalization())\n",
    "        model.add(Dropout(dropout))\n",
    "\n",
    "        model.add(Dense(dense_neurons,activation='relu'))\n",
    "        model.add(BatchNormalization())\n",
    "        model.add(Dropout(dropout))\n",
    "\n",
    "\n",
    "        model.add(Dense(self.num_classes,activation='softmax'))\n",
    "\n",
    "        optimiser = optimizers.Adam(lr=0.0002)\n",
    "        model.compile(optimizer=optimiser, loss='categorical_crossentropy', metrics=['categorical_accuracy'])\n",
    "        return model"
   ]
  },
  {
   "cell_type": "code",
   "execution_count": 67,
   "metadata": {},
   "outputs": [
    {
     "name": "stdout",
     "output_type": "stream",
     "text": [
      "_________________________________________________________________\n",
      "Layer (type)                 Output Shape              Param #   \n",
      "=================================================================\n",
      "conv3d_42 (Conv3D)           (None, 20, 160, 160, 16)  1312      \n",
      "_________________________________________________________________\n",
      "activation_42 (Activation)   (None, 20, 160, 160, 16)  0         \n",
      "_________________________________________________________________\n",
      "batch_normalization_37 (Batc (None, 20, 160, 160, 16)  64        \n",
      "_________________________________________________________________\n",
      "max_pooling3d_37 (MaxPooling (None, 10, 80, 80, 16)    0         \n",
      "_________________________________________________________________\n",
      "conv3d_43 (Conv3D)           (None, 10, 80, 80, 32)    13856     \n",
      "_________________________________________________________________\n",
      "activation_43 (Activation)   (None, 10, 80, 80, 32)    0         \n",
      "_________________________________________________________________\n",
      "batch_normalization_38 (Batc (None, 10, 80, 80, 32)    128       \n",
      "_________________________________________________________________\n",
      "max_pooling3d_38 (MaxPooling (None, 5, 40, 40, 32)     0         \n",
      "_________________________________________________________________\n",
      "conv3d_44 (Conv3D)           (None, 5, 40, 40, 64)     55360     \n",
      "_________________________________________________________________\n",
      "activation_44 (Activation)   (None, 5, 40, 40, 64)     0         \n",
      "_________________________________________________________________\n",
      "batch_normalization_39 (Batc (None, 5, 40, 40, 64)     256       \n",
      "_________________________________________________________________\n",
      "max_pooling3d_39 (MaxPooling (None, 2, 20, 20, 64)     0         \n",
      "_________________________________________________________________\n",
      "conv3d_45 (Conv3D)           (None, 2, 20, 20, 128)    221312    \n",
      "_________________________________________________________________\n",
      "activation_45 (Activation)   (None, 2, 20, 20, 128)    0         \n",
      "_________________________________________________________________\n",
      "batch_normalization_40 (Batc (None, 2, 20, 20, 128)    512       \n",
      "_________________________________________________________________\n",
      "max_pooling3d_40 (MaxPooling (None, 1, 10, 10, 128)    0         \n",
      "_________________________________________________________________\n",
      "flatten_13 (Flatten)         (None, 12800)             0         \n",
      "_________________________________________________________________\n",
      "dense_46 (Dense)             (None, 256)               3277056   \n",
      "_________________________________________________________________\n",
      "batch_normalization_41 (Batc (None, 256)               1024      \n",
      "_________________________________________________________________\n",
      "dropout_5 (Dropout)          (None, 256)               0         \n",
      "_________________________________________________________________\n",
      "dense_47 (Dense)             (None, 256)               65792     \n",
      "_________________________________________________________________\n",
      "batch_normalization_42 (Batc (None, 256)               1024      \n",
      "_________________________________________________________________\n",
      "dropout_6 (Dropout)          (None, 256)               0         \n",
      "_________________________________________________________________\n",
      "dense_48 (Dense)             (None, 5)                 1285      \n",
      "=================================================================\n",
      "Total params: 3,638,981\n",
      "Trainable params: 3,637,477\n",
      "Non-trainable params: 1,504\n",
      "_________________________________________________________________\n"
     ]
    }
   ],
   "source": [
    "\n",
    "conv_3d7=ModelConv3D7()\n",
    "conv_3d7.initialize_path(project_folder)\n",
    "conv_3d7.initialize_image_properties(image_height=160,image_width=160)\n",
    "conv_3d7.initialize_hyperparams(frames_to_sample=20,batch_size=20,num_epochs=20)\n",
    "conv_3d7_model=conv_3d7.define_model(dense_neurons=256,dropout=0.5)\n",
    "conv_3d7_model.summary()"
   ]
  },
  {
   "cell_type": "code",
   "execution_count": 68,
   "metadata": {},
   "outputs": [
    {
     "name": "stdout",
     "output_type": "stream",
     "text": [
      "Total Params: 3638981\n",
      "Epoch 1/20\n",
      "34/34 [==============================] - 144s 4s/step - loss: 1.8721 - categorical_accuracy: 0.3826 - val_loss: 1.0147 - val_categorical_accuracy: 0.6000\n",
      "\n",
      "Epoch 00001: saving model to model_init_2021-02-0803_01_45.405982/model-00001-1.89307-0.37557-1.01474-0.60000.h5\n",
      "Epoch 2/20\n",
      "34/34 [==============================] - 128s 4s/step - loss: 1.4393 - categorical_accuracy: 0.5000 - val_loss: 0.8639 - val_categorical_accuracy: 0.6500\n",
      "\n",
      "Epoch 00002: saving model to model_init_2021-02-0803_01_45.405982/model-00002-1.43108-0.50830-0.86388-0.65000.h5\n",
      "Epoch 3/20\n",
      "34/34 [==============================] - 132s 4s/step - loss: 1.2465 - categorical_accuracy: 0.5618 - val_loss: 1.3313 - val_categorical_accuracy: 0.5600\n",
      "\n",
      "Epoch 00003: saving model to model_init_2021-02-0803_01_45.405982/model-00003-1.22579-0.56335-1.33133-0.56000.h5\n",
      "Epoch 4/20\n",
      "34/34 [==============================] - 132s 4s/step - loss: 1.1398 - categorical_accuracy: 0.6056 - val_loss: 2.1268 - val_categorical_accuracy: 0.4800\n",
      "\n",
      "Epoch 00004: saving model to model_init_2021-02-0803_01_45.405982/model-00004-1.15180-0.60407-2.12685-0.48000.h5\n",
      "Epoch 5/20\n",
      "34/34 [==============================] - 133s 4s/step - loss: 0.9399 - categorical_accuracy: 0.6586 - val_loss: 1.3391 - val_categorical_accuracy: 0.5700\n",
      "\n",
      "Epoch 00005: saving model to model_init_2021-02-0803_01_45.405982/model-00005-0.93891-0.65837-1.33914-0.57000.h5\n",
      "Epoch 6/20\n",
      "34/34 [==============================] - 132s 4s/step - loss: 0.8802 - categorical_accuracy: 0.6825 - val_loss: 0.9228 - val_categorical_accuracy: 0.7100\n",
      "\n",
      "Epoch 00006: saving model to model_init_2021-02-0803_01_45.405982/model-00006-0.86251-0.68703-0.92283-0.71000.h5\n",
      "\n",
      "Epoch 00006: ReduceLROnPlateau reducing learning rate to 3.9999998989515007e-05.\n",
      "Epoch 7/20\n",
      "34/34 [==============================] - 131s 4s/step - loss: 0.7989 - categorical_accuracy: 0.7152 - val_loss: 0.9766 - val_categorical_accuracy: 0.6900\n",
      "\n",
      "Epoch 00007: saving model to model_init_2021-02-0803_01_45.405982/model-00007-0.77762-0.72474-0.97655-0.69000.h5\n",
      "Epoch 8/20\n",
      "34/34 [==============================] - 131s 4s/step - loss: 0.7278 - categorical_accuracy: 0.7270 - val_loss: 0.8058 - val_categorical_accuracy: 0.7200\n",
      "\n",
      "Epoch 00008: saving model to model_init_2021-02-0803_01_45.405982/model-00008-0.74258-0.72021-0.80584-0.72000.h5\n",
      "Epoch 9/20\n",
      "34/34 [==============================] - 131s 4s/step - loss: 0.7477 - categorical_accuracy: 0.7336 - val_loss: 0.7474 - val_categorical_accuracy: 0.7300\n",
      "\n",
      "Epoch 00009: saving model to model_init_2021-02-0803_01_45.405982/model-00009-0.76468-0.72700-0.74743-0.73000.h5\n",
      "Epoch 10/20\n",
      "34/34 [==============================] - 132s 4s/step - loss: 0.7015 - categorical_accuracy: 0.7425 - val_loss: 0.7362 - val_categorical_accuracy: 0.7500\n",
      "\n",
      "Epoch 00010: saving model to model_init_2021-02-0803_01_45.405982/model-00010-0.69362-0.74434-0.73619-0.75000.h5\n",
      "Epoch 11/20\n",
      "34/34 [==============================] - 131s 4s/step - loss: 0.6047 - categorical_accuracy: 0.7730 - val_loss: 0.7809 - val_categorical_accuracy: 0.7200\n",
      "\n",
      "Epoch 00011: saving model to model_init_2021-02-0803_01_45.405982/model-00011-0.60768-0.77149-0.78093-0.72000.h5\n",
      "Epoch 12/20\n",
      "34/34 [==============================] - 132s 4s/step - loss: 0.6670 - categorical_accuracy: 0.7506 - val_loss: 0.7565 - val_categorical_accuracy: 0.7200\n",
      "\n",
      "Epoch 00012: saving model to model_init_2021-02-0803_01_45.405982/model-00012-0.62466-0.76094-0.75648-0.72000.h5\n",
      "Epoch 13/20\n",
      "34/34 [==============================] - 132s 4s/step - loss: 0.6207 - categorical_accuracy: 0.7745 - val_loss: 0.7106 - val_categorical_accuracy: 0.7300\n",
      "\n",
      "Epoch 00013: saving model to model_init_2021-02-0803_01_45.405982/model-00013-0.60966-0.77300-0.71062-0.73000.h5\n",
      "Epoch 14/20\n",
      "34/34 [==============================] - 133s 4s/step - loss: 0.5834 - categorical_accuracy: 0.7859 - val_loss: 0.6265 - val_categorical_accuracy: 0.7900\n",
      "\n",
      "Epoch 00014: saving model to model_init_2021-02-0803_01_45.405982/model-00014-0.59072-0.78054-0.62646-0.79000.h5\n",
      "Epoch 15/20\n",
      "34/34 [==============================] - 131s 4s/step - loss: 0.5533 - categorical_accuracy: 0.8076 - val_loss: 0.7137 - val_categorical_accuracy: 0.7500\n",
      "\n",
      "Epoch 00015: saving model to model_init_2021-02-0803_01_45.405982/model-00015-0.53371-0.81523-0.71367-0.75000.h5\n",
      "Epoch 16/20\n",
      "34/34 [==============================] - 132s 4s/step - loss: 0.5611 - categorical_accuracy: 0.8017 - val_loss: 0.6598 - val_categorical_accuracy: 0.7800\n",
      "\n",
      "Epoch 00016: saving model to model_init_2021-02-0803_01_45.405982/model-00016-0.54217-0.80920-0.65983-0.78000.h5\n",
      "Epoch 17/20\n",
      "34/34 [==============================] - 132s 4s/step - loss: 0.4900 - categorical_accuracy: 0.8190 - val_loss: 0.6791 - val_categorical_accuracy: 0.7800\n",
      "\n",
      "Epoch 00017: saving model to model_init_2021-02-0803_01_45.405982/model-00017-0.47992-0.82278-0.67913-0.78000.h5\n",
      "Epoch 18/20\n",
      "34/34 [==============================] - 132s 4s/step - loss: 0.5924 - categorical_accuracy: 0.7892 - val_loss: 0.6379 - val_categorical_accuracy: 0.7600\n",
      "\n",
      "Epoch 00018: saving model to model_init_2021-02-0803_01_45.405982/model-00018-0.56903-0.79638-0.63785-0.76000.h5\n",
      "\n",
      "Epoch 00018: ReduceLROnPlateau reducing learning rate to 7.999999797903002e-06.\n",
      "Epoch 19/20\n",
      "34/34 [==============================] - 131s 4s/step - loss: 0.5731 - categorical_accuracy: 0.8010 - val_loss: 0.6181 - val_categorical_accuracy: 0.8000\n",
      "\n",
      "Epoch 00019: saving model to model_init_2021-02-0803_01_45.405982/model-00019-0.53596-0.80845-0.61814-0.80000.h5\n",
      "Epoch 20/20\n",
      "34/34 [==============================] - 133s 4s/step - loss: 0.4737 - categorical_accuracy: 0.8263 - val_loss: 0.5951 - val_categorical_accuracy: 0.8000\n",
      "\n",
      "Epoch 00020: saving model to model_init_2021-02-0803_01_45.405982/model-00020-0.48244-0.82202-0.59513-0.80000.h5\n"
     ]
    }
   ],
   "source": [
    "\n",
    "print(\"Total Params:\", conv_3d7_model.count_params())\n",
    "history_model7=conv_3d7.train_model(conv_3d7_model,augment_data=True)\n"
   ]
  },
  {
   "cell_type": "markdown",
   "metadata": {},
   "source": [
    "#### This model gives very good results, lets try to achieve with lesser parameters"
   ]
  },
  {
   "cell_type": "markdown",
   "metadata": {},
   "source": [
    "### Model 8 -CNN3d Adding more layers"
   ]
  },
  {
   "cell_type": "code",
   "execution_count": 69,
   "metadata": {},
   "outputs": [],
   "source": [
    "class ModelConv3D8(ModelBuilderMoreAugmentation):\n",
    "    \n",
    "    def define_model(self,filtersize=(3,3,3),dense_neurons=64,dropout=0.25):\n",
    "\n",
    "        model = Sequential()\n",
    "        model.add(Conv3D(16, filtersize, padding='same',\n",
    "                 input_shape=(self.frames_to_sample,self.image_height,self.image_width,self.channels)))\n",
    "        model.add(Activation('relu'))\n",
    "        model.add(BatchNormalization())\n",
    "        \n",
    "        model.add(MaxPooling3D(pool_size=(2, 2, 2)))\n",
    "\n",
    "        model.add(Conv3D(32, filtersize, padding='same'))\n",
    "        model.add(Activation('relu'))\n",
    "        model.add(BatchNormalization())\n",
    "        \n",
    "        model.add(Conv3D(32, filtersize, padding='same'))\n",
    "        model.add(Activation('relu'))\n",
    "        model.add(BatchNormalization())\n",
    "        \n",
    "        model.add(MaxPooling3D(pool_size=(2, 2, 2)))\n",
    "\n",
    "        model.add(Conv3D(64, filtersize, padding='same'))\n",
    "        model.add(Activation('relu'))\n",
    "        model.add(BatchNormalization())\n",
    "        \n",
    "        model.add(Conv3D(64, filtersize, padding='same'))\n",
    "        model.add(Activation('relu'))\n",
    "        model.add(BatchNormalization())\n",
    "        \n",
    "        model.add(MaxPooling3D(pool_size=(2, 2, 2)))\n",
    "\n",
    "        model.add(Conv3D(128, filtersize, padding='same'))\n",
    "        model.add(Activation('relu'))\n",
    "        model.add(BatchNormalization())\n",
    "        \n",
    "        model.add(Conv3D(128, filtersize, padding='same'))\n",
    "        model.add(Activation('relu'))\n",
    "        model.add(BatchNormalization())\n",
    "        \n",
    "        model.add(MaxPooling3D(pool_size=(2, 2, 2)))\n",
    "        \n",
    "\n",
    "        model.add(Flatten())\n",
    "        model.add(Dense(dense_neurons,activation='relu'))\n",
    "        model.add(BatchNormalization())\n",
    "        model.add(Dropout(dropout))\n",
    "\n",
    "        model.add(Dense(dense_neurons,activation='relu'))\n",
    "        model.add(BatchNormalization())\n",
    "        model.add(Dropout(dropout))\n",
    "\n",
    "\n",
    "        model.add(Dense(self.num_classes,activation='softmax'))\n",
    "\n",
    "        optimiser = optimizers.Adam(lr=0.0002)\n",
    "        model.compile(optimizer=optimiser, loss='categorical_crossentropy', metrics=['categorical_accuracy'])\n",
    "        return model"
   ]
  },
  {
   "cell_type": "code",
   "execution_count": 72,
   "metadata": {},
   "outputs": [
    {
     "name": "stdout",
     "output_type": "stream",
     "text": [
      "_________________________________________________________________\n",
      "Layer (type)                 Output Shape              Param #   \n",
      "=================================================================\n",
      "conv3d_53 (Conv3D)           (None, 16, 120, 120, 16)  1312      \n",
      "_________________________________________________________________\n",
      "activation_53 (Activation)   (None, 16, 120, 120, 16)  0         \n",
      "_________________________________________________________________\n",
      "batch_normalization_52 (Batc (None, 16, 120, 120, 16)  64        \n",
      "_________________________________________________________________\n",
      "max_pooling3d_45 (MaxPooling (None, 8, 60, 60, 16)     0         \n",
      "_________________________________________________________________\n",
      "conv3d_54 (Conv3D)           (None, 8, 60, 60, 32)     13856     \n",
      "_________________________________________________________________\n",
      "activation_54 (Activation)   (None, 8, 60, 60, 32)     0         \n",
      "_________________________________________________________________\n",
      "batch_normalization_53 (Batc (None, 8, 60, 60, 32)     128       \n",
      "_________________________________________________________________\n",
      "conv3d_55 (Conv3D)           (None, 8, 60, 60, 32)     27680     \n",
      "_________________________________________________________________\n",
      "activation_55 (Activation)   (None, 8, 60, 60, 32)     0         \n",
      "_________________________________________________________________\n",
      "batch_normalization_54 (Batc (None, 8, 60, 60, 32)     128       \n",
      "_________________________________________________________________\n",
      "max_pooling3d_46 (MaxPooling (None, 4, 30, 30, 32)     0         \n",
      "_________________________________________________________________\n",
      "conv3d_56 (Conv3D)           (None, 4, 30, 30, 64)     55360     \n",
      "_________________________________________________________________\n",
      "activation_56 (Activation)   (None, 4, 30, 30, 64)     0         \n",
      "_________________________________________________________________\n",
      "batch_normalization_55 (Batc (None, 4, 30, 30, 64)     256       \n",
      "_________________________________________________________________\n",
      "conv3d_57 (Conv3D)           (None, 4, 30, 30, 64)     110656    \n",
      "_________________________________________________________________\n",
      "activation_57 (Activation)   (None, 4, 30, 30, 64)     0         \n",
      "_________________________________________________________________\n",
      "batch_normalization_56 (Batc (None, 4, 30, 30, 64)     256       \n",
      "_________________________________________________________________\n",
      "max_pooling3d_47 (MaxPooling (None, 2, 15, 15, 64)     0         \n",
      "_________________________________________________________________\n",
      "conv3d_58 (Conv3D)           (None, 2, 15, 15, 128)    221312    \n",
      "_________________________________________________________________\n",
      "activation_58 (Activation)   (None, 2, 15, 15, 128)    0         \n",
      "_________________________________________________________________\n",
      "batch_normalization_57 (Batc (None, 2, 15, 15, 128)    512       \n",
      "_________________________________________________________________\n",
      "conv3d_59 (Conv3D)           (None, 2, 15, 15, 128)    442496    \n",
      "_________________________________________________________________\n",
      "activation_59 (Activation)   (None, 2, 15, 15, 128)    0         \n",
      "_________________________________________________________________\n",
      "batch_normalization_58 (Batc (None, 2, 15, 15, 128)    512       \n",
      "_________________________________________________________________\n",
      "max_pooling3d_48 (MaxPooling (None, 1, 7, 7, 128)      0         \n",
      "_________________________________________________________________\n",
      "flatten_15 (Flatten)         (None, 6272)              0         \n",
      "_________________________________________________________________\n",
      "dense_52 (Dense)             (None, 256)               1605888   \n",
      "_________________________________________________________________\n",
      "batch_normalization_59 (Batc (None, 256)               1024      \n",
      "_________________________________________________________________\n",
      "dropout_9 (Dropout)          (None, 256)               0         \n",
      "_________________________________________________________________\n",
      "dense_53 (Dense)             (None, 256)               65792     \n",
      "_________________________________________________________________\n",
      "batch_normalization_60 (Batc (None, 256)               1024      \n",
      "_________________________________________________________________\n",
      "dropout_10 (Dropout)         (None, 256)               0         \n",
      "_________________________________________________________________\n",
      "dense_54 (Dense)             (None, 5)                 1285      \n",
      "=================================================================\n",
      "Total params: 2,549,541\n",
      "Trainable params: 2,547,589\n",
      "Non-trainable params: 1,952\n",
      "_________________________________________________________________\n"
     ]
    }
   ],
   "source": [
    "conv_3d8=ModelConv3D8()\n",
    "conv_3d8.initialize_path(project_folder)\n",
    "conv_3d8.initialize_image_properties(image_height=120,image_width=120)\n",
    "conv_3d8.initialize_hyperparams(frames_to_sample=16,batch_size=32,num_epochs=15)\n",
    "conv_3d8_model=conv_3d8.define_model(filtersize=(3,3,3),dense_neurons=256,dropout=0.5)\n",
    "conv_3d8_model.summary()"
   ]
  },
  {
   "cell_type": "code",
   "execution_count": 73,
   "metadata": {},
   "outputs": [
    {
     "name": "stdout",
     "output_type": "stream",
     "text": [
      "Total Params: 2549541\n",
      "Epoch 1/15\n",
      "21/21 [==============================] - 103s 5s/step - loss: 2.2220 - categorical_accuracy: 0.3036 - val_loss: 2.1349 - val_categorical_accuracy: 0.4400\n",
      "\n",
      "Epoch 00001: saving model to model_init_2021-02-0803_49_30.733147/model-00001-2.22094-0.30468-2.13492-0.44000.h5\n",
      "Epoch 2/15\n",
      "21/21 [==============================] - 78s 4s/step - loss: 1.6416 - categorical_accuracy: 0.4406 - val_loss: 1.3721 - val_categorical_accuracy: 0.5100\n",
      "\n",
      "Epoch 00002: saving model to model_init_2021-02-0803_49_30.733147/model-00002-1.64304-0.44042-1.37208-0.51000.h5\n",
      "Epoch 3/15\n",
      "21/21 [==============================] - 89s 4s/step - loss: 1.4547 - categorical_accuracy: 0.4925 - val_loss: 1.0027 - val_categorical_accuracy: 0.6500\n",
      "\n",
      "Epoch 00003: saving model to model_init_2021-02-0803_49_30.733147/model-00003-1.46054-0.49095-1.00272-0.65000.h5\n",
      "Epoch 4/15\n",
      "21/21 [==============================] - 88s 4s/step - loss: 1.2183 - categorical_accuracy: 0.5646 - val_loss: 1.1338 - val_categorical_accuracy: 0.5900\n",
      "\n",
      "Epoch 00004: saving model to model_init_2021-02-0803_49_30.733147/model-00004-1.22355-0.56259-1.13382-0.59000.h5\n",
      "Epoch 5/15\n",
      "21/21 [==============================] - 89s 4s/step - loss: 1.1140 - categorical_accuracy: 0.6068 - val_loss: 1.0071 - val_categorical_accuracy: 0.6500\n",
      "\n",
      "Epoch 00005: saving model to model_init_2021-02-0803_49_30.733147/model-00005-1.11090-0.60709-1.00713-0.65000.h5\n",
      "Epoch 6/15\n",
      "21/21 [==============================] - 89s 4s/step - loss: 0.9327 - categorical_accuracy: 0.6558 - val_loss: 1.1123 - val_categorical_accuracy: 0.6500\n",
      "\n",
      "Epoch 00006: saving model to model_init_2021-02-0803_49_30.733147/model-00006-0.93033-0.65611-1.11230-0.65000.h5\n",
      "Epoch 7/15\n",
      "21/21 [==============================] - 88s 4s/step - loss: 0.8637 - categorical_accuracy: 0.6918 - val_loss: 0.8466 - val_categorical_accuracy: 0.6900\n",
      "\n",
      "Epoch 00007: saving model to model_init_2021-02-0803_49_30.733147/model-00007-0.86790-0.69005-0.84663-0.69000.h5\n",
      "Epoch 8/15\n",
      "21/21 [==============================] - 88s 4s/step - loss: 0.7613 - categorical_accuracy: 0.7249 - val_loss: 0.7485 - val_categorical_accuracy: 0.7100\n",
      "\n",
      "Epoch 00008: saving model to model_init_2021-02-0803_49_30.733147/model-00008-0.76185-0.72474-0.74853-0.71000.h5\n",
      "Epoch 9/15\n",
      "21/21 [==============================] - 88s 4s/step - loss: 0.6432 - categorical_accuracy: 0.7647 - val_loss: 0.8471 - val_categorical_accuracy: 0.7100\n",
      "\n",
      "Epoch 00009: saving model to model_init_2021-02-0803_49_30.733147/model-00009-0.64476-0.76471-0.84707-0.71000.h5\n",
      "Epoch 10/15\n",
      "21/21 [==============================] - 88s 4s/step - loss: 0.6517 - categorical_accuracy: 0.7664 - val_loss: 0.9004 - val_categorical_accuracy: 0.7100\n",
      "\n",
      "Epoch 00010: saving model to model_init_2021-02-0803_49_30.733147/model-00010-0.65213-0.76621-0.90036-0.71000.h5\n",
      "Epoch 11/15\n",
      "21/21 [==============================] - 88s 4s/step - loss: 0.5719 - categorical_accuracy: 0.7995 - val_loss: 1.1250 - val_categorical_accuracy: 0.5500\n",
      "\n",
      "Epoch 00011: saving model to model_init_2021-02-0803_49_30.733147/model-00011-0.57361-0.79940-1.12495-0.55000.h5\n",
      "Epoch 12/15\n",
      "21/21 [==============================] - 89s 4s/step - loss: 0.5036 - categorical_accuracy: 0.8310 - val_loss: 1.0140 - val_categorical_accuracy: 0.6900\n",
      "\n",
      "Epoch 00012: saving model to model_init_2021-02-0803_49_30.733147/model-00012-0.49984-0.83333-1.01402-0.69000.h5\n",
      "\n",
      "Epoch 00012: ReduceLROnPlateau reducing learning rate to 3.9999998989515007e-05.\n",
      "Epoch 13/15\n",
      "21/21 [==============================] - 88s 4s/step - loss: 0.4470 - categorical_accuracy: 0.8407 - val_loss: 0.9642 - val_categorical_accuracy: 0.7100\n",
      "\n",
      "Epoch 00013: saving model to model_init_2021-02-0803_49_30.733147/model-00013-0.44771-0.84087-0.96420-0.71000.h5\n",
      "Epoch 14/15\n",
      "21/21 [==============================] - 87s 4s/step - loss: 0.4304 - categorical_accuracy: 0.8381 - val_loss: 0.8864 - val_categorical_accuracy: 0.7000\n",
      "\n",
      "Epoch 00014: saving model to model_init_2021-02-0803_49_30.733147/model-00014-0.43182-0.83710-0.88635-0.70000.h5\n",
      "Epoch 15/15\n",
      "21/21 [==============================] - 88s 4s/step - loss: 0.3838 - categorical_accuracy: 0.8567 - val_loss: 0.8870 - val_categorical_accuracy: 0.7000\n",
      "\n",
      "Epoch 00015: saving model to model_init_2021-02-0803_49_30.733147/model-00015-0.38523-0.85596-0.88699-0.70000.h5\n"
     ]
    }
   ],
   "source": [
    "print(\"Total Params:\", conv_3d8_model.count_params())\n",
    "history_model8=conv_3d8.train_model(conv_3d8_model,augment_data=True)"
   ]
  },
  {
   "cell_type": "markdown",
   "metadata": {},
   "source": [
    "### Lets Try Augmented with simple GRU"
   ]
  },
  {
   "cell_type": "markdown",
   "metadata": {},
   "source": [
    "## Model 10 CNN2d and GRU"
   ]
  },
  {
   "cell_type": "code",
   "execution_count": 74,
   "metadata": {},
   "outputs": [],
   "source": [
    "class RNNCNN10(ModelBuilderMoreAugmentation):\n",
    "    \n",
    "    def define_model(self,lstm_cells=64,dense_neurons=64,dropout=0.25):\n",
    "\n",
    "        model = Sequential()\n",
    "\n",
    "        model.add(TimeDistributed(Conv2D(16, (3, 3) , padding='same', activation='relu'),\n",
    "                                  input_shape=(self.frames_to_sample,self.image_height,self.image_width,self.channels)))\n",
    "        model.add(TimeDistributed(BatchNormalization()))\n",
    "        model.add(TimeDistributed(MaxPooling2D((2, 2))))\n",
    "        \n",
    "        model.add(TimeDistributed(Conv2D(32, (3, 3) , padding='same', activation='relu')))\n",
    "        model.add(TimeDistributed(BatchNormalization()))\n",
    "        model.add(TimeDistributed(MaxPooling2D((2, 2))))\n",
    "        \n",
    "\n",
    "        model.add(TimeDistributed(Flatten()))\n",
    "\n",
    "\n",
    "        model.add(GRU(lstm_cells))\n",
    "        model.add(Dropout(dropout))\n",
    "        \n",
    "        model.add(Dense(dense_neurons,activation='relu'))\n",
    "        model.add(Dropout(dropout))\n",
    "        \n",
    "        model.add(Dense(self.num_classes, activation='softmax'))\n",
    "        optimiser = optimizers.Adam(lr=0.0002)\n",
    "        model.compile(optimizer=optimiser, loss='categorical_crossentropy', metrics=['categorical_accuracy'])\n",
    "        return model"
   ]
  },
  {
   "cell_type": "code",
   "execution_count": 75,
   "metadata": {},
   "outputs": [
    {
     "name": "stdout",
     "output_type": "stream",
     "text": [
      "_________________________________________________________________\n",
      "Layer (type)                 Output Shape              Param #   \n",
      "=================================================================\n",
      "time_distributed_14 (TimeDis (None, 18, 120, 120, 16)  448       \n",
      "_________________________________________________________________\n",
      "time_distributed_15 (TimeDis (None, 18, 120, 120, 16)  64        \n",
      "_________________________________________________________________\n",
      "time_distributed_16 (TimeDis (None, 18, 60, 60, 16)    0         \n",
      "_________________________________________________________________\n",
      "time_distributed_17 (TimeDis (None, 18, 60, 60, 32)    4640      \n",
      "_________________________________________________________________\n",
      "time_distributed_18 (TimeDis (None, 18, 60, 60, 32)    128       \n",
      "_________________________________________________________________\n",
      "time_distributed_19 (TimeDis (None, 18, 30, 30, 32)    0         \n",
      "_________________________________________________________________\n",
      "time_distributed_20 (TimeDis (None, 18, 28800)         0         \n",
      "_________________________________________________________________\n",
      "gru_2 (GRU)                  (None, 128)               11108736  \n",
      "_________________________________________________________________\n",
      "dropout_11 (Dropout)         (None, 128)               0         \n",
      "_________________________________________________________________\n",
      "dense_55 (Dense)             (None, 128)               16512     \n",
      "_________________________________________________________________\n",
      "dropout_12 (Dropout)         (None, 128)               0         \n",
      "_________________________________________________________________\n",
      "dense_56 (Dense)             (None, 5)                 645       \n",
      "=================================================================\n",
      "Total params: 11,131,173\n",
      "Trainable params: 11,131,077\n",
      "Non-trainable params: 96\n",
      "_________________________________________________________________\n"
     ]
    }
   ],
   "source": [
    "rnn_cnn10=RNNCNN10()\n",
    "rnn_cnn10.initialize_path(project_folder)\n",
    "rnn_cnn10.initialize_image_properties(image_height=120,image_width=120)\n",
    "rnn_cnn10.initialize_hyperparams(frames_to_sample=18,batch_size=32,num_epochs=12)\n",
    "rnn_cnn10_model=rnn_cnn10.define_model(lstm_cells=128,dense_neurons=128,dropout=0.25)\n",
    "rnn_cnn10_model.summary()"
   ]
  },
  {
   "cell_type": "code",
   "execution_count": 76,
   "metadata": {},
   "outputs": [
    {
     "name": "stdout",
     "output_type": "stream",
     "text": [
      "Total Params: 11131173\n",
      "Epoch 1/12\n",
      "21/21 [==============================] - 107s 5s/step - loss: 1.4829 - categorical_accuracy: 0.3655 - val_loss: 1.1793 - val_categorical_accuracy: 0.5500\n",
      "\n",
      "Epoch 00001: saving model to model_init_2021-02-0804_14_47.851883/model-00001-1.48628-0.36350-1.17926-0.55000.h5\n",
      "Epoch 2/12\n",
      "21/21 [==============================] - 92s 4s/step - loss: 1.1495 - categorical_accuracy: 0.5332 - val_loss: 1.0337 - val_categorical_accuracy: 0.6300\n",
      "\n",
      "Epoch 00002: saving model to model_init_2021-02-0804_14_47.851883/model-00002-1.14916-0.53394-1.03371-0.63000.h5\n",
      "Epoch 3/12\n",
      "21/21 [==============================] - 97s 5s/step - loss: 0.9770 - categorical_accuracy: 0.6223 - val_loss: 1.0030 - val_categorical_accuracy: 0.6300\n",
      "\n",
      "Epoch 00003: saving model to model_init_2021-02-0804_14_47.851883/model-00003-0.97716-0.62217-1.00297-0.63000.h5\n",
      "Epoch 4/12\n",
      "21/21 [==============================] - 97s 5s/step - loss: 0.8199 - categorical_accuracy: 0.6958 - val_loss: 0.9868 - val_categorical_accuracy: 0.6100\n",
      "\n",
      "Epoch 00004: saving model to model_init_2021-02-0804_14_47.851883/model-00004-0.81946-0.69608-0.98683-0.61000.h5\n",
      "Epoch 5/12\n",
      "21/21 [==============================] - 98s 5s/step - loss: 0.7533 - categorical_accuracy: 0.7232 - val_loss: 0.9078 - val_categorical_accuracy: 0.6700\n",
      "\n",
      "Epoch 00005: saving model to model_init_2021-02-0804_14_47.851883/model-00005-0.75364-0.72247-0.90777-0.67000.h5\n",
      "Epoch 6/12\n",
      "21/21 [==============================] - 98s 5s/step - loss: 0.6553 - categorical_accuracy: 0.7753 - val_loss: 0.8561 - val_categorical_accuracy: 0.6600\n",
      "\n",
      "Epoch 00006: saving model to model_init_2021-02-0804_14_47.851883/model-00006-0.65443-0.77602-0.85607-0.66000.h5\n",
      "Epoch 7/12\n",
      "21/21 [==============================] - 97s 5s/step - loss: 0.5740 - categorical_accuracy: 0.8016 - val_loss: 0.8539 - val_categorical_accuracy: 0.6700\n",
      "\n",
      "Epoch 00007: saving model to model_init_2021-02-0804_14_47.851883/model-00007-0.57654-0.80015-0.85392-0.67000.h5\n",
      "Epoch 8/12\n",
      "21/21 [==============================] - 97s 5s/step - loss: 0.5471 - categorical_accuracy: 0.8060 - val_loss: 0.8059 - val_categorical_accuracy: 0.7300\n",
      "\n",
      "Epoch 00008: saving model to model_init_2021-02-0804_14_47.851883/model-00008-0.54913-0.80543-0.80595-0.73000.h5\n",
      "Epoch 9/12\n",
      "21/21 [==============================] - 97s 5s/step - loss: 0.4587 - categorical_accuracy: 0.8508 - val_loss: 0.8042 - val_categorical_accuracy: 0.7000\n",
      "\n",
      "Epoch 00009: saving model to model_init_2021-02-0804_14_47.851883/model-00009-0.45686-0.85143-0.80421-0.70000.h5\n",
      "Epoch 10/12\n",
      "21/21 [==============================] - 98s 5s/step - loss: 0.4434 - categorical_accuracy: 0.8454 - val_loss: 0.9408 - val_categorical_accuracy: 0.6500\n",
      "\n",
      "Epoch 00010: saving model to model_init_2021-02-0804_14_47.851883/model-00010-0.44328-0.84540-0.94078-0.65000.h5\n",
      "Epoch 11/12\n",
      "21/21 [==============================] - 98s 5s/step - loss: 0.3961 - categorical_accuracy: 0.8756 - val_loss: 0.8367 - val_categorical_accuracy: 0.6700\n",
      "\n",
      "Epoch 00011: saving model to model_init_2021-02-0804_14_47.851883/model-00011-0.39634-0.87481-0.83668-0.67000.h5\n",
      "Epoch 12/12\n",
      "21/21 [==============================] - 97s 5s/step - loss: 0.3425 - categorical_accuracy: 0.8999 - val_loss: 0.7774 - val_categorical_accuracy: 0.6800\n",
      "\n",
      "Epoch 00012: saving model to model_init_2021-02-0804_14_47.851883/model-00012-0.34328-0.89970-0.77740-0.68000.h5\n"
     ]
    }
   ],
   "source": [
    "print(\"Total Params:\", rnn_cnn10_model.count_params())\n",
    "history_model10=rnn_cnn10.train_model(rnn_cnn10_model,augment_data=True)"
   ]
  },
  {
   "cell_type": "markdown",
   "metadata": {},
   "source": [
    "## Model 11 CNN2d and GRU with simpler architecture"
   ]
  },
  {
   "cell_type": "code",
   "execution_count": 82,
   "metadata": {},
   "outputs": [],
   "source": [
    "class RNNCNN11(ModelBuilderMoreAugmentation):\n",
    "    \n",
    "    def define_model(self,lstm_cells=64,dense_neurons=64,dropout=0.25):\n",
    "\n",
    "        model = Sequential()\n",
    "\n",
    "        model.add(TimeDistributed(Conv2D(16, (3, 3) , padding='same', activation='relu'),\n",
    "                                  input_shape=(self.frames_to_sample,self.image_height,self.image_width,self.channels)))\n",
    "        model.add(TimeDistributed(BatchNormalization()))\n",
    "        model.add(TimeDistributed(MaxPooling2D((2, 2))))\n",
    "        \n",
    "        model.add(TimeDistributed(Conv2D(32, (3, 3) , padding='same', activation='relu')))\n",
    "        model.add(TimeDistributed(BatchNormalization()))\n",
    "        model.add(TimeDistributed(MaxPooling2D((2, 2))))\n",
    "        \n",
    "        model.add(TimeDistributed(Conv2D(64, (3, 3) , padding='same', activation='relu')))\n",
    "        model.add(TimeDistributed(BatchNormalization()))\n",
    "        model.add(TimeDistributed(MaxPooling2D((2, 2))))\n",
    "\n",
    "        model.add(TimeDistributed(Conv2D(128, (3, 3) , padding='same', activation='relu')))\n",
    "        model.add(TimeDistributed(BatchNormalization()))\n",
    "        model.add(TimeDistributed(MaxPooling2D((2, 2))))\n",
    "\n",
    "        model.add(TimeDistributed(Flatten()))\n",
    "\n",
    "\n",
    "        model.add(GRU(128))\n",
    "        model.add(Dropout(dropout))\n",
    "        #model.add(GRU(128))\n",
    "\n",
    "        model.add(Dense(dense_neurons,activation='relu'))\n",
    "        model.add(Dropout(dropout))\n",
    "        model.add(Dense(dense_neurons,activation='relu'))\n",
    "        model.add(Dense(dense_neurons,activation='relu'))\n",
    "\n",
    "        model.add(Dense(self.num_classes, activation='softmax'))\n",
    "        optimiser = optimizers.Adam(lr=0.0002)\n",
    "        model.compile(optimizer=optimiser, loss='categorical_crossentropy', metrics=['categorical_accuracy'])\n",
    "        return model"
   ]
  },
  {
   "cell_type": "code",
   "execution_count": 83,
   "metadata": {},
   "outputs": [
    {
     "name": "stdout",
     "output_type": "stream",
     "text": [
      "_________________________________________________________________\n",
      "Layer (type)                 Output Shape              Param #   \n",
      "=================================================================\n",
      "time_distributed_47 (TimeDis (None, 18, 120, 120, 16)  448       \n",
      "_________________________________________________________________\n",
      "time_distributed_48 (TimeDis (None, 18, 120, 120, 16)  64        \n",
      "_________________________________________________________________\n",
      "time_distributed_49 (TimeDis (None, 18, 60, 60, 16)    0         \n",
      "_________________________________________________________________\n",
      "time_distributed_50 (TimeDis (None, 18, 60, 60, 32)    4640      \n",
      "_________________________________________________________________\n",
      "time_distributed_51 (TimeDis (None, 18, 60, 60, 32)    128       \n",
      "_________________________________________________________________\n",
      "time_distributed_52 (TimeDis (None, 18, 30, 30, 32)    0         \n",
      "_________________________________________________________________\n",
      "time_distributed_53 (TimeDis (None, 18, 30, 30, 64)    18496     \n",
      "_________________________________________________________________\n",
      "time_distributed_54 (TimeDis (None, 18, 30, 30, 64)    256       \n",
      "_________________________________________________________________\n",
      "time_distributed_55 (TimeDis (None, 18, 15, 15, 64)    0         \n",
      "_________________________________________________________________\n",
      "time_distributed_56 (TimeDis (None, 18, 15, 15, 128)   73856     \n",
      "_________________________________________________________________\n",
      "time_distributed_57 (TimeDis (None, 18, 15, 15, 128)   512       \n",
      "_________________________________________________________________\n",
      "time_distributed_58 (TimeDis (None, 18, 7, 7, 128)     0         \n",
      "_________________________________________________________________\n",
      "time_distributed_59 (TimeDis (None, 18, 6272)          0         \n",
      "_________________________________________________________________\n",
      "gru_5 (GRU)                  (None, 128)               2457984   \n",
      "_________________________________________________________________\n",
      "dropout_17 (Dropout)         (None, 128)               0         \n",
      "_________________________________________________________________\n",
      "dense_65 (Dense)             (None, 128)               16512     \n",
      "_________________________________________________________________\n",
      "dropout_18 (Dropout)         (None, 128)               0         \n",
      "_________________________________________________________________\n",
      "dense_66 (Dense)             (None, 128)               16512     \n",
      "_________________________________________________________________\n",
      "dense_67 (Dense)             (None, 128)               16512     \n",
      "_________________________________________________________________\n",
      "dense_68 (Dense)             (None, 5)                 645       \n",
      "=================================================================\n",
      "Total params: 2,606,565\n",
      "Trainable params: 2,606,085\n",
      "Non-trainable params: 480\n",
      "_________________________________________________________________\n"
     ]
    }
   ],
   "source": [
    "rnn_cnn11=RNNCNN11()\n",
    "rnn_cnn11.initialize_path(project_folder)\n",
    "rnn_cnn11.initialize_image_properties(image_height=120,image_width=120)\n",
    "rnn_cnn11.initialize_hyperparams(frames_to_sample=18,batch_size=32,num_epochs=22)\n",
    "rnn_cnn11_model=rnn_cnn11.define_model(lstm_cells=128,dense_neurons=128,dropout=0.25)\n",
    "rnn_cnn11_model.summary()"
   ]
  },
  {
   "cell_type": "code",
   "execution_count": 84,
   "metadata": {},
   "outputs": [
    {
     "name": "stdout",
     "output_type": "stream",
     "text": [
      "Total Params: 2606565\n",
      "Epoch 1/22\n",
      "21/21 [==============================] - 108s 5s/step - loss: 1.5535 - categorical_accuracy: 0.3073 - val_loss: 1.4348 - val_categorical_accuracy: 0.4100\n",
      "\n",
      "Epoch 00001: saving model to model_init_2021-02-0805_42_12.453972/model-00001-1.55581-0.30618-1.43479-0.41000.h5\n",
      "Epoch 2/22\n",
      "21/21 [==============================] - 91s 4s/step - loss: 1.3254 - categorical_accuracy: 0.4687 - val_loss: 1.2110 - val_categorical_accuracy: 0.5600\n",
      "\n",
      "Epoch 00002: saving model to model_init_2021-02-0805_42_12.453972/model-00002-1.32485-0.46833-1.21101-0.56000.h5\n",
      "Epoch 3/22\n",
      "21/21 [==============================] - 100s 5s/step - loss: 1.1572 - categorical_accuracy: 0.5137 - val_loss: 1.1103 - val_categorical_accuracy: 0.5900\n",
      "\n",
      "Epoch 00003: saving model to model_init_2021-02-0805_42_12.453972/model-00003-1.15744-0.51357-1.11030-0.59000.h5\n",
      "Epoch 4/22\n",
      "21/21 [==============================] - 99s 5s/step - loss: 0.9692 - categorical_accuracy: 0.6335 - val_loss: 0.9655 - val_categorical_accuracy: 0.6000\n",
      "\n",
      "Epoch 00004: saving model to model_init_2021-02-0805_42_12.453972/model-00004-0.96685-0.63499-0.96547-0.60000.h5\n",
      "Epoch 5/22\n",
      "21/21 [==============================] - 98s 5s/step - loss: 0.8039 - categorical_accuracy: 0.6948 - val_loss: 0.9622 - val_categorical_accuracy: 0.5900\n",
      "\n",
      "Epoch 00005: saving model to model_init_2021-02-0805_42_12.453972/model-00005-0.80253-0.69532-0.96216-0.59000.h5\n",
      "Epoch 6/22\n",
      "21/21 [==============================] - 99s 5s/step - loss: 0.6945 - categorical_accuracy: 0.7379 - val_loss: 0.8351 - val_categorical_accuracy: 0.6700\n",
      "\n",
      "Epoch 00006: saving model to model_init_2021-02-0805_42_12.453972/model-00006-0.69729-0.73680-0.83514-0.67000.h5\n",
      "Epoch 7/22\n",
      "21/21 [==============================] - 98s 5s/step - loss: 0.5793 - categorical_accuracy: 0.7849 - val_loss: 0.7391 - val_categorical_accuracy: 0.7000\n",
      "\n",
      "Epoch 00007: saving model to model_init_2021-02-0805_42_12.453972/model-00007-0.57857-0.78582-0.73908-0.70000.h5\n",
      "Epoch 8/22\n",
      "21/21 [==============================] - 98s 5s/step - loss: 0.4876 - categorical_accuracy: 0.8311 - val_loss: 0.9264 - val_categorical_accuracy: 0.6700\n",
      "\n",
      "Epoch 00008: saving model to model_init_2021-02-0805_42_12.453972/model-00008-0.48174-0.83258-0.92638-0.67000.h5\n",
      "Epoch 9/22\n",
      "21/21 [==============================] - 98s 5s/step - loss: 0.3902 - categorical_accuracy: 0.8667 - val_loss: 0.7010 - val_categorical_accuracy: 0.7200\n",
      "\n",
      "Epoch 00009: saving model to model_init_2021-02-0805_42_12.453972/model-00009-0.39083-0.86727-0.70100-0.72000.h5\n",
      "Epoch 10/22\n",
      "21/21 [==============================] - 98s 5s/step - loss: 0.3056 - categorical_accuracy: 0.8997 - val_loss: 0.7446 - val_categorical_accuracy: 0.7200\n",
      "\n",
      "Epoch 00010: saving model to model_init_2021-02-0805_42_12.453972/model-00010-0.30636-0.89894-0.74456-0.72000.h5\n",
      "Epoch 11/22\n",
      "21/21 [==============================] - 98s 5s/step - loss: 0.2247 - categorical_accuracy: 0.9291 - val_loss: 0.8168 - val_categorical_accuracy: 0.7000\n",
      "\n",
      "Epoch 00011: saving model to model_init_2021-02-0805_42_12.453972/model-00011-0.22276-0.92986-0.81683-0.70000.h5\n",
      "Epoch 12/22\n",
      "21/21 [==============================] - 98s 5s/step - loss: 0.1837 - categorical_accuracy: 0.9393 - val_loss: 0.6961 - val_categorical_accuracy: 0.7500\n",
      "\n",
      "Epoch 00012: saving model to model_init_2021-02-0805_42_12.453972/model-00012-0.18390-0.93967-0.69609-0.75000.h5\n",
      "Epoch 13/22\n",
      "21/21 [==============================] - 98s 5s/step - loss: 0.1683 - categorical_accuracy: 0.9493 - val_loss: 0.6675 - val_categorical_accuracy: 0.7700\n",
      "\n",
      "Epoch 00013: saving model to model_init_2021-02-0805_42_12.453972/model-00013-0.16749-0.94947-0.66752-0.77000.h5\n",
      "Epoch 14/22\n",
      "21/21 [==============================] - 98s 5s/step - loss: 0.1541 - categorical_accuracy: 0.9498 - val_loss: 0.7668 - val_categorical_accuracy: 0.7600\n",
      "\n",
      "Epoch 00014: saving model to model_init_2021-02-0805_42_12.453972/model-00014-0.15475-0.94947-0.76679-0.76000.h5\n",
      "Epoch 15/22\n",
      "21/21 [==============================] - 97s 5s/step - loss: 0.1301 - categorical_accuracy: 0.9647 - val_loss: 0.7761 - val_categorical_accuracy: 0.7200\n",
      "\n",
      "Epoch 00015: saving model to model_init_2021-02-0805_42_12.453972/model-00015-0.13055-0.96456-0.77606-0.72000.h5\n",
      "Epoch 16/22\n",
      "21/21 [==============================] - 97s 5s/step - loss: 0.1028 - categorical_accuracy: 0.9685 - val_loss: 0.9094 - val_categorical_accuracy: 0.7400\n",
      "\n",
      "Epoch 00016: saving model to model_init_2021-02-0805_42_12.453972/model-00016-0.10301-0.96833-0.90942-0.74000.h5\n",
      "Epoch 17/22\n",
      "21/21 [==============================] - 97s 5s/step - loss: 0.0877 - categorical_accuracy: 0.9759 - val_loss: 0.8626 - val_categorical_accuracy: 0.7600\n",
      "\n",
      "Epoch 00017: saving model to model_init_2021-02-0805_42_12.453972/model-00017-0.08823-0.97587-0.86261-0.76000.h5\n",
      "\n",
      "Epoch 00017: ReduceLROnPlateau reducing learning rate to 3.9999998989515007e-05.\n",
      "Epoch 18/22\n",
      "21/21 [==============================] - 95s 5s/step - loss: 0.0666 - categorical_accuracy: 0.9814 - val_loss: 0.7267 - val_categorical_accuracy: 0.7800\n",
      "\n",
      "Epoch 00018: saving model to model_init_2021-02-0805_42_12.453972/model-00018-0.06705-0.98115-0.72672-0.78000.h5\n",
      "Epoch 19/22\n",
      "21/21 [==============================] - 98s 5s/step - loss: 0.0585 - categorical_accuracy: 0.9868 - val_loss: 0.8011 - val_categorical_accuracy: 0.7600\n",
      "\n",
      "Epoch 00019: saving model to model_init_2021-02-0805_42_12.453972/model-00019-0.05765-0.98718-0.80109-0.76000.h5\n",
      "Epoch 20/22\n",
      "21/21 [==============================] - 97s 5s/step - loss: 0.0580 - categorical_accuracy: 0.9836 - val_loss: 0.8306 - val_categorical_accuracy: 0.7500\n",
      "\n",
      "Epoch 00020: saving model to model_init_2021-02-0805_42_12.453972/model-00020-0.05812-0.98341-0.83061-0.75000.h5\n",
      "Epoch 21/22\n",
      "21/21 [==============================] - 97s 5s/step - loss: 0.0588 - categorical_accuracy: 0.9804 - val_loss: 0.8412 - val_categorical_accuracy: 0.7500\n",
      "\n",
      "Epoch 00021: saving model to model_init_2021-02-0805_42_12.453972/model-00021-0.05856-0.98039-0.84122-0.75000.h5\n",
      "\n",
      "Epoch 00021: ReduceLROnPlateau reducing learning rate to 7.999999797903002e-06.\n",
      "Epoch 22/22\n",
      "21/21 [==============================] - 98s 5s/step - loss: 0.0433 - categorical_accuracy: 0.9888 - val_loss: 0.8200 - val_categorical_accuracy: 0.7500\n",
      "\n",
      "Epoch 00022: saving model to model_init_2021-02-0805_42_12.453972/model-00022-0.04356-0.98869-0.82002-0.75000.h5\n"
     ]
    }
   ],
   "source": [
    "print(\"Total Params:\", rnn_cnn11_model.count_params())\n",
    "history_model11=rnn_cnn11.train_model(rnn_cnn11_model,augment_data=True)"
   ]
  },
  {
   "cell_type": "markdown",
   "metadata": {},
   "source": [
    "#### Till now this is one of the best training and validation accuracy achieved"
   ]
  },
  {
   "cell_type": "markdown",
   "metadata": {},
   "source": [
    "### Lets use Transfer Learning "
   ]
  },
  {
   "cell_type": "markdown",
   "metadata": {},
   "source": [
    "### Model 12 with mobilenet v2\n"
   ]
  },
  {
   "cell_type": "code",
   "execution_count": 10,
   "metadata": {},
   "outputs": [],
   "source": [
    "from keras.applications import MobileNetV2"
   ]
  },
  {
   "cell_type": "code",
   "execution_count": 11,
   "metadata": {},
   "outputs": [],
   "source": [
    "mobilenetV2_transfer = MobileNetV2(weights='imagenet', include_top=False)\n"
   ]
  },
  {
   "cell_type": "code",
   "execution_count": 89,
   "metadata": {},
   "outputs": [],
   "source": [
    "class RNNCNN_mobile_net(ModelBuilderMoreAugmentation):\n",
    "    \n",
    "    def define_model(self,lstm_cells=64,dense_neurons=64,dropout=0.25):\n",
    "        \n",
    "        model = Sequential()\n",
    "        model.add(TimeDistributed(mobilenetV2_transfer,input_shape=(self.frames_to_sample,self.image_height,self.image_width,self.channels)))\n",
    "        \n",
    "        \n",
    "        for layer in model.layers:\n",
    "            layer.trainable = False\n",
    "        \n",
    "        \n",
    "        model.add(TimeDistributed(BatchNormalization()))\n",
    "        model.add(TimeDistributed(MaxPooling2D((2, 2))))\n",
    "        model.add(TimeDistributed(Flatten()))\n",
    "\n",
    "        model.add(LSTM(lstm_cells))\n",
    "        model.add(Dropout(dropout))\n",
    "        \n",
    "        model.add(Dense(dense_neurons,activation='relu'))\n",
    "        model.add(Dropout(dropout))\n",
    "        \n",
    "        model.add(Dense(self.num_classes, activation='softmax'))\n",
    "        \n",
    "        \n",
    "        optimiser = optimizers.Adam()\n",
    "        model.compile(optimizer=optimiser, loss='categorical_crossentropy', metrics=['categorical_accuracy'])\n",
    "        return model"
   ]
  },
  {
   "cell_type": "code",
   "execution_count": 90,
   "metadata": {},
   "outputs": [
    {
     "name": "stdout",
     "output_type": "stream",
     "text": [
      "_________________________________________________________________\n",
      "Layer (type)                 Output Shape              Param #   \n",
      "=================================================================\n",
      "time_distributed_60 (TimeDis (None, 16, 4, 4, 1280)    2257984   \n",
      "_________________________________________________________________\n",
      "time_distributed_61 (TimeDis (None, 16, 4, 4, 1280)    5120      \n",
      "_________________________________________________________________\n",
      "time_distributed_62 (TimeDis (None, 16, 2, 2, 1280)    0         \n",
      "_________________________________________________________________\n",
      "time_distributed_63 (TimeDis (None, 16, 5120)          0         \n",
      "_________________________________________________________________\n",
      "lstm_1 (LSTM)                (None, 128)               2687488   \n",
      "_________________________________________________________________\n",
      "dropout_19 (Dropout)         (None, 128)               0         \n",
      "_________________________________________________________________\n",
      "dense_69 (Dense)             (None, 128)               16512     \n",
      "_________________________________________________________________\n",
      "dropout_20 (Dropout)         (None, 128)               0         \n",
      "_________________________________________________________________\n",
      "dense_70 (Dense)             (None, 5)                 645       \n",
      "=================================================================\n",
      "Total params: 4,967,749\n",
      "Trainable params: 2,707,205\n",
      "Non-trainable params: 2,260,544\n",
      "_________________________________________________________________\n"
     ]
    }
   ],
   "source": [
    "rnn_cnn_mn_v2=RNNCNN_mobile_net()\n",
    "rnn_cnn_mn_v2.initialize_path(project_folder)\n",
    "rnn_cnn_mn_v2.initialize_image_properties(image_height=120,image_width=120)\n",
    "rnn_cnn_mn_v2.initialize_hyperparams(frames_to_sample=16,batch_size=5,num_epochs=10)\n",
    "rnn_cnn_mn_v2_model=rnn_cnn_mn_v2.define_model(lstm_cells=128,dense_neurons=128,dropout=0.25)\n",
    "rnn_cnn_mn_v2_model.summary()"
   ]
  },
  {
   "cell_type": "code",
   "execution_count": 91,
   "metadata": {},
   "outputs": [
    {
     "name": "stdout",
     "output_type": "stream",
     "text": [
      "Total Params: 4967749\n",
      "Epoch 1/10\n",
      "133/133 [==============================] - 104s 781ms/step - loss: 1.4712 - categorical_accuracy: 0.3727 - val_loss: 1.4045 - val_categorical_accuracy: 0.3700\n",
      "\n",
      "Epoch 00001: saving model to model_init_2021-02-0806_24_25.928698/model-00001-1.47020-0.37330-1.40447-0.37000.h5\n",
      "Epoch 2/10\n",
      "133/133 [==============================] - 80s 604ms/step - loss: 1.2128 - categorical_accuracy: 0.4830 - val_loss: 1.2493 - val_categorical_accuracy: 0.4700\n",
      "\n",
      "Epoch 00002: saving model to model_init_2021-02-0806_24_25.928698/model-00002-1.21258-0.48341-1.24933-0.47000.h5\n",
      "Epoch 3/10\n",
      "133/133 [==============================] - 87s 653ms/step - loss: 1.1243 - categorical_accuracy: 0.5353 - val_loss: 1.4023 - val_categorical_accuracy: 0.4000\n",
      "\n",
      "Epoch 00003: saving model to model_init_2021-02-0806_24_25.928698/model-00003-1.12344-0.53544-1.40227-0.40000.h5\n",
      "Epoch 4/10\n",
      "133/133 [==============================] - 83s 621ms/step - loss: 1.0233 - categorical_accuracy: 0.5787 - val_loss: 1.4600 - val_categorical_accuracy: 0.4300\n",
      "\n",
      "Epoch 00004: saving model to model_init_2021-02-0806_24_25.928698/model-00004-1.02458-0.57843-1.45999-0.43000.h5\n",
      "Epoch 5/10\n",
      "133/133 [==============================] - 82s 616ms/step - loss: 0.9238 - categorical_accuracy: 0.6391 - val_loss: 1.5700 - val_categorical_accuracy: 0.3300\n",
      "\n",
      "Epoch 00005: saving model to model_init_2021-02-0806_24_25.928698/model-00005-0.92292-0.63952-1.57003-0.33000.h5\n",
      "Epoch 6/10\n",
      "133/133 [==============================] - 82s 617ms/step - loss: 0.8907 - categorical_accuracy: 0.6622 - val_loss: 1.2062 - val_categorical_accuracy: 0.5000\n",
      "\n",
      "Epoch 00006: saving model to model_init_2021-02-0806_24_25.928698/model-00006-0.88997-0.66214-1.20622-0.50000.h5\n",
      "Epoch 7/10\n",
      "133/133 [==============================] - 82s 616ms/step - loss: 0.8893 - categorical_accuracy: 0.6509 - val_loss: 1.4431 - val_categorical_accuracy: 0.4000\n",
      "\n",
      "Epoch 00007: saving model to model_init_2021-02-0806_24_25.928698/model-00007-0.88905-0.65083-1.44310-0.40000.h5\n",
      "Epoch 8/10\n",
      "133/133 [==============================] - 83s 625ms/step - loss: 0.8075 - categorical_accuracy: 0.6897 - val_loss: 1.4349 - val_categorical_accuracy: 0.3500\n",
      "\n",
      "Epoch 00008: saving model to model_init_2021-02-0806_24_25.928698/model-00008-0.80704-0.68929-1.43493-0.35000.h5\n",
      "Epoch 9/10\n",
      "133/133 [==============================] - 85s 642ms/step - loss: 0.8506 - categorical_accuracy: 0.6762 - val_loss: 1.8743 - val_categorical_accuracy: 0.2800\n",
      "\n",
      "Epoch 00009: saving model to model_init_2021-02-0806_24_25.928698/model-00009-0.84926-0.67722-1.87430-0.28000.h5\n",
      "Epoch 10/10\n",
      "133/133 [==============================] - 83s 622ms/step - loss: 0.8146 - categorical_accuracy: 0.6702 - val_loss: 1.3911 - val_categorical_accuracy: 0.4200\n",
      "\n",
      "Epoch 00010: saving model to model_init_2021-02-0806_24_25.928698/model-00010-0.81510-0.66968-1.39114-0.42000.h5\n",
      "\n",
      "Epoch 00010: ReduceLROnPlateau reducing learning rate to 0.00020000000949949026.\n"
     ]
    }
   ],
   "source": [
    "print(\"Total Params:\", rnn_cnn_mn_v2_model.count_params())\n",
    "history_model12=rnn_cnn_mn_v2.train_model(rnn_cnn_mn_v2_model,augment_data=True)"
   ]
  },
  {
   "cell_type": "markdown",
   "metadata": {},
   "source": [
    "#### PRe trained weights doesnt give good results, lets try and train all the weights"
   ]
  },
  {
   "cell_type": "markdown",
   "metadata": {},
   "source": [
    "### Model 13 with mobilenet v2 training all the weights"
   ]
  },
  {
   "cell_type": "code",
   "execution_count": 12,
   "metadata": {},
   "outputs": [],
   "source": [
    "mobilenetV2_transfer = MobileNetV2(weights='imagenet', include_top=False)\n"
   ]
  },
  {
   "cell_type": "code",
   "execution_count": 15,
   "metadata": {},
   "outputs": [],
   "source": [
    "          \n",
    "class RNNCNN_tain_weights(ModelBuilderMoreAugmentation):\n",
    "    \n",
    "    def define_model(self,gru_cells=64,dense_neurons=64,dropout=0.25):\n",
    "        \n",
    "        model = Sequential()\n",
    "        model.add(TimeDistributed(mobilenetV2_transfer,input_shape=(self.frames_to_sample,self.image_height,self.image_width,self.channels)))\n",
    " \n",
    "        \n",
    "        model.add(TimeDistributed(BatchNormalization()))\n",
    "        model.add(TimeDistributed(MaxPooling2D((2, 2))))\n",
    "        model.add(TimeDistributed(Flatten()))\n",
    "\n",
    "        model.add(GRU(gru_cells))\n",
    "        model.add(Dropout(dropout))\n",
    "        \n",
    "        model.add(Dense(dense_neurons,activation='relu'))\n",
    "        model.add(Dropout(dropout))\n",
    "        \n",
    "        model.add(Dense(self.num_classes, activation='softmax'))\n",
    "        \n",
    "        \n",
    "        optimiser = optimizers.Adam()\n",
    "        model.compile(optimizer=optimiser, loss='categorical_crossentropy', metrics=['categorical_accuracy'])\n",
    "        return model"
   ]
  },
  {
   "cell_type": "code",
   "execution_count": 16,
   "metadata": {},
   "outputs": [
    {
     "name": "stdout",
     "output_type": "stream",
     "text": [
      "_________________________________________________________________\n",
      "Layer (type)                 Output Shape              Param #   \n",
      "=================================================================\n",
      "time_distributed_1 (TimeDist (None, 16, 4, 4, 1280)    2257984   \n",
      "_________________________________________________________________\n",
      "time_distributed_2 (TimeDist (None, 16, 4, 4, 1280)    5120      \n",
      "_________________________________________________________________\n",
      "time_distributed_3 (TimeDist (None, 16, 2, 2, 1280)    0         \n",
      "_________________________________________________________________\n",
      "time_distributed_4 (TimeDist (None, 16, 5120)          0         \n",
      "_________________________________________________________________\n",
      "gru_1 (GRU)                  (None, 128)               2015616   \n",
      "_________________________________________________________________\n",
      "dropout_1 (Dropout)          (None, 128)               0         \n",
      "_________________________________________________________________\n",
      "dense_1 (Dense)              (None, 128)               16512     \n",
      "_________________________________________________________________\n",
      "dropout_2 (Dropout)          (None, 128)               0         \n",
      "_________________________________________________________________\n",
      "dense_2 (Dense)              (None, 5)                 645       \n",
      "=================================================================\n",
      "Total params: 4,295,877\n",
      "Trainable params: 4,259,205\n",
      "Non-trainable params: 36,672\n",
      "_________________________________________________________________\n"
     ]
    }
   ],
   "source": [
    "rnn_cnn_13=RNNCNN_tain_weights()\n",
    "rnn_cnn_13.initialize_path(project_folder)\n",
    "rnn_cnn_13.initialize_image_properties(image_height=120,image_width=120)\n",
    "rnn_cnn_13.initialize_hyperparams(frames_to_sample=16,batch_size=5,num_epochs=10)\n",
    "rnn_cnn_13_model=rnn_cnn_13.define_model(gru_cells=128,dense_neurons=128,dropout=0.25)\n",
    "rnn_cnn_13_model.summary()"
   ]
  },
  {
   "cell_type": "code",
   "execution_count": 17,
   "metadata": {},
   "outputs": [
    {
     "name": "stdout",
     "output_type": "stream",
     "text": [
      "Total Params: 4295877\n",
      "Epoch 1/10\n",
      "133/133 [==============================] - 115s 864ms/step - loss: 1.3298 - categorical_accuracy: 0.4639 - val_loss: 0.8398 - val_categorical_accuracy: 0.6900\n",
      "\n",
      "Epoch 00001: saving model to model_init_2021-02-0806_58_46.674261/model-00001-1.32957-0.46380-0.83982-0.69000.h5\n",
      "Epoch 2/10\n",
      "133/133 [==============================] - 97s 730ms/step - loss: 1.0957 - categorical_accuracy: 0.5582 - val_loss: 1.1752 - val_categorical_accuracy: 0.4600\n",
      "\n",
      "Epoch 00002: saving model to model_init_2021-02-0806_58_46.674261/model-00002-1.09208-0.55882-1.17523-0.46000.h5\n",
      "Epoch 3/10\n",
      "133/133 [==============================] - 95s 712ms/step - loss: 0.9375 - categorical_accuracy: 0.6190 - val_loss: 1.1691 - val_categorical_accuracy: 0.5200\n",
      "\n",
      "Epoch 00003: saving model to model_init_2021-02-0806_58_46.674261/model-00003-0.93885-0.61840-1.16911-0.52000.h5\n",
      "Epoch 4/10\n",
      "133/133 [==============================] - 97s 727ms/step - loss: 0.7708 - categorical_accuracy: 0.6840 - val_loss: 0.7720 - val_categorical_accuracy: 0.6900\n",
      "\n",
      "Epoch 00004: saving model to model_init_2021-02-0806_58_46.674261/model-00004-0.77115-0.68401-0.77195-0.69000.h5\n",
      "Epoch 5/10\n",
      "133/133 [==============================] - 94s 708ms/step - loss: 0.7790 - categorical_accuracy: 0.6699 - val_loss: 1.6509 - val_categorical_accuracy: 0.4000\n",
      "\n",
      "Epoch 00005: saving model to model_init_2021-02-0806_58_46.674261/model-00005-0.78045-0.66893-1.65086-0.40000.h5\n",
      "Epoch 6/10\n",
      "133/133 [==============================] - 97s 728ms/step - loss: 0.7716 - categorical_accuracy: 0.6789 - val_loss: 1.4029 - val_categorical_accuracy: 0.5000\n",
      "\n",
      "Epoch 00006: saving model to model_init_2021-02-0806_58_46.674261/model-00006-0.77319-0.67798-1.40286-0.50000.h5\n",
      "Epoch 7/10\n",
      "133/133 [==============================] - 97s 727ms/step - loss: 0.7426 - categorical_accuracy: 0.6985 - val_loss: 1.2553 - val_categorical_accuracy: 0.5200\n",
      "\n",
      "Epoch 00007: saving model to model_init_2021-02-0806_58_46.674261/model-00007-0.74124-0.69910-1.25530-0.52000.h5\n",
      "Epoch 8/10\n",
      "133/133 [==============================] - 97s 728ms/step - loss: 0.6337 - categorical_accuracy: 0.7379 - val_loss: 1.7181 - val_categorical_accuracy: 0.5400\n",
      "\n",
      "Epoch 00008: saving model to model_init_2021-02-0806_58_46.674261/model-00008-0.63248-0.73906-1.71808-0.54000.h5\n",
      "\n",
      "Epoch 00008: ReduceLROnPlateau reducing learning rate to 0.00020000000949949026.\n",
      "Epoch 9/10\n",
      "133/133 [==============================] - 96s 719ms/step - loss: 0.4947 - categorical_accuracy: 0.7822 - val_loss: 0.9817 - val_categorical_accuracy: 0.6400\n",
      "\n",
      "Epoch 00009: saving model to model_init_2021-02-0806_58_46.674261/model-00009-0.49389-0.78205-0.98170-0.64000.h5\n",
      "Epoch 10/10\n",
      "133/133 [==============================] - 94s 703ms/step - loss: 0.4245 - categorical_accuracy: 0.8055 - val_loss: 0.6906 - val_categorical_accuracy: 0.7300\n",
      "\n",
      "Epoch 00010: saving model to model_init_2021-02-0806_58_46.674261/model-00010-0.42465-0.80543-0.69060-0.73000.h5\n"
     ]
    }
   ],
   "source": [
    "print(\"Total Params:\", rnn_cnn_13_model.count_params())\n",
    "history_model13=rnn_cnn_13.train_model(rnn_cnn_13_model,augment_data=True)"
   ]
  },
  {
   "cell_type": "markdown",
   "metadata": {},
   "source": [
    "### Lets Try Mobile net V1"
   ]
  },
  {
   "cell_type": "markdown",
   "metadata": {},
   "source": [
    "## Model 14 with mobilenet v1 training all the weights"
   ]
  },
  {
   "cell_type": "code",
   "execution_count": 18,
   "metadata": {},
   "outputs": [
    {
     "name": "stdout",
     "output_type": "stream",
     "text": [
      "Downloading data from https://github.com/fchollet/deep-learning-models/releases/download/v0.6/mobilenet_1_0_224_tf_no_top.h5\n",
      "17227776/17225924 [==============================] - 1s 0us/step\n"
     ]
    }
   ],
   "source": [
    "\n",
    "from keras.applications import mobilenet\n",
    "mobilenet_transfer =  mobilenet.MobileNet(weights='imagenet', include_top=False)"
   ]
  },
  {
   "cell_type": "code",
   "execution_count": 19,
   "metadata": {},
   "outputs": [],
   "source": [
    "class RNNCNN_tain_weights_14(ModelBuilderMoreAugmentation):\n",
    "    \n",
    "    def define_model(self,gru_cells=64,dense_neurons=64,dropout=0.25):\n",
    "        \n",
    "        model = Sequential()\n",
    "        model.add(TimeDistributed(mobilenet_transfer,input_shape=(self.frames_to_sample,self.image_height,self.image_width,self.channels)))\n",
    " \n",
    "        \n",
    "        model.add(TimeDistributed(BatchNormalization()))\n",
    "        model.add(TimeDistributed(MaxPooling2D((2, 2))))\n",
    "        model.add(TimeDistributed(Flatten()))\n",
    "\n",
    "        model.add(GRU(gru_cells))\n",
    "        model.add(Dropout(dropout))\n",
    "        \n",
    "        model.add(Dense(dense_neurons,activation='relu'))\n",
    "        model.add(Dropout(dropout))\n",
    "        \n",
    "        model.add(Dense(self.num_classes, activation='softmax'))\n",
    "        \n",
    "        \n",
    "        optimiser = optimizers.Adam()\n",
    "        model.compile(optimizer=optimiser, loss='categorical_crossentropy', metrics=['categorical_accuracy'])\n",
    "        return model"
   ]
  },
  {
   "cell_type": "code",
   "execution_count": 20,
   "metadata": {},
   "outputs": [
    {
     "name": "stdout",
     "output_type": "stream",
     "text": [
      "_________________________________________________________________\n",
      "Layer (type)                 Output Shape              Param #   \n",
      "=================================================================\n",
      "time_distributed_5 (TimeDist (None, 16, 4, 4, 1280)    2257984   \n",
      "_________________________________________________________________\n",
      "time_distributed_6 (TimeDist (None, 16, 4, 4, 1280)    5120      \n",
      "_________________________________________________________________\n",
      "time_distributed_7 (TimeDist (None, 16, 2, 2, 1280)    0         \n",
      "_________________________________________________________________\n",
      "time_distributed_8 (TimeDist (None, 16, 5120)          0         \n",
      "_________________________________________________________________\n",
      "gru_2 (GRU)                  (None, 128)               2015616   \n",
      "_________________________________________________________________\n",
      "dropout_3 (Dropout)          (None, 128)               0         \n",
      "_________________________________________________________________\n",
      "dense_3 (Dense)              (None, 128)               16512     \n",
      "_________________________________________________________________\n",
      "dropout_4 (Dropout)          (None, 128)               0         \n",
      "_________________________________________________________________\n",
      "dense_4 (Dense)              (None, 5)                 645       \n",
      "=================================================================\n",
      "Total params: 4,295,877\n",
      "Trainable params: 4,259,205\n",
      "Non-trainable params: 36,672\n",
      "_________________________________________________________________\n"
     ]
    }
   ],
   "source": [
    "rnn_cnn_14=RNNCNN_tain_weights()\n",
    "rnn_cnn_14.initialize_path(project_folder)\n",
    "rnn_cnn_14.initialize_image_properties(image_height=120,image_width=120)\n",
    "rnn_cnn_14.initialize_hyperparams(frames_to_sample=16,batch_size=5,num_epochs=15)\n",
    "rnn_cnn_14_model=rnn_cnn_14.define_model(gru_cells=128,dense_neurons=128,dropout=0.25)\n",
    "rnn_cnn_14_model.summary()"
   ]
  },
  {
   "cell_type": "code",
   "execution_count": 21,
   "metadata": {},
   "outputs": [
    {
     "name": "stdout",
     "output_type": "stream",
     "text": [
      "Total Params: 4295877\n",
      "Epoch 1/15\n",
      "133/133 [==============================] - 112s 844ms/step - loss: 0.9503 - categorical_accuracy: 0.6461 - val_loss: 1.0527 - val_categorical_accuracy: 0.5800\n",
      "\n",
      "Epoch 00001: saving model to model_init_2021-02-0807_27_51.966986/model-00001-0.95046-0.64555-1.05265-0.58000.h5\n",
      "Epoch 2/15\n",
      "133/133 [==============================] - 96s 725ms/step - loss: 0.9476 - categorical_accuracy: 0.6196 - val_loss: 1.5255 - val_categorical_accuracy: 0.4300\n",
      "\n",
      "Epoch 00002: saving model to model_init_2021-02-0807_27_51.966986/model-00002-0.94260-0.62142-1.52546-0.43000.h5\n",
      "Epoch 3/15\n",
      "133/133 [==============================] - 94s 707ms/step - loss: 0.8016 - categorical_accuracy: 0.6531 - val_loss: 1.7509 - val_categorical_accuracy: 0.3200\n",
      "\n",
      "Epoch 00003: saving model to model_init_2021-02-0807_27_51.966986/model-00003-0.80260-0.65309-1.75094-0.32000.h5\n",
      "Epoch 4/15\n",
      "133/133 [==============================] - 94s 709ms/step - loss: 0.9027 - categorical_accuracy: 0.6190 - val_loss: 1.4398 - val_categorical_accuracy: 0.4000\n",
      "\n",
      "Epoch 00004: saving model to model_init_2021-02-0807_27_51.966986/model-00004-0.90298-0.61840-1.43978-0.40000.h5\n",
      "Epoch 5/15\n",
      "133/133 [==============================] - 94s 705ms/step - loss: 0.9790 - categorical_accuracy: 0.5950 - val_loss: 1.5928 - val_categorical_accuracy: 0.3100\n",
      "\n",
      "Epoch 00005: saving model to model_init_2021-02-0807_27_51.966986/model-00005-0.97850-0.59578-1.59282-0.31000.h5\n",
      "\n",
      "Epoch 00005: ReduceLROnPlateau reducing learning rate to 0.00020000000949949026.\n",
      "Epoch 6/15\n",
      "133/133 [==============================] - 96s 725ms/step - loss: 0.8294 - categorical_accuracy: 0.6396 - val_loss: 0.9917 - val_categorical_accuracy: 0.6000\n",
      "\n",
      "Epoch 00006: saving model to model_init_2021-02-0807_27_51.966986/model-00006-0.82995-0.63952-0.99172-0.60000.h5\n",
      "Epoch 7/15\n",
      "133/133 [==============================] - 94s 704ms/step - loss: 0.6885 - categorical_accuracy: 0.6837 - val_loss: 0.7308 - val_categorical_accuracy: 0.7000\n",
      "\n",
      "Epoch 00007: saving model to model_init_2021-02-0807_27_51.966986/model-00007-0.68700-0.68477-0.73083-0.70000.h5\n",
      "Epoch 8/15\n",
      "133/133 [==============================] - 93s 701ms/step - loss: 0.6093 - categorical_accuracy: 0.7201 - val_loss: 0.5431 - val_categorical_accuracy: 0.7500\n",
      "\n",
      "Epoch 00008: saving model to model_init_2021-02-0807_27_51.966986/model-00008-0.60921-0.72021-0.54310-0.75000.h5\n",
      "Epoch 9/15\n",
      "133/133 [==============================] - 94s 705ms/step - loss: 0.5754 - categorical_accuracy: 0.7281 - val_loss: 0.4882 - val_categorical_accuracy: 0.7900\n",
      "\n",
      "Epoch 00009: saving model to model_init_2021-02-0807_27_51.966986/model-00009-0.57412-0.72926-0.48820-0.79000.h5\n",
      "Epoch 10/15\n",
      "133/133 [==============================] - 94s 709ms/step - loss: 0.5193 - categorical_accuracy: 0.7461 - val_loss: 0.4283 - val_categorical_accuracy: 0.8300\n",
      "\n",
      "Epoch 00010: saving model to model_init_2021-02-0807_27_51.966986/model-00010-0.52012-0.74585-0.42832-0.83000.h5\n",
      "Epoch 11/15\n",
      "133/133 [==============================] - 93s 700ms/step - loss: 0.4516 - categorical_accuracy: 0.7672 - val_loss: 0.4065 - val_categorical_accuracy: 0.8000\n",
      "\n",
      "Epoch 00011: saving model to model_init_2021-02-0807_27_51.966986/model-00011-0.45210-0.76697-0.40649-0.80000.h5\n",
      "Epoch 12/15\n",
      "133/133 [==============================] - 94s 704ms/step - loss: 0.4234 - categorical_accuracy: 0.7744 - val_loss: 0.4411 - val_categorical_accuracy: 0.8000\n",
      "\n",
      "Epoch 00012: saving model to model_init_2021-02-0807_27_51.966986/model-00012-0.42273-0.77526-0.44110-0.80000.h5\n",
      "Epoch 13/15\n",
      "133/133 [==============================] - 94s 707ms/step - loss: 0.3773 - categorical_accuracy: 0.8098 - val_loss: 0.3368 - val_categorical_accuracy: 0.8600\n",
      "\n",
      "Epoch 00013: saving model to model_init_2021-02-0807_27_51.966986/model-00013-0.37744-0.80920-0.33684-0.86000.h5\n",
      "Epoch 14/15\n",
      "133/133 [==============================] - 93s 703ms/step - loss: 0.3990 - categorical_accuracy: 0.7830 - val_loss: 0.3561 - val_categorical_accuracy: 0.8600\n",
      "\n",
      "Epoch 00014: saving model to model_init_2021-02-0807_27_51.966986/model-00014-0.39799-0.78281-0.35613-0.86000.h5\n",
      "Epoch 15/15\n",
      "133/133 [==============================] - 94s 705ms/step - loss: 0.3459 - categorical_accuracy: 0.8213 - val_loss: 0.3894 - val_categorical_accuracy: 0.8300\n",
      "\n",
      "Epoch 00015: saving model to model_init_2021-02-0807_27_51.966986/model-00015-0.34617-0.82127-0.38940-0.83000.h5\n"
     ]
    }
   ],
   "source": [
    "print(\"Total Params:\", rnn_cnn_14_model.count_params())\n",
    "history_model14=rnn_cnn_14.train_model(rnn_cnn_14_model,augment_data=True)"
   ]
  },
  {
   "cell_type": "markdown",
   "metadata": {},
   "source": [
    "### Model 15 The above model a good accuracy but it the model size is 50 MB , so lets retrain model 11 with more epochs and lesser layers"
   ]
  },
  {
   "cell_type": "code",
   "execution_count": 22,
   "metadata": {},
   "outputs": [],
   "source": [
    "class RNNCNN15(ModelBuilderMoreAugmentation):\n",
    "    \n",
    "    def define_model(self,lstm_cells=64,dense_neurons=64,dropout=0.25):\n",
    "\n",
    "        model = Sequential()\n",
    "\n",
    "        model.add(TimeDistributed(Conv2D(16, (3, 3) , padding='same', activation='relu'),\n",
    "                                  input_shape=(self.frames_to_sample,self.image_height,self.image_width,self.channels)))\n",
    "        model.add(TimeDistributed(BatchNormalization()))\n",
    "        model.add(TimeDistributed(MaxPooling2D((2, 2))))\n",
    "        \n",
    "        model.add(TimeDistributed(Conv2D(32, (3, 3) , padding='same', activation='relu')))\n",
    "        model.add(TimeDistributed(BatchNormalization()))\n",
    "        model.add(TimeDistributed(MaxPooling2D((2, 2))))\n",
    "        \n",
    "        model.add(TimeDistributed(Conv2D(64, (3, 3) , padding='same', activation='relu')))\n",
    "        model.add(TimeDistributed(BatchNormalization()))\n",
    "        model.add(TimeDistributed(MaxPooling2D((2, 2))))\n",
    "\n",
    "        model.add(TimeDistributed(Conv2D(128, (3, 3) , padding='same', activation='relu')))\n",
    "        model.add(TimeDistributed(BatchNormalization()))\n",
    "        model.add(TimeDistributed(MaxPooling2D((2, 2))))\n",
    "\n",
    "        model.add(TimeDistributed(Flatten()))\n",
    "\n",
    "\n",
    "        model.add(GRU(128))\n",
    "        model.add(Dropout(dropout))\n",
    "        #model.add(GRU(128))\n",
    "\n",
    "        model.add(Dense(dense_neurons,activation='relu'))\n",
    "\n",
    "        model.add(Dense(self.num_classes, activation='softmax'))\n",
    "        optimiser = optimizers.Adam(lr=0.0002)\n",
    "        model.compile(optimizer=optimiser, loss='categorical_crossentropy', metrics=['categorical_accuracy'])\n",
    "        return model"
   ]
  },
  {
   "cell_type": "code",
   "execution_count": 23,
   "metadata": {},
   "outputs": [
    {
     "name": "stdout",
     "output_type": "stream",
     "text": [
      "_________________________________________________________________\n",
      "Layer (type)                 Output Shape              Param #   \n",
      "=================================================================\n",
      "time_distributed_9 (TimeDist (None, 18, 120, 120, 16)  448       \n",
      "_________________________________________________________________\n",
      "time_distributed_10 (TimeDis (None, 18, 120, 120, 16)  64        \n",
      "_________________________________________________________________\n",
      "time_distributed_11 (TimeDis (None, 18, 60, 60, 16)    0         \n",
      "_________________________________________________________________\n",
      "time_distributed_12 (TimeDis (None, 18, 60, 60, 32)    4640      \n",
      "_________________________________________________________________\n",
      "time_distributed_13 (TimeDis (None, 18, 60, 60, 32)    128       \n",
      "_________________________________________________________________\n",
      "time_distributed_14 (TimeDis (None, 18, 30, 30, 32)    0         \n",
      "_________________________________________________________________\n",
      "time_distributed_15 (TimeDis (None, 18, 30, 30, 64)    18496     \n",
      "_________________________________________________________________\n",
      "time_distributed_16 (TimeDis (None, 18, 30, 30, 64)    256       \n",
      "_________________________________________________________________\n",
      "time_distributed_17 (TimeDis (None, 18, 15, 15, 64)    0         \n",
      "_________________________________________________________________\n",
      "time_distributed_18 (TimeDis (None, 18, 15, 15, 128)   73856     \n",
      "_________________________________________________________________\n",
      "time_distributed_19 (TimeDis (None, 18, 15, 15, 128)   512       \n",
      "_________________________________________________________________\n",
      "time_distributed_20 (TimeDis (None, 18, 7, 7, 128)     0         \n",
      "_________________________________________________________________\n",
      "time_distributed_21 (TimeDis (None, 18, 6272)          0         \n",
      "_________________________________________________________________\n",
      "gru_3 (GRU)                  (None, 128)               2457984   \n",
      "_________________________________________________________________\n",
      "dropout_5 (Dropout)          (None, 128)               0         \n",
      "_________________________________________________________________\n",
      "dense_5 (Dense)              (None, 128)               16512     \n",
      "_________________________________________________________________\n",
      "dense_6 (Dense)              (None, 5)                 645       \n",
      "=================================================================\n",
      "Total params: 2,573,541\n",
      "Trainable params: 2,573,061\n",
      "Non-trainable params: 480\n",
      "_________________________________________________________________\n"
     ]
    }
   ],
   "source": [
    "rnn_cnn15=RNNCNN15()\n",
    "rnn_cnn15.initialize_path(project_folder)\n",
    "rnn_cnn15.initialize_image_properties(image_height=120,image_width=120)\n",
    "rnn_cnn15.initialize_hyperparams(frames_to_sample=18,batch_size=32,num_epochs=18)\n",
    "rnn_cnn15_model=rnn_cnn15.define_model(lstm_cells=128,dense_neurons=128,dropout=0.25)\n",
    "rnn_cnn15_model.summary()"
   ]
  },
  {
   "cell_type": "code",
   "execution_count": 24,
   "metadata": {},
   "outputs": [
    {
     "name": "stdout",
     "output_type": "stream",
     "text": [
      "Total Params: 2573541\n",
      "Epoch 1/18\n",
      "21/21 [==============================] - 112s 5s/step - loss: 1.4131 - categorical_accuracy: 0.3744 - val_loss: 1.1419 - val_categorical_accuracy: 0.5500\n",
      "\n",
      "Epoch 00001: saving model to model_init_2021-02-0808_22_48.607015/model-00001-1.41558-0.37330-1.14195-0.55000.h5\n",
      "Epoch 2/18\n",
      "21/21 [==============================] - 89s 4s/step - loss: 0.9820 - categorical_accuracy: 0.6219 - val_loss: 0.9366 - val_categorical_accuracy: 0.7000\n",
      "\n",
      "Epoch 00002: saving model to model_init_2021-02-0808_22_48.607015/model-00002-0.97911-0.62293-0.93657-0.70000.h5\n",
      "Epoch 3/18\n",
      "21/21 [==============================] - 99s 5s/step - loss: 0.7838 - categorical_accuracy: 0.7124 - val_loss: 0.9905 - val_categorical_accuracy: 0.6000\n",
      "\n",
      "Epoch 00003: saving model to model_init_2021-02-0808_22_48.607015/model-00003-0.78410-0.71116-0.99053-0.60000.h5\n",
      "Epoch 4/18\n",
      "21/21 [==============================] - 99s 5s/step - loss: 0.6161 - categorical_accuracy: 0.7915 - val_loss: 0.8702 - val_categorical_accuracy: 0.7000\n",
      "\n",
      "Epoch 00004: saving model to model_init_2021-02-0808_22_48.607015/model-00004-0.61655-0.79110-0.87018-0.70000.h5\n",
      "Epoch 5/18\n",
      "21/21 [==============================] - 99s 5s/step - loss: 0.4510 - categorical_accuracy: 0.8679 - val_loss: 0.8046 - val_categorical_accuracy: 0.6600\n",
      "\n",
      "Epoch 00005: saving model to model_init_2021-02-0808_22_48.607015/model-00005-0.45036-0.86727-0.80465-0.66000.h5\n",
      "Epoch 6/18\n",
      "21/21 [==============================] - 99s 5s/step - loss: 0.3663 - categorical_accuracy: 0.9043 - val_loss: 0.8728 - val_categorical_accuracy: 0.6600\n",
      "\n",
      "Epoch 00006: saving model to model_init_2021-02-0808_22_48.607015/model-00006-0.36569-0.90422-0.87283-0.66000.h5\n",
      "Epoch 7/18\n",
      "21/21 [==============================] - 99s 5s/step - loss: 0.3149 - categorical_accuracy: 0.9166 - val_loss: 0.7987 - val_categorical_accuracy: 0.7200\n",
      "\n",
      "Epoch 00007: saving model to model_init_2021-02-0808_22_48.607015/model-00007-0.31299-0.91780-0.79868-0.72000.h5\n",
      "Epoch 8/18\n",
      "21/21 [==============================] - 98s 5s/step - loss: 0.2411 - categorical_accuracy: 0.9409 - val_loss: 0.7746 - val_categorical_accuracy: 0.6900\n",
      "\n",
      "Epoch 00008: saving model to model_init_2021-02-0808_22_48.607015/model-00008-0.24187-0.94042-0.77462-0.69000.h5\n",
      "Epoch 9/18\n",
      "21/21 [==============================] - 98s 5s/step - loss: 0.2038 - categorical_accuracy: 0.9525 - val_loss: 0.7530 - val_categorical_accuracy: 0.6800\n",
      "\n",
      "Epoch 00009: saving model to model_init_2021-02-0808_22_48.607015/model-00009-0.20338-0.95249-0.75304-0.68000.h5\n",
      "Epoch 10/18\n",
      "21/21 [==============================] - 98s 5s/step - loss: 0.1654 - categorical_accuracy: 0.9640 - val_loss: 0.7274 - val_categorical_accuracy: 0.7400\n",
      "\n",
      "Epoch 00010: saving model to model_init_2021-02-0808_22_48.607015/model-00010-0.16552-0.96380-0.72743-0.74000.h5\n",
      "Epoch 11/18\n",
      "21/21 [==============================] - 97s 5s/step - loss: 0.1313 - categorical_accuracy: 0.9725 - val_loss: 0.7223 - val_categorical_accuracy: 0.7500\n",
      "\n",
      "Epoch 00011: saving model to model_init_2021-02-0808_22_48.607015/model-00011-0.13211-0.97210-0.72227-0.75000.h5\n",
      "Epoch 12/18\n",
      "21/21 [==============================] - 98s 5s/step - loss: 0.1123 - categorical_accuracy: 0.9784 - val_loss: 0.7240 - val_categorical_accuracy: 0.7200\n",
      "\n",
      "Epoch 00012: saving model to model_init_2021-02-0808_22_48.607015/model-00012-0.11273-0.97813-0.72403-0.72000.h5\n",
      "Epoch 13/18\n",
      "21/21 [==============================] - 97s 5s/step - loss: 0.0936 - categorical_accuracy: 0.9814 - val_loss: 0.7422 - val_categorical_accuracy: 0.7500\n",
      "\n",
      "Epoch 00013: saving model to model_init_2021-02-0808_22_48.607015/model-00013-0.09331-0.98115-0.74222-0.75000.h5\n",
      "Epoch 14/18\n",
      "21/21 [==============================] - 97s 5s/step - loss: 0.0709 - categorical_accuracy: 0.9873 - val_loss: 0.7151 - val_categorical_accuracy: 0.7600\n",
      "\n",
      "Epoch 00014: saving model to model_init_2021-02-0808_22_48.607015/model-00014-0.07114-0.98718-0.71512-0.76000.h5\n",
      "Epoch 15/18\n",
      "21/21 [==============================] - 96s 5s/step - loss: 0.0707 - categorical_accuracy: 0.9886 - val_loss: 0.6845 - val_categorical_accuracy: 0.7400\n",
      "\n",
      "Epoch 00015: saving model to model_init_2021-02-0808_22_48.607015/model-00015-0.07042-0.98869-0.68451-0.74000.h5\n",
      "Epoch 16/18\n",
      "21/21 [==============================] - 97s 5s/step - loss: 0.0599 - categorical_accuracy: 0.9893 - val_loss: 0.7376 - val_categorical_accuracy: 0.7500\n",
      "\n",
      "Epoch 00016: saving model to model_init_2021-02-0808_22_48.607015/model-00016-0.05975-0.98944-0.73759-0.75000.h5\n",
      "Epoch 17/18\n",
      "21/21 [==============================] - 98s 5s/step - loss: 0.0646 - categorical_accuracy: 0.9846 - val_loss: 0.6099 - val_categorical_accuracy: 0.8000\n",
      "\n",
      "Epoch 00017: saving model to model_init_2021-02-0808_22_48.607015/model-00017-0.06362-0.98492-0.60992-0.80000.h5\n",
      "Epoch 18/18\n",
      "21/21 [==============================] - 98s 5s/step - loss: 0.0591 - categorical_accuracy: 0.9856 - val_loss: 0.7705 - val_categorical_accuracy: 0.7600\n",
      "\n",
      "Epoch 00018: saving model to model_init_2021-02-0808_22_48.607015/model-00018-0.05915-0.98567-0.77048-0.76000.h5\n"
     ]
    }
   ],
   "source": [
    "print(\"Total Params:\", rnn_cnn15_model.count_params())\n",
    "history_model15=rnn_cnn15.train_model(rnn_cnn15_model,augment_data=True)"
   ]
  },
  {
   "cell_type": "markdown",
   "metadata": {},
   "source": [
    "### Model 16, with less layers"
   ]
  },
  {
   "cell_type": "code",
   "execution_count": 30,
   "metadata": {},
   "outputs": [],
   "source": [
    "class RNNCNN16(ModelBuilderMoreAugmentation):\n",
    "    \n",
    "    def define_model(self,lstm_cells=64,dense_neurons=64,dropout=0.25):\n",
    "\n",
    "        model = Sequential()\n",
    "\n",
    "        model.add(TimeDistributed(Conv2D(16, (3, 3) , padding='same', activation='relu'),\n",
    "                                  input_shape=(self.frames_to_sample,self.image_height,self.image_width,self.channels)))\n",
    "        model.add(TimeDistributed(BatchNormalization()))\n",
    "        model.add(TimeDistributed(MaxPooling2D((2, 2))))\n",
    "        \n",
    "        model.add(TimeDistributed(Conv2D(32, (3, 3) , padding='same', activation='relu')))\n",
    "        model.add(TimeDistributed(BatchNormalization()))\n",
    "        model.add(TimeDistributed(MaxPooling2D((2, 2))))\n",
    "        \n",
    "        model.add(TimeDistributed(Conv2D(64, (3, 3) , padding='same', activation='relu')))\n",
    "        model.add(TimeDistributed(BatchNormalization()))\n",
    "        model.add(TimeDistributed(MaxPooling2D((2, 2))))\n",
    "\n",
    "        model.add(TimeDistributed(Conv2D(128, (3, 3) , activation='relu')))\n",
    "        model.add(TimeDistributed(BatchNormalization()))\n",
    "        #model.add(TimeDistributed(MaxPooling2D((2, 2))))\n",
    "\n",
    "        model.add(TimeDistributed(Flatten()))\n",
    "\n",
    "\n",
    "        model.add(GRU(128))\n",
    "        model.add(Dropout(dropout))\n",
    "        #model.add(GRU(128))\n",
    "\n",
    "        model.add(Dense(self.num_classes, activation='softmax'))\n",
    "        optimiser = optimizers.Adam(lr=0.0002)\n",
    "        model.compile(optimizer=optimiser, loss='categorical_crossentropy', metrics=['categorical_accuracy'])\n",
    "        return model"
   ]
  },
  {
   "cell_type": "code",
   "execution_count": 31,
   "metadata": {},
   "outputs": [
    {
     "name": "stdout",
     "output_type": "stream",
     "text": [
      "_________________________________________________________________\n",
      "Layer (type)                 Output Shape              Param #   \n",
      "=================================================================\n",
      "time_distributed_58 (TimeDis (None, 18, 120, 120, 16)  448       \n",
      "_________________________________________________________________\n",
      "time_distributed_59 (TimeDis (None, 18, 120, 120, 16)  64        \n",
      "_________________________________________________________________\n",
      "time_distributed_60 (TimeDis (None, 18, 60, 60, 16)    0         \n",
      "_________________________________________________________________\n",
      "time_distributed_61 (TimeDis (None, 18, 60, 60, 32)    4640      \n",
      "_________________________________________________________________\n",
      "time_distributed_62 (TimeDis (None, 18, 60, 60, 32)    128       \n",
      "_________________________________________________________________\n",
      "time_distributed_63 (TimeDis (None, 18, 30, 30, 32)    0         \n",
      "_________________________________________________________________\n",
      "time_distributed_64 (TimeDis (None, 18, 30, 30, 64)    18496     \n",
      "_________________________________________________________________\n",
      "time_distributed_65 (TimeDis (None, 18, 30, 30, 64)    256       \n",
      "_________________________________________________________________\n",
      "time_distributed_66 (TimeDis (None, 18, 15, 15, 64)    0         \n",
      "_________________________________________________________________\n",
      "time_distributed_67 (TimeDis (None, 18, 13, 13, 128)   73856     \n",
      "_________________________________________________________________\n",
      "time_distributed_68 (TimeDis (None, 18, 13, 13, 128)   512       \n",
      "_________________________________________________________________\n",
      "time_distributed_69 (TimeDis (None, 18, 21632)         0         \n",
      "_________________________________________________________________\n",
      "gru_7 (GRU)                  (None, 128)               8356224   \n",
      "_________________________________________________________________\n",
      "dropout_9 (Dropout)          (None, 128)               0         \n",
      "_________________________________________________________________\n",
      "dense_12 (Dense)             (None, 5)                 645       \n",
      "=================================================================\n",
      "Total params: 8,455,269\n",
      "Trainable params: 8,454,789\n",
      "Non-trainable params: 480\n",
      "_________________________________________________________________\n"
     ]
    }
   ],
   "source": [
    "rnn_cnn16=RNNCNN16()\n",
    "rnn_cnn16.initialize_path(project_folder)\n",
    "rnn_cnn16.initialize_image_properties(image_height=120,image_width=120)\n",
    "rnn_cnn16.initialize_hyperparams(frames_to_sample=18,batch_size=32,num_epochs=18)\n",
    "rnn_cnn16_model=rnn_cnn16.define_model(lstm_cells=128,dense_neurons=128,dropout=0.25)\n",
    "rnn_cnn16_model.summary()"
   ]
  },
  {
   "cell_type": "code",
   "execution_count": 32,
   "metadata": {},
   "outputs": [
    {
     "name": "stdout",
     "output_type": "stream",
     "text": [
      "Total Params: 8455269\n",
      "Epoch 1/18\n",
      "21/21 [==============================] - 108s 5s/step - loss: 1.2558 - categorical_accuracy: 0.5314 - val_loss: 1.0492 - val_categorical_accuracy: 0.6600\n",
      "\n",
      "Epoch 00001: saving model to model_init_2021-02-0808_59_00.024434/model-00001-1.25996-0.53017-1.04916-0.66000.h5\n",
      "Epoch 2/18\n",
      "21/21 [==============================] - 90s 4s/step - loss: 0.4482 - categorical_accuracy: 0.8345 - val_loss: 0.8395 - val_categorical_accuracy: 0.6800\n",
      "\n",
      "Epoch 00002: saving model to model_init_2021-02-0808_59_00.024434/model-00002-0.44879-0.83484-0.83951-0.68000.h5\n",
      "Epoch 3/18\n",
      "21/21 [==============================] - 99s 5s/step - loss: 0.2211 - categorical_accuracy: 0.9326 - val_loss: 0.8281 - val_categorical_accuracy: 0.6800\n",
      "\n",
      "Epoch 00003: saving model to model_init_2021-02-0808_59_00.024434/model-00003-0.22047-0.93288-0.82813-0.68000.h5\n",
      "Epoch 4/18\n",
      "21/21 [==============================] - 99s 5s/step - loss: 0.1790 - categorical_accuracy: 0.9429 - val_loss: 0.8357 - val_categorical_accuracy: 0.7500\n",
      "\n",
      "Epoch 00004: saving model to model_init_2021-02-0808_59_00.024434/model-00004-0.17963-0.94268-0.83571-0.75000.h5\n",
      "Epoch 5/18\n",
      "21/21 [==============================] - 98s 5s/step - loss: 0.1166 - categorical_accuracy: 0.9726 - val_loss: 0.9025 - val_categorical_accuracy: 0.7100\n",
      "\n",
      "Epoch 00005: saving model to model_init_2021-02-0808_59_00.024434/model-00005-0.11619-0.97285-0.90248-0.71000.h5\n",
      "Epoch 6/18\n",
      "21/21 [==============================] - 99s 5s/step - loss: 0.0970 - categorical_accuracy: 0.9747 - val_loss: 0.8894 - val_categorical_accuracy: 0.7300\n",
      "\n",
      "Epoch 00006: saving model to model_init_2021-02-0808_59_00.024434/model-00006-0.09727-0.97436-0.88936-0.73000.h5\n",
      "Epoch 7/18\n",
      "21/21 [==============================] - 98s 5s/step - loss: 0.0661 - categorical_accuracy: 0.9911 - val_loss: 0.7823 - val_categorical_accuracy: 0.7700\n",
      "\n",
      "Epoch 00007: saving model to model_init_2021-02-0808_59_00.024434/model-00007-0.06607-0.99095-0.78229-0.77000.h5\n",
      "Epoch 8/18\n",
      "21/21 [==============================] - 98s 5s/step - loss: 0.0578 - categorical_accuracy: 0.9918 - val_loss: 0.8430 - val_categorical_accuracy: 0.7300\n",
      "\n",
      "Epoch 00008: saving model to model_init_2021-02-0808_59_00.024434/model-00008-0.05778-0.99170-0.84302-0.73000.h5\n",
      "Epoch 9/18\n",
      "21/21 [==============================] - 98s 5s/step - loss: 0.0421 - categorical_accuracy: 0.9970 - val_loss: 0.8540 - val_categorical_accuracy: 0.7500\n",
      "\n",
      "Epoch 00009: saving model to model_init_2021-02-0808_59_00.024434/model-00009-0.04217-0.99698-0.85401-0.75000.h5\n",
      "Epoch 10/18\n",
      "21/21 [==============================] - 99s 5s/step - loss: 0.0419 - categorical_accuracy: 0.9953 - val_loss: 0.8873 - val_categorical_accuracy: 0.7000\n",
      "\n",
      "Epoch 00010: saving model to model_init_2021-02-0808_59_00.024434/model-00010-0.04195-0.99548-0.88732-0.70000.h5\n",
      "Epoch 11/18\n",
      "21/21 [==============================] - 99s 5s/step - loss: 0.0337 - categorical_accuracy: 0.9963 - val_loss: 0.8201 - val_categorical_accuracy: 0.7300\n",
      "\n",
      "Epoch 00011: saving model to model_init_2021-02-0808_59_00.024434/model-00011-0.03384-0.99623-0.82009-0.73000.h5\n",
      "\n",
      "Epoch 00011: ReduceLROnPlateau reducing learning rate to 3.9999998989515007e-05.\n",
      "Epoch 12/18\n",
      "21/21 [==============================] - 96s 5s/step - loss: 0.0268 - categorical_accuracy: 1.0000 - val_loss: 0.8212 - val_categorical_accuracy: 0.7200\n",
      "\n",
      "Epoch 00012: saving model to model_init_2021-02-0808_59_00.024434/model-00012-0.02690-1.00000-0.82116-0.72000.h5\n",
      "Epoch 13/18\n",
      "21/21 [==============================] - 98s 5s/step - loss: 0.0247 - categorical_accuracy: 0.9993 - val_loss: 0.8168 - val_categorical_accuracy: 0.7400\n",
      "\n",
      "Epoch 00013: saving model to model_init_2021-02-0808_59_00.024434/model-00013-0.02454-0.99925-0.81682-0.74000.h5\n",
      "Epoch 14/18\n",
      "21/21 [==============================] - 98s 5s/step - loss: 0.0274 - categorical_accuracy: 0.9978 - val_loss: 0.8155 - val_categorical_accuracy: 0.7500\n",
      "\n",
      "Epoch 00014: saving model to model_init_2021-02-0808_59_00.024434/model-00014-0.02718-0.99774-0.81552-0.75000.h5\n",
      "Epoch 15/18\n",
      "21/21 [==============================] - 98s 5s/step - loss: 0.0234 - categorical_accuracy: 0.9985 - val_loss: 0.8189 - val_categorical_accuracy: 0.7400\n",
      "\n",
      "Epoch 00015: saving model to model_init_2021-02-0808_59_00.024434/model-00015-0.02338-0.99849-0.81891-0.74000.h5\n",
      "\n",
      "Epoch 00015: ReduceLROnPlateau reducing learning rate to 7.999999797903002e-06.\n",
      "Epoch 16/18\n",
      "21/21 [==============================] - 97s 5s/step - loss: 0.0237 - categorical_accuracy: 0.9985 - val_loss: 0.8138 - val_categorical_accuracy: 0.7400\n",
      "\n",
      "Epoch 00016: saving model to model_init_2021-02-0808_59_00.024434/model-00016-0.02361-0.99849-0.81381-0.74000.h5\n",
      "Epoch 17/18\n",
      "21/21 [==============================] - 99s 5s/step - loss: 0.0234 - categorical_accuracy: 0.9993 - val_loss: 0.8097 - val_categorical_accuracy: 0.7400\n",
      "\n",
      "Epoch 00017: saving model to model_init_2021-02-0808_59_00.024434/model-00017-0.02340-0.99925-0.80972-0.74000.h5\n",
      "Epoch 18/18\n",
      "21/21 [==============================] - 99s 5s/step - loss: 0.0198 - categorical_accuracy: 0.9993 - val_loss: 0.8125 - val_categorical_accuracy: 0.7400\n",
      "\n",
      "Epoch 00018: saving model to model_init_2021-02-0808_59_00.024434/model-00018-0.01972-0.99925-0.81246-0.74000.h5\n"
     ]
    }
   ],
   "source": [
    "print(\"Total Params:\", rnn_cnn16_model.count_params())\n",
    "history_model16=rnn_cnn16.train_model(rnn_cnn16_model,augment_data=True)"
   ]
  },
  {
   "cell_type": "markdown",
   "metadata": {},
   "source": [
    "### REtraining model 7 with higher epoch"
   ]
  },
  {
   "cell_type": "code",
   "execution_count": 33,
   "metadata": {},
   "outputs": [],
   "source": [
    "\n",
    "class ModelConv3D17(ModelBuilderMoreAugmentation):\n",
    "    \n",
    "    def define_model(self,filtersize=(3,3,3),dense_neurons=64,dropout=0.25):\n",
    "\n",
    "        model = Sequential()\n",
    "        model.add(Conv3D(16, filtersize, padding='same',\n",
    "                 input_shape=(self.frames_to_sample,self.image_height,self.image_width,self.channels)))\n",
    "        model.add(Activation('relu'))\n",
    "        model.add(BatchNormalization())\n",
    "        model.add(MaxPooling3D(pool_size=(2, 2, 2)))\n",
    "\n",
    "        model.add(Conv3D(32, filtersize, padding='same'))\n",
    "        model.add(Activation('relu'))\n",
    "        model.add(BatchNormalization())\n",
    "        model.add(MaxPooling3D(pool_size=(2, 2, 2)))\n",
    "\n",
    "        model.add(Conv3D(64, filtersize, padding='same'))\n",
    "        model.add(Activation('relu'))\n",
    "        model.add(BatchNormalization())\n",
    "        model.add(MaxPooling3D(pool_size=(2, 2, 2)))\n",
    "\n",
    "        model.add(Conv3D(128, filtersize, padding='same'))\n",
    "        model.add(Activation('relu'))\n",
    "        model.add(BatchNormalization())\n",
    "        model.add(MaxPooling3D(pool_size=(2, 2, 2)))\n",
    "\n",
    "        model.add(Flatten())\n",
    "        model.add(Dense(dense_neurons,activation='relu'))\n",
    "        model.add(BatchNormalization())\n",
    "        model.add(Dropout(dropout))\n",
    "\n",
    "        model.add(Dense(dense_neurons,activation='relu'))\n",
    "        model.add(BatchNormalization())\n",
    "        model.add(Dropout(dropout))\n",
    "\n",
    "\n",
    "        model.add(Dense(self.num_classes,activation='softmax'))\n",
    "\n",
    "        optimiser = optimizers.Adam(lr=0.0002)\n",
    "        model.compile(optimizer=optimiser, loss='categorical_crossentropy', metrics=['categorical_accuracy'])\n",
    "        return model"
   ]
  },
  {
   "cell_type": "code",
   "execution_count": 34,
   "metadata": {},
   "outputs": [
    {
     "name": "stdout",
     "output_type": "stream",
     "text": [
      "_________________________________________________________________\n",
      "Layer (type)                 Output Shape              Param #   \n",
      "=================================================================\n",
      "conv3d_1 (Conv3D)            (None, 20, 160, 160, 16)  1312      \n",
      "_________________________________________________________________\n",
      "activation_1 (Activation)    (None, 20, 160, 160, 16)  0         \n",
      "_________________________________________________________________\n",
      "batch_normalization_22 (Batc (None, 20, 160, 160, 16)  64        \n",
      "_________________________________________________________________\n",
      "max_pooling3d_1 (MaxPooling3 (None, 10, 80, 80, 16)    0         \n",
      "_________________________________________________________________\n",
      "conv3d_2 (Conv3D)            (None, 10, 80, 80, 32)    13856     \n",
      "_________________________________________________________________\n",
      "activation_2 (Activation)    (None, 10, 80, 80, 32)    0         \n",
      "_________________________________________________________________\n",
      "batch_normalization_23 (Batc (None, 10, 80, 80, 32)    128       \n",
      "_________________________________________________________________\n",
      "max_pooling3d_2 (MaxPooling3 (None, 5, 40, 40, 32)     0         \n",
      "_________________________________________________________________\n",
      "conv3d_3 (Conv3D)            (None, 5, 40, 40, 64)     55360     \n",
      "_________________________________________________________________\n",
      "activation_3 (Activation)    (None, 5, 40, 40, 64)     0         \n",
      "_________________________________________________________________\n",
      "batch_normalization_24 (Batc (None, 5, 40, 40, 64)     256       \n",
      "_________________________________________________________________\n",
      "max_pooling3d_3 (MaxPooling3 (None, 2, 20, 20, 64)     0         \n",
      "_________________________________________________________________\n",
      "conv3d_4 (Conv3D)            (None, 2, 20, 20, 128)    221312    \n",
      "_________________________________________________________________\n",
      "activation_4 (Activation)    (None, 2, 20, 20, 128)    0         \n",
      "_________________________________________________________________\n",
      "batch_normalization_25 (Batc (None, 2, 20, 20, 128)    512       \n",
      "_________________________________________________________________\n",
      "max_pooling3d_4 (MaxPooling3 (None, 1, 10, 10, 128)    0         \n",
      "_________________________________________________________________\n",
      "flatten_8 (Flatten)          (None, 12800)             0         \n",
      "_________________________________________________________________\n",
      "dense_13 (Dense)             (None, 256)               3277056   \n",
      "_________________________________________________________________\n",
      "batch_normalization_26 (Batc (None, 256)               1024      \n",
      "_________________________________________________________________\n",
      "dropout_10 (Dropout)         (None, 256)               0         \n",
      "_________________________________________________________________\n",
      "dense_14 (Dense)             (None, 256)               65792     \n",
      "_________________________________________________________________\n",
      "batch_normalization_27 (Batc (None, 256)               1024      \n",
      "_________________________________________________________________\n",
      "dropout_11 (Dropout)         (None, 256)               0         \n",
      "_________________________________________________________________\n",
      "dense_15 (Dense)             (None, 5)                 1285      \n",
      "=================================================================\n",
      "Total params: 3,638,981\n",
      "Trainable params: 3,637,477\n",
      "Non-trainable params: 1,504\n",
      "_________________________________________________________________\n"
     ]
    }
   ],
   "source": [
    "\n",
    "conv_3d17=ModelConv3D17()\n",
    "conv_3d17.initialize_path(project_folder)\n",
    "conv_3d17.initialize_image_properties(image_height=160,image_width=160)\n",
    "conv_3d17.initialize_hyperparams(frames_to_sample=20,batch_size=20,num_epochs=30)\n",
    "conv_3d17_model=conv_3d17.define_model(dense_neurons=256,dropout=0.5)\n",
    "conv_3d17_model.summary()"
   ]
  },
  {
   "cell_type": "code",
   "execution_count": 35,
   "metadata": {},
   "outputs": [
    {
     "name": "stdout",
     "output_type": "stream",
     "text": [
      "Total Params: 3638981\n",
      "Epoch 1/30\n",
      "34/34 [==============================] - 161s 5s/step - loss: 1.9077 - categorical_accuracy: 0.3786 - val_loss: 2.4778 - val_categorical_accuracy: 0.4200\n",
      "\n",
      "Epoch 00001: saving model to model_init_2021-02-0809_28_54.580541/model-00001-1.91504-0.37557-2.47784-0.42000.h5\n",
      "Epoch 2/30\n",
      "34/34 [==============================] - 122s 4s/step - loss: 1.3692 - categorical_accuracy: 0.5239 - val_loss: 1.0299 - val_categorical_accuracy: 0.5800\n",
      "\n",
      "Epoch 00002: saving model to model_init_2021-02-0809_28_54.580541/model-00002-1.39126-0.52036-1.02993-0.58000.h5\n",
      "Epoch 3/30\n",
      "34/34 [==============================] - 134s 4s/step - loss: 1.2076 - categorical_accuracy: 0.5883 - val_loss: 0.9487 - val_categorical_accuracy: 0.6600\n",
      "\n",
      "Epoch 00003: saving model to model_init_2021-02-0809_28_54.580541/model-00003-1.18657-0.59050-0.94872-0.66000.h5\n",
      "Epoch 4/30\n",
      "34/34 [==============================] - 133s 4s/step - loss: 1.0710 - categorical_accuracy: 0.6133 - val_loss: 1.2644 - val_categorical_accuracy: 0.5300\n",
      "\n",
      "Epoch 00004: saving model to model_init_2021-02-0809_28_54.580541/model-00004-1.06018-0.61614-1.26439-0.53000.h5\n",
      "Epoch 5/30\n",
      "34/34 [==============================] - 133s 4s/step - loss: 1.0201 - categorical_accuracy: 0.6218 - val_loss: 1.4520 - val_categorical_accuracy: 0.4400\n",
      "\n",
      "Epoch 00005: saving model to model_init_2021-02-0809_28_54.580541/model-00005-1.02503-0.62066-1.45200-0.44000.h5\n",
      "Epoch 6/30\n",
      "34/34 [==============================] - 133s 4s/step - loss: 0.9005 - categorical_accuracy: 0.6678 - val_loss: 1.0039 - val_categorical_accuracy: 0.6100\n",
      "\n",
      "Epoch 00006: saving model to model_init_2021-02-0809_28_54.580541/model-00006-0.91035-0.66365-1.00392-0.61000.h5\n",
      "Epoch 7/30\n",
      "34/34 [==============================] - 132s 4s/step - loss: 0.8167 - categorical_accuracy: 0.6928 - val_loss: 0.9218 - val_categorical_accuracy: 0.7100\n",
      "\n",
      "Epoch 00007: saving model to model_init_2021-02-0809_28_54.580541/model-00007-0.82227-0.68929-0.92178-0.71000.h5\n",
      "Epoch 8/30\n",
      "34/34 [==============================] - 132s 4s/step - loss: 0.7722 - categorical_accuracy: 0.7292 - val_loss: 1.0493 - val_categorical_accuracy: 0.6700\n",
      "\n",
      "Epoch 00008: saving model to model_init_2021-02-0809_28_54.580541/model-00008-0.70071-0.73906-1.04929-0.67000.h5\n",
      "Epoch 9/30\n",
      "34/34 [==============================] - 132s 4s/step - loss: 0.8656 - categorical_accuracy: 0.6939 - val_loss: 1.0264 - val_categorical_accuracy: 0.6700\n",
      "\n",
      "Epoch 00009: saving model to model_init_2021-02-0809_28_54.580541/model-00009-0.84267-0.70287-1.02644-0.67000.h5\n",
      "Epoch 10/30\n",
      "34/34 [==============================] - 132s 4s/step - loss: 0.7804 - categorical_accuracy: 0.7134 - val_loss: 0.9340 - val_categorical_accuracy: 0.7500\n",
      "\n",
      "Epoch 00010: saving model to model_init_2021-02-0809_28_54.580541/model-00010-0.79075-0.71041-0.93396-0.75000.h5\n",
      "Epoch 11/30\n",
      "34/34 [==============================] - 131s 4s/step - loss: 0.6567 - categorical_accuracy: 0.7528 - val_loss: 0.8981 - val_categorical_accuracy: 0.7300\n",
      "\n",
      "Epoch 00011: saving model to model_init_2021-02-0809_28_54.580541/model-00011-0.64224-0.75490-0.89810-0.73000.h5\n",
      "Epoch 12/30\n",
      "34/34 [==============================] - 130s 4s/step - loss: 0.6726 - categorical_accuracy: 0.7539 - val_loss: 0.8986 - val_categorical_accuracy: 0.7100\n",
      "\n",
      "Epoch 00012: saving model to model_init_2021-02-0809_28_54.580541/model-00012-0.64775-0.76018-0.89860-0.71000.h5\n",
      "Epoch 13/30\n",
      "34/34 [==============================] - 131s 4s/step - loss: 0.6265 - categorical_accuracy: 0.7822 - val_loss: 0.9436 - val_categorical_accuracy: 0.6700\n",
      "\n",
      "Epoch 00013: saving model to model_init_2021-02-0809_28_54.580541/model-00013-0.60446-0.78507-0.94361-0.67000.h5\n",
      "Epoch 14/30\n",
      "34/34 [==============================] - 131s 4s/step - loss: 0.6374 - categorical_accuracy: 0.7609 - val_loss: 1.1277 - val_categorical_accuracy: 0.6500\n",
      "\n",
      "Epoch 00014: saving model to model_init_2021-02-0809_28_54.580541/model-00014-0.57724-0.77149-1.12771-0.65000.h5\n",
      "Epoch 15/30\n",
      "34/34 [==============================] - 131s 4s/step - loss: 0.4948 - categorical_accuracy: 0.8149 - val_loss: 0.8702 - val_categorical_accuracy: 0.7200\n",
      "\n",
      "Epoch 00015: saving model to model_init_2021-02-0809_28_54.580541/model-00015-0.49061-0.81448-0.87017-0.72000.h5\n",
      "Epoch 16/30\n",
      "34/34 [==============================] - 130s 4s/step - loss: 0.4858 - categorical_accuracy: 0.8260 - val_loss: 0.9621 - val_categorical_accuracy: 0.7000\n",
      "\n",
      "Epoch 00016: saving model to model_init_2021-02-0809_28_54.580541/model-00016-0.48421-0.82579-0.96214-0.70000.h5\n",
      "Epoch 17/30\n",
      "34/34 [==============================] - 131s 4s/step - loss: 0.4536 - categorical_accuracy: 0.8311 - val_loss: 0.9509 - val_categorical_accuracy: 0.7000\n",
      "\n",
      "Epoch 00017: saving model to model_init_2021-02-0809_28_54.580541/model-00017-0.42723-0.83937-0.95086-0.70000.h5\n",
      "Epoch 18/30\n",
      "34/34 [==============================] - 130s 4s/step - loss: 0.4704 - categorical_accuracy: 0.8297 - val_loss: 0.9522 - val_categorical_accuracy: 0.7300\n",
      "\n",
      "Epoch 00018: saving model to model_init_2021-02-0809_28_54.580541/model-00018-0.39869-0.84615-0.95218-0.73000.h5\n",
      "Epoch 19/30\n",
      "34/34 [==============================] - 130s 4s/step - loss: 0.4479 - categorical_accuracy: 0.8366 - val_loss: 0.6865 - val_categorical_accuracy: 0.7700\n",
      "\n",
      "Epoch 00019: saving model to model_init_2021-02-0809_28_54.580541/model-00019-0.42508-0.84087-0.68651-0.77000.h5\n",
      "Epoch 20/30\n",
      "34/34 [==============================] - 131s 4s/step - loss: 0.4536 - categorical_accuracy: 0.8300 - val_loss: 0.7400 - val_categorical_accuracy: 0.8000\n",
      "\n",
      "Epoch 00020: saving model to model_init_2021-02-0809_28_54.580541/model-00020-0.43063-0.84238-0.73998-0.80000.h5\n",
      "Epoch 21/30\n",
      "34/34 [==============================] - 130s 4s/step - loss: 0.3127 - categorical_accuracy: 0.8812 - val_loss: 0.8752 - val_categorical_accuracy: 0.7500\n",
      "\n",
      "Epoch 00021: saving model to model_init_2021-02-0809_28_54.580541/model-00021-0.31124-0.88235-0.87524-0.75000.h5\n",
      "Epoch 22/30\n",
      "34/34 [==============================] - 130s 4s/step - loss: 0.3990 - categorical_accuracy: 0.8698 - val_loss: 0.6950 - val_categorical_accuracy: 0.7800\n",
      "\n",
      "Epoch 00022: saving model to model_init_2021-02-0809_28_54.580541/model-00022-0.35836-0.88311-0.69495-0.78000.h5\n",
      "Epoch 23/30\n",
      "34/34 [==============================] - 129s 4s/step - loss: 0.4603 - categorical_accuracy: 0.8407 - val_loss: 1.0154 - val_categorical_accuracy: 0.6500\n",
      "\n",
      "Epoch 00023: saving model to model_init_2021-02-0809_28_54.580541/model-00023-0.45638-0.84087-1.01537-0.65000.h5\n",
      "\n",
      "Epoch 00023: ReduceLROnPlateau reducing learning rate to 3.9999998989515007e-05.\n",
      "Epoch 24/30\n",
      "34/34 [==============================] - 128s 4s/step - loss: 0.3143 - categorical_accuracy: 0.8749 - val_loss: 0.8151 - val_categorical_accuracy: 0.7200\n",
      "\n",
      "Epoch 00024: saving model to model_init_2021-02-0809_28_54.580541/model-00024-0.30972-0.88009-0.81515-0.72000.h5\n",
      "Epoch 25/30\n",
      "34/34 [==============================] - 131s 4s/step - loss: 0.3143 - categorical_accuracy: 0.8863 - val_loss: 0.7099 - val_categorical_accuracy: 0.7600\n",
      "\n",
      "Epoch 00025: saving model to model_init_2021-02-0809_28_54.580541/model-00025-0.30873-0.88763-0.70990-0.76000.h5\n",
      "Epoch 26/30\n",
      "34/34 [==============================] - 130s 4s/step - loss: 0.2952 - categorical_accuracy: 0.8940 - val_loss: 0.6786 - val_categorical_accuracy: 0.7700\n",
      "\n",
      "Epoch 00026: saving model to model_init_2021-02-0809_28_54.580541/model-00026-0.28148-0.89970-0.67865-0.77000.h5\n",
      "Epoch 27/30\n",
      "34/34 [==============================] - 130s 4s/step - loss: 0.2722 - categorical_accuracy: 0.9021 - val_loss: 0.6254 - val_categorical_accuracy: 0.8000\n",
      "\n",
      "Epoch 00027: saving model to model_init_2021-02-0809_28_54.580541/model-00027-0.27492-0.89970-0.62537-0.80000.h5\n",
      "Epoch 28/30\n",
      "34/34 [==============================] - 130s 4s/step - loss: 0.2615 - categorical_accuracy: 0.8966 - val_loss: 0.6795 - val_categorical_accuracy: 0.8000\n",
      "\n",
      "Epoch 00028: saving model to model_init_2021-02-0809_28_54.580541/model-00028-0.26356-0.89819-0.67949-0.80000.h5\n",
      "Epoch 29/30\n",
      "34/34 [==============================] - 130s 4s/step - loss: 0.2615 - categorical_accuracy: 0.9021 - val_loss: 0.6004 - val_categorical_accuracy: 0.8400\n",
      "\n",
      "Epoch 00029: saving model to model_init_2021-02-0809_28_54.580541/model-00029-0.26639-0.89970-0.60035-0.84000.h5\n",
      "Epoch 30/30\n",
      "34/34 [==============================] - 130s 4s/step - loss: 0.2586 - categorical_accuracy: 0.9032 - val_loss: 0.6486 - val_categorical_accuracy: 0.8200\n",
      "\n",
      "Epoch 00030: saving model to model_init_2021-02-0809_28_54.580541/model-00030-0.23481-0.91327-0.64857-0.82000.h5\n"
     ]
    }
   ],
   "source": [
    "\n",
    "print(\"Total Params:\", conv_3d17_model.count_params())\n",
    "history_model17=conv_3d17.train_model(conv_3d17_model,augment_data=True)\n"
   ]
  },
  {
   "cell_type": "markdown",
   "metadata": {},
   "source": [
    "### End of Notebook"
   ]
  },
  {
   "cell_type": "code",
   "execution_count": null,
   "metadata": {},
   "outputs": [],
   "source": []
  }
 ],
 "metadata": {
  "kernelspec": {
   "display_name": "Python 3",
   "language": "python",
   "name": "python3"
  },
  "language_info": {
   "codemirror_mode": {
    "name": "ipython",
    "version": 3
   },
   "file_extension": ".py",
   "mimetype": "text/x-python",
   "name": "python",
   "nbconvert_exporter": "python",
   "pygments_lexer": "ipython3",
   "version": "3.8.5"
  }
 },
 "nbformat": 4,
 "nbformat_minor": 2
}
